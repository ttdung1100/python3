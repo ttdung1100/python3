{
 "cells": [
  {
   "cell_type": "code",
   "execution_count": 1,
   "metadata": {},
   "outputs": [
    {
     "name": "stdout",
     "output_type": "stream",
     "text": [
      "[114, 160, 60, 27]\n",
      "[74, 97, 73, 14]\n",
      "[119, 157, 112, 23]\n"
     ]
    }
   ],
   "source": [
    "# Program to multiply two matrices using nested loops\n",
    "\n",
    "# 3x3 matrix\n",
    "X = [[12,7,3],\n",
    "    [4 ,5,6],\n",
    "    [7 ,8,9]]\n",
    "# 3x4 matrix\n",
    "Y = [[5,8,1,2],\n",
    "    [6,7,3,0],\n",
    "    [4,5,9,1]]\n",
    "# result is 3x4\n",
    "result = [[0,0,0,0],\n",
    "         [0,0,0,0],\n",
    "         [0,0,0,0]]\n",
    "\n",
    "# iterate through rows of X\n",
    "for i in range(len(X)):\n",
    "   # iterate through columns of Y\n",
    "   for j in range(len(Y[0])):\n",
    "       # iterate through rows of Y\n",
    "       for k in range(len(Y)):\n",
    "           result[i][j] += X[i][k] * Y[k][j]\n",
    "\n",
    "for r in result:\n",
    "   print(r)"
   ]
  },
  {
   "cell_type": "code",
   "execution_count": 2,
   "metadata": {},
   "outputs": [
    {
     "name": "stdout",
     "output_type": "stream",
     "text": [
      "The sorted words are:\n",
      "Example\n",
      "Hello\n",
      "Is\n",
      "With\n",
      "an\n",
      "cased\n",
      "letters\n",
      "this\n"
     ]
    }
   ],
   "source": [
    "# Program to sort alphabetically the words form a string provided by the user\n",
    "\n",
    "# change this value for a different result\n",
    "my_str = \"Hello this Is an Example With cased letters\"\n",
    "\n",
    "# uncomment to take input from the user\n",
    "#my_str = input(\"Enter a string: \")\n",
    "\n",
    "# breakdown the string into a list of words\n",
    "words = my_str.split()\n",
    "\n",
    "# sort the list\n",
    "words.sort()\n",
    "\n",
    "# display the sorted words\n",
    "\n",
    "print(\"The sorted words are:\")\n",
    "for word in words:\n",
    "   print(word)"
   ]
  },
  {
   "cell_type": "code",
   "execution_count": 3,
   "metadata": {},
   "outputs": [
    {
     "name": "stdout",
     "output_type": "stream",
     "text": [
      "Hello he said and went\n"
     ]
    }
   ],
   "source": [
    "# define punctuation\n",
    "punctuations = '''!()-[]{};:'\"\\,<>./?@#$%^&*_~'''\n",
    "\n",
    "my_str = \"Hello!!!, he said ---and went.\"\n",
    "\n",
    "# To take input from the user\n",
    "# my_str = input(\"Enter a string: \")\n",
    "\n",
    "# remove punctuation from the string\n",
    "no_punct = \"\"\n",
    "for char in my_str:\n",
    "   if char not in punctuations:\n",
    "       no_punct = no_punct + char\n",
    "\n",
    "# display the unpunctuated string\n",
    "print(no_punct)"
   ]
  },
  {
   "cell_type": "code",
   "execution_count": 4,
   "metadata": {},
   "outputs": [
    {
     "name": "stdout",
     "output_type": "stream",
     "text": [
      "It is palindrome\n"
     ]
    }
   ],
   "source": [
    "# Program to check if a string\n",
    "#  is palindrome or not\n",
    "\n",
    "# change this value for a different output\n",
    "my_str = 'aIbohPhoBiA'\n",
    "\n",
    "# make it suitable for caseless comparison\n",
    "my_str = my_str.casefold()\n",
    "\n",
    "# reverse the string\n",
    "rev_str = reversed(my_str)\n",
    "\n",
    "# check if the string is equal to its reverse\n",
    "if list(my_str) == list(rev_str):\n",
    "   print(\"It is palindrome\")\n",
    "else:\n",
    "   print(\"It is not palindrome\")"
   ]
  },
  {
   "cell_type": "code",
   "execution_count": 5,
   "metadata": {},
   "outputs": [
    {
     "name": "stdout",
     "output_type": "stream",
     "text": [
      "[114, 160, 60, 27]\n",
      "[74, 97, 73, 14]\n",
      "[119, 157, 112, 23]\n"
     ]
    }
   ],
   "source": [
    "# Program to multiply two matrices using nested loops\n",
    "\n",
    "# 3x3 matrix\n",
    "X = [[12,7,3],\n",
    "    [4 ,5,6],\n",
    "    [7 ,8,9]]\n",
    "# 3x4 matrix\n",
    "Y = [[5,8,1,2],\n",
    "    [6,7,3,0],\n",
    "    [4,5,9,1]]\n",
    "# result is 3x4\n",
    "result = [[0,0,0,0],\n",
    "         [0,0,0,0],\n",
    "         [0,0,0,0]]\n",
    "\n",
    "# iterate through rows of X\n",
    "for i in range(len(X)):\n",
    "   # iterate through columns of Y\n",
    "   for j in range(len(Y[0])):\n",
    "       # iterate through rows of Y\n",
    "       for k in range(len(Y)):\n",
    "           result[i][j] += X[i][k] * Y[k][j]\n",
    "\n",
    "for r in result:\n",
    "   print(r)"
   ]
  },
  {
   "cell_type": "code",
   "execution_count": 6,
   "metadata": {},
   "outputs": [
    {
     "name": "stdout",
     "output_type": "stream",
     "text": [
      "[12, 4, 3]\n",
      "[7, 5, 8]\n"
     ]
    }
   ],
   "source": [
    "# Program to transpose a matrix using nested loop\n",
    "\n",
    "X = [[12,7],\n",
    "    [4 ,5],\n",
    "    [3 ,8]]\n",
    "\n",
    "result = [[0,0,0],\n",
    "         [0,0,0]]\n",
    "\n",
    "# iterate through rows\n",
    "for i in range(len(X)):\n",
    "   # iterate through columns\n",
    "   for j in range(len(X[0])):\n",
    "       result[j][i] = X[i][j]\n",
    "\n",
    "for r in result:\n",
    "   print(r)"
   ]
  },
  {
   "cell_type": "code",
   "execution_count": 7,
   "metadata": {},
   "outputs": [
    {
     "name": "stdout",
     "output_type": "stream",
     "text": [
      "[17, 15, 4]\n",
      "[10, 12, 9]\n",
      "[11, 13, 18]\n"
     ]
    }
   ],
   "source": [
    "# Program to add two matrices using nested loop\n",
    "\n",
    "X = [[12,7,3],\n",
    "    [4 ,5,6],\n",
    "    [7 ,8,9]]\n",
    "\n",
    "Y = [[5,8,1],\n",
    "    [6,7,3],\n",
    "    [4,5,9]]\n",
    "\n",
    "result = [[0,0,0],\n",
    "         [0,0,0],\n",
    "         [0,0,0]]\n",
    "\n",
    "# iterate through rows\n",
    "for i in range(len(X)):\n",
    "   # iterate through columns\n",
    "   for j in range(len(X[0])):\n",
    "       result[i][j] = X[i][j] + Y[i][j]\n",
    "\n",
    "for r in result:\n",
    "   print(r)"
   ]
  },
  {
   "cell_type": "code",
   "execution_count": 8,
   "metadata": {},
   "outputs": [
    {
     "name": "stdout",
     "output_type": "stream",
     "text": [
      "The decimal value of 344 is:\n",
      "0b101011000 in binary.\n",
      "0o530 in octal.\n",
      "0x158 in hexadecimal.\n"
     ]
    }
   ],
   "source": [
    "# Python program to convert decimal number into binary, octal and hexadecimal number system\n",
    "\n",
    "# Change this line for a different result\n",
    "dec = 344\n",
    "\n",
    "print(\"The decimal value of\",dec,\"is:\")\n",
    "print(bin(dec),\"in binary.\")\n",
    "print(oct(dec),\"in octal.\")\n",
    "print(hex(dec),\"in hexadecimal.\")"
   ]
  },
  {
   "cell_type": "code",
   "execution_count": 9,
   "metadata": {},
   "outputs": [
    {
     "name": "stdout",
     "output_type": "stream",
     "text": [
      "Numbers divisible by 13 are [65, 39, 221]\n"
     ]
    }
   ],
   "source": [
    "# Python Program to find numbers divisible by thirteen from a list using anonymous function\n",
    "\n",
    "# Take a list of numbers\n",
    "my_list = [12, 65, 54, 39, 102, 339, 221,]\n",
    "\n",
    "# use anonymous function to filter\n",
    "result = list(filter(lambda x: (x % 13 == 0), my_list))\n",
    "\n",
    "# display the result\n",
    "print(\"Numbers divisible by 13 are\",result)"
   ]
  },
  {
   "cell_type": "code",
   "execution_count": 10,
   "metadata": {},
   "outputs": [
    {
     "name": "stdout",
     "output_type": "stream",
     "text": [
      "The sum is 136\n"
     ]
    }
   ],
   "source": [
    "# Python program to find the sum of natural numbers up to n where n is provided by user\n",
    "\n",
    "# change this value for a different result\n",
    "num = 16\n",
    "\n",
    "# uncomment to take input from the user\n",
    "#num = int(input(\"Enter a number: \"))\n",
    "\n",
    "if num < 0:\n",
    "   print(\"Enter a positive number\")\n",
    "else:\n",
    "   sum = 0\n",
    "   # use while loop to iterate un till zero\n",
    "   while(num > 0):\n",
    "       sum += num\n",
    "       num -= 1\n",
    "   print(\"The sum is\",sum)"
   ]
  },
  {
   "cell_type": "code",
   "execution_count": 11,
   "metadata": {},
   "outputs": [
    {
     "name": "stdout",
     "output_type": "stream",
     "text": [
      "12 x 1 = 12\n",
      "12 x 2 = 24\n",
      "12 x 3 = 36\n",
      "12 x 4 = 48\n",
      "12 x 5 = 60\n",
      "12 x 6 = 72\n",
      "12 x 7 = 84\n",
      "12 x 8 = 96\n",
      "12 x 9 = 108\n",
      "12 x 10 = 120\n"
     ]
    }
   ],
   "source": [
    "''' Python program to find the\n",
    "multiplication table (from 1 to 10)'''\n",
    "\n",
    "num = 12\n",
    "\n",
    "# To take input from the user\n",
    "# num = int(input(\"Display multiplication table of? \"))\n",
    "\n",
    "# use for loop to iterate 10 times\n",
    "for i in range(1, 11):\n",
    "   print(num,'x',i,'=',num*i)"
   ]
  },
  {
   "cell_type": "code",
   "execution_count": 12,
   "metadata": {},
   "outputs": [
    {
     "name": "stdout",
     "output_type": "stream",
     "text": [
      "The solution are (-3+0j) and (-2+0j)\n"
     ]
    }
   ],
   "source": [
    "# Solve the quadratic equation ax**2 + bx + c = 0\n",
    "\n",
    "# import complex math module\n",
    "import cmath\n",
    "\n",
    "a = 1\n",
    "b = 5\n",
    "c = 6\n",
    "\n",
    "# To take coefficient input from the users\n",
    "# a = float(input('Enter a: '))\n",
    "# b = float(input('Enter b: '))\n",
    "# c = float(input('Enter c: '))\n",
    "\n",
    "# calculate the discriminant\n",
    "d = (b**2) - (4*a*c)\n",
    "\n",
    "# find two solutions\n",
    "sol1 = (-b-cmath.sqrt(d))/(2*a)\n",
    "sol2 = (-b+cmath.sqrt(d))/(2*a)\n",
    "\n",
    "print('The solution are {0} and {1}'.format(sol1,sol2))"
   ]
  },
  {
   "cell_type": "code",
   "execution_count": 13,
   "metadata": {},
   "outputs": [
    {
     "name": "stdout",
     "output_type": "stream",
     "text": [
      "2000 is a leap year\n"
     ]
    }
   ],
   "source": [
    "# Python program to check if the input year is a leap year or not\n",
    "\n",
    "year = 2000\n",
    "\n",
    "# To get year (integer input) from the user\n",
    "# year = int(input(\"Enter a year: \"))\n",
    "\n",
    "if (year % 4) == 0:\n",
    "   if (year % 100) == 0:\n",
    "       if (year % 400) == 0:\n",
    "           print(\"{0} is a leap year\".format(year))\n",
    "       else:\n",
    "           print(\"{0} is not a leap year\".format(year))\n",
    "   else:\n",
    "       print(\"{0} is a leap year\".format(year))\n",
    "else:\n",
    "   print(\"{0} is not a leap year\".format(year))"
   ]
  },
  {
   "cell_type": "code",
   "execution_count": 14,
   "metadata": {},
   "outputs": [
    {
     "name": "stdin",
     "output_type": "stream",
     "text": [
      "Enter a number:  100\n"
     ]
    },
    {
     "name": "stdout",
     "output_type": "stream",
     "text": [
      "100 is Even\n"
     ]
    }
   ],
   "source": [
    "# Python program to check if the input number is odd or even.\n",
    "# A number is even if division by 2 give a remainder of 0.\n",
    "# If remainder is 1, it is odd number.\n",
    "num = int(input(\"Enter a number: \"))\n",
    "if (num % 2) == 0:\n",
    "   print(\"{0} is Even\".format(num))\n",
    "else:\n",
    "   print(\"{0} is Odd\".format(num))\n"
   ]
  },
  {
   "cell_type": "code",
   "execution_count": 15,
   "metadata": {},
   "outputs": [
    {
     "name": "stdin",
     "output_type": "stream",
     "text": [
      "Enter a number:  102\n"
     ]
    },
    {
     "name": "stdout",
     "output_type": "stream",
     "text": [
      "Positive number\n"
     ]
    }
   ],
   "source": [
    "num = float(input(\"Enter a number: \"))\n",
    "if num > 0:\n",
    "   print(\"Positive number\")\n",
    "elif num == 0:\n",
    "   print(\"Zero\")\n",
    "else:\n",
    "   print(\"Negative number\")\n"
   ]
  },
  {
   "cell_type": "code",
   "execution_count": 16,
   "metadata": {},
   "outputs": [
    {
     "name": "stdin",
     "output_type": "stream",
     "text": [
      "Enter a number:  100\n"
     ]
    },
    {
     "name": "stdout",
     "output_type": "stream",
     "text": [
      "100 is Even\n"
     ]
    }
   ],
   "source": [
    "# Python program to check if the input number is odd or even.\n",
    "# A number is even if division by 2 give a remainder of 0.\n",
    "# If remainder is 1, it is odd number.\n",
    "num = int(input(\"Enter a number: \"))\n",
    "if (num % 2) == 0:\n",
    "   print(\"{0} is Even\".format(num))\n",
    "else:\n",
    "   print(\"{0} is Odd\".format(num))\n"
   ]
  },
  {
   "cell_type": "code",
   "execution_count": 17,
   "metadata": {},
   "outputs": [
    {
     "name": "stdout",
     "output_type": "stream",
     "text": [
      "The sum is 136\n"
     ]
    }
   ],
   "source": [
    "# Python program to find the sum of natural numbers up to n where n is provided by user\n",
    "\n",
    "# change this value for a different result\n",
    "num = 16\n",
    "\n",
    "# uncomment to take input from the user\n",
    "#num = int(input(\"Enter a number: \"))\n",
    "\n",
    "if num < 0:\n",
    "   print(\"Enter a positive number\")\n",
    "else:\n",
    "   sum = 0\n",
    "   # use while loop to iterate un till zero\n",
    "   while(num > 0):\n",
    "       sum += num\n",
    "       num -= 1\n",
    "   print(\"The sum is\",sum)"
   ]
  },
  {
   "cell_type": "code",
   "execution_count": 19,
   "metadata": {},
   "outputs": [
    {
     "name": "stdin",
     "output_type": "stream",
     "text": [
      "Enter a number:  1034\n"
     ]
    },
    {
     "name": "stdout",
     "output_type": "stream",
     "text": [
      "1034 is Even\n"
     ]
    }
   ],
   "source": [
    "# Python program to check if the input number is odd or even.\n",
    "# A number is even if division by 2 give a remainder of 0.\n",
    "# If remainder is 1, it is odd number.\n",
    "num = int(input(\"Enter a number: \"))\n",
    "if (num % 2) == 0:\n",
    "   print(\"{0} is Even\".format(num))\n",
    "else:\n",
    "   print(\"{0} is Odd\".format(num))\n"
   ]
  },
  {
   "cell_type": "code",
   "execution_count": 20,
   "metadata": {},
   "outputs": [
    {
     "name": "stdin",
     "output_type": "stream",
     "text": [
      " Please Enter any numeric Value :  100\n"
     ]
    },
    {
     "name": "stdout",
     "output_type": "stream",
     "text": [
      "The Square of a Given Number 100.0  = 10000.0\n"
     ]
    }
   ],
   "source": [
    "# Python Program to Calculate Square of a Number\n",
    "\n",
    "number = float(input(\" Please Enter any numeric Value : \"))\n",
    "\n",
    "square = number * number\n",
    "\n",
    "print(\"The Square of a Given Number {0}  = {1}\".format(number, square))\n"
   ]
  },
  {
   "cell_type": "code",
   "execution_count": 21,
   "metadata": {},
   "outputs": [
    {
     "name": "stdin",
     "output_type": "stream",
     "text": [
      " Please Enter any numeric Value :  204\n"
     ]
    },
    {
     "name": "stdout",
     "output_type": "stream",
     "text": [
      "The Square Root of a Given Number 204.0  = 14.2828568570857\n"
     ]
    }
   ],
   "source": [
    "# Python Program to find Square root of a Number\n",
    "\n",
    "import math\n",
    "\n",
    "number = float(input(\" Please Enter any numeric Value : \"))\n",
    "\n",
    "squareRoot = math.sqrt(number)\n",
    "\n",
    "print(\"The Square Root of a Given Number {0}  = {1}\".format(number, squareRoot))\n"
   ]
  },
  {
   "cell_type": "code",
   "execution_count": 23,
   "metadata": {},
   "outputs": [
    {
     "name": "stdin",
     "output_type": "stream",
     "text": [
      " Please Enter the Principal Amount :  203\n",
      " Please Enter the Rate Of Interest   :  4\n",
      " Please Enter Time period in Years   :  2\n"
     ]
    },
    {
     "name": "stdout",
     "output_type": "stream",
     "text": [
      "Future Compound Interest for Principal Amount 203.0 = 219.56480000000002\n",
      "Compound Interest for Principal Amount 203.0 = 16.56480000000002\n"
     ]
    }
   ],
   "source": [
    "# Python Program to find Compound Interest\n",
    "\n",
    "import math\n",
    "\n",
    "princ_amount = float(input(\" Please Enter the Principal Amount : \"))\n",
    "rate_of_int = float(input(\" Please Enter the Rate Of Interest   : \"))\n",
    "time_period = float(input(\" Please Enter Time period in Years   : \"))\n",
    "\n",
    "ci_future = princ_amount * (math.pow((1 + rate_of_int / 100), time_period)) \n",
    "compound_int = ci_future - princ_amount\n",
    "\n",
    "print(\"Future Compound Interest for Principal Amount {0} = {1}\".format(princ_amount, ci_future))\n",
    "print(\"Compound Interest for Principal Amount {0} = {1}\".format(princ_amount, compound_int))\n"
   ]
  },
  {
   "cell_type": "code",
   "execution_count": 24,
   "metadata": {},
   "outputs": [
    {
     "name": "stdin",
     "output_type": "stream",
     "text": [
      " Please Enter any Positive Integer :  23\n"
     ]
    },
    {
     "name": "stdout",
     "output_type": "stream",
     "text": [
      "Given Number 23 is Not Divisible by 5 and 11\n"
     ]
    }
   ],
   "source": [
    "# Python Program to Check Number is Divisible by 5 and 11\n",
    "\n",
    "number = int(input(\" Please Enter any Positive Integer : \"))\n",
    "\n",
    "if((number % 5 == 0) and (number % 11 == 0)):\n",
    "    print(\"Given Number {0} is Divisible by 5 and 11\".format(number))\n",
    "else:\n",
    "    print(\"Given Number {0} is Not Divisible by 5 and 11\".format(number))\n"
   ]
  },
  {
   "cell_type": "code",
   "execution_count": 25,
   "metadata": {},
   "outputs": [
    {
     "name": "stdin",
     "output_type": "stream",
     "text": [
      " Please Enter any Positive Integer :  111\n",
      " Please Enter Exponent Value :  23\n"
     ]
    },
    {
     "name": "stdout",
     "output_type": "stream",
     "text": [
      "The Result of 111 Power 23 = 110262671884678335086058790880290527409467714831\n"
     ]
    }
   ],
   "source": [
    "# Python Program to find Power of a Number\n",
    "\n",
    "number = int(input(\" Please Enter any Positive Integer : \"))\n",
    "exponent = int(input(\" Please Enter Exponent Value : \"))\n",
    "power = 1\n",
    "\n",
    "for i in range(1, exponent + 1):\n",
    "    power = power * number\n",
    "    \n",
    "print(\"The Result of {0} Power {1} = {2}\".format(number, exponent, power))\n"
   ]
  },
  {
   "cell_type": "code",
   "execution_count": 26,
   "metadata": {},
   "outputs": [
    {
     "name": "stdout",
     "output_type": "stream",
     "text": [
      " Multiplication Table \n",
      "8  *  1  =  8\n",
      "8  *  2  =  16\n",
      "8  *  3  =  24\n",
      "8  *  4  =  32\n",
      "8  *  5  =  40\n",
      "8  *  6  =  48\n",
      "8  *  7  =  56\n",
      "8  *  8  =  64\n",
      "8  *  9  =  72\n",
      "8  *  10  =  80\n",
      "==============\n",
      "9  *  1  =  9\n",
      "9  *  2  =  18\n",
      "9  *  3  =  27\n",
      "9  *  4  =  36\n",
      "9  *  5  =  45\n",
      "9  *  6  =  54\n",
      "9  *  7  =  63\n",
      "9  *  8  =  72\n",
      "9  *  9  =  81\n",
      "9  *  10  =  90\n",
      "==============\n"
     ]
    }
   ],
   "source": [
    "# Python Program to Print Multiplication Table\n",
    "\n",
    "print(\" Multiplication Table \")\n",
    "\n",
    "for i in range(8, 10):\n",
    "    for j in range(1, 11):\n",
    "        print('{0}  *  {1}  =  {2}'.format(i, j, i*j))\n",
    "    print('==============')\n"
   ]
  },
  {
   "cell_type": "code",
   "execution_count": null,
   "metadata": {},
   "outputs": [],
   "source": [
    "# Python Program to find roots of a Quadratic Equation\n",
    "import math\n",
    "\n",
    "a = int(input(\"Please Enter a Value of a Quadratic Equation : \"))\n",
    "b = int(input(\"Please Enter b Value of a Quadratic Equation : \"))\n",
    "c = int(input(\"Please Enter c Value of a Quadratic Equation : \"))\n",
    "\n",
    "discriminant = (b * b) - (4 * a * c)\n",
    "\n",
    "if(discriminant > 0):\n",
    "    root1 = (-b + math.sqrt(discriminant) / (2 * a))\n",
    "    root2 = (-b - math.sqrt(discriminant) / (2 * a))\n",
    "    print(\"Two Distinct Real Roots Exists: root1 = %.2f and root2 = %.2f\" %(root1, root2))\n",
    "elif(discriminant == 0):\n",
    "    root1 = root2 = -b / (2 * a)\n",
    "    print(\"Two Equal and Real Roots Exists: root1 = %.2f and root2 = %.2f\" %(root1, root2))\n",
    "elif(discriminant < 0):\n",
    "    root1 = root2 = -b / (2 * a)\n",
    "    imaginary = math.sqrt(-discriminant) / (2 * a)\n",
    "    print(\"Two Distinct Complex Roots Exists: root1 = %.2f+%.2f and root2 = %.2f-%.2f\" %(root1, imaginary, root2, imaginary))\n"
   ]
  },
  {
   "cell_type": "code",
   "execution_count": null,
   "metadata": {},
   "outputs": [],
   "source": [
    "# Python Program to find Student Grade\n",
    " \n",
    "english = float(input(\" Please enter English Marks: \"))\n",
    "math = float(input(\" Please enter Math score: \"))\n",
    "computers = float(input(\" Please enter Computer Marks: \"))\n",
    "physics = float(input(\" Please enter Physics Marks: \"))\n",
    "chemistry = float(input(\" Please enter Chemistry Marks: \"))\n",
    "\n",
    "total = english + math + computers + physics + chemistry\n",
    "percentage = (total / 500) * 100\n",
    "\n",
    "print(\"Total Marks = %.2f\"  %total)\n",
    "print(\"Marks Percentage = %.2f\"  %percentage)\n"
   ]
  },
  {
   "cell_type": "code",
   "execution_count": null,
   "metadata": {},
   "outputs": [],
   "source": [
    "# Python Program to Calculate Simple Interest\n",
    "\n",
    "princ_amount = float(input(\" Please Enter the Principal Amount : \"))\n",
    "rate_of_int = float(input(\" Please Enter the Rate Of Interest   : \"))\n",
    "time_period = float(input(\" Please Enter Time period in Years   : \"))\n",
    "\n",
    "simple_interest = (princ_amount * rate_of_int * time_period) / 100\n",
    "\n",
    "print(\"\\nSimple Interest for Principal Amount {0} = {1}\".format(princ_amount, simple_interest))\n"
   ]
  },
  {
   "cell_type": "code",
   "execution_count": null,
   "metadata": {},
   "outputs": [],
   "source": [
    "# Python Program to Calculate Electricity Bill\n",
    " \n",
    "units = int(input(\" Please enter Number of Units you Consumed : \"))\n",
    "\n",
    "if(units < 50):\n",
    "    amount = units * 2.60\n",
    "    surcharge = 25\n",
    "elif(units <= 100):\n",
    "    amount = 130 + ((units - 50) * 3.25)\n",
    "    surcharge = 35\n",
    "elif(units <= 200):\n",
    "    amount = 130 + 162.50 + ((units - 100) * 5.26)\n",
    "    surcharge = 45\n",
    "else:\n",
    "    amount = 130 + 162.50 + 526 + ((units - 200) * 8.45)\n",
    "    surcharge = 75\n",
    "\n",
    "total = amount + surcharge\n",
    "print(\"\\nElectricity Bill = %.2f\"  %total)\n"
   ]
  },
  {
   "cell_type": "code",
   "execution_count": null,
   "metadata": {},
   "outputs": [],
   "source": [
    "# Python Program to find Total, Average, and Percentage of Five Subjects\n",
    " \n",
    "english = float(input(\"Please enter English Marks: \"))\n",
    "math = float(input(\"Please enter Math score: \"))\n",
    "computers = float(input(\"Please enter Computer Marks: \"))\n",
    "physics = float(input(\"Please enter Physics Marks: \"))\n",
    "chemistry = float(input(\"Please enter Chemistry Marks: \"))\n",
    "\n",
    "total = english + math + computers + physics + chemistry\n",
    "average = total / 5\n",
    "percentage = (total / 500) * 100\n",
    "\n",
    "print(\"\\nTotal Marks = %.2f\"  %total)\n",
    "print(\"Average Marks = %.2f\"  %average)\n",
    "print(\"Marks Percentage = %.2f\"  %percentage)\n"
   ]
  },
  {
   "cell_type": "code",
   "execution_count": null,
   "metadata": {},
   "outputs": [],
   "source": [
    "# Python Program to find Sum of N Natural Numbers\n",
    " \n",
    "number = int(input(\"Please Enter any Number: \"))\n",
    "total = 0\n",
    "\n",
    "for value in range(1, number + 1):\n",
    "    total = total + value\n",
    "\n",
    "print(\"The Sum of Natural Numbers from 1 to {0} =  {1}\".format(number, total))\n"
   ]
  },
  {
   "cell_type": "code",
   "execution_count": null,
   "metadata": {},
   "outputs": [],
   "source": [
    "# Python Program to find Sum and Average of N Natural Numbers\n",
    " \n",
    "number = int(input(\"Please Enter any Number: \"))\n",
    "total = 0\n",
    "\n",
    "for value in range(1, number + 1):\n",
    "    total = total + value\n",
    "\n",
    "average = total / number\n",
    "\n",
    "print(\"The Sum of Natural Numbers from 1 to {0} =  {1}\".format(number, total))\n",
    "print(\"Average of Natural Numbers from 1 to {0} =  {1}\".format(number, average))\n"
   ]
  },
  {
   "cell_type": "code",
   "execution_count": null,
   "metadata": {},
   "outputs": [],
   "source": [
    "# Python Program to find Sum of Even and Odd Numbers from 1 to N\n",
    " \n",
    "maximum = int(input(\" Please Enter the Maximum Value : \"))\n",
    "even_total = 0\n",
    "odd_total = 0\n",
    " \n",
    "for number in range(1, maximum + 1):\n",
    "    if(number % 2 == 0):\n",
    "        even_total = even_total + number\n",
    "    else:\n",
    "        odd_total = odd_total + number\n",
    " \n",
    "print(\"The Sum of Even Numbers from 1 to {0} = {1}\".format(number, even_total))\n",
    "print(\"The Sum of Odd Numbers from 1 to {0} = {1}\".format(number, odd_total))\n"
   ]
  },
  {
   "cell_type": "code",
   "execution_count": null,
   "metadata": {},
   "outputs": [],
   "source": []
  }
 ],
 "metadata": {
  "kernelspec": {
   "display_name": "Python 3",
   "language": "python",
   "name": "python3"
  },
  "language_info": {
   "codemirror_mode": {
    "name": "ipython",
    "version": 3
   },
   "file_extension": ".py",
   "mimetype": "text/x-python",
   "name": "python",
   "nbconvert_exporter": "python",
   "pygments_lexer": "ipython3",
   "version": "3.7.3"
  }
 },
 "nbformat": 4,
 "nbformat_minor": 2
}
