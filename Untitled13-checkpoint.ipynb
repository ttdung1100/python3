{
 "cells": [
  {
   "cell_type": "code",
   "execution_count": 4,
   "metadata": {},
   "outputs": [
    {
     "ename": "SyntaxError",
     "evalue": "invalid syntax (<ipython-input-4-693f4fa68f45>, line 1)",
     "output_type": "error",
     "traceback": [
      "\u001b[1;36m  File \u001b[1;32m\"<ipython-input-4-693f4fa68f45>\"\u001b[1;36m, line \u001b[1;32m1\u001b[0m\n\u001b[1;33m    CREATE database python_db;\u001b[0m\n\u001b[1;37m                  ^\u001b[0m\n\u001b[1;31mSyntaxError\u001b[0m\u001b[1;31m:\u001b[0m invalid syntax\n"
     ]
    }
   ],
   "source": [
    "CREATE database python_db;\n"
   ]
  },
  {
   "cell_type": "code",
   "execution_count": 3,
   "metadata": {},
   "outputs": [
    {
     "ename": "SyntaxError",
     "evalue": "invalid syntax (<ipython-input-3-32ffa2c3e6a1>, line 1)",
     "output_type": "error",
     "traceback": [
      "\u001b[1;36m  File \u001b[1;32m\"<ipython-input-3-32ffa2c3e6a1>\"\u001b[1;36m, line \u001b[1;32m1\u001b[0m\n\u001b[1;33m    CREATE TABLE `python_db`.`Hospital` ( `Hospital_Id` INT UNSIGNED NOT NULL , `Hospital_Name` TEXT NOT NULL , `Bed_Count` INT ,\u001b[0m\n\u001b[1;37m               ^\u001b[0m\n\u001b[1;31mSyntaxError\u001b[0m\u001b[1;31m:\u001b[0m invalid syntax\n"
     ]
    }
   ],
   "source": [
    "CREATE TABLE `python_db`.`Hospital` ( `Hospital_Id` INT UNSIGNED NOT NULL , `Hospital_Name` TEXT NOT NULL , `Bed_Count` INT , \n",
    "PRIMARY KEY (`Hospital_Id`))\n",
    "INSERT INTO `hospital` (`Hospital_Id`, `Hospital_Name`, `Bed Count`) VALUES \n",
    "('1', 'Mayo Clinic', '200'), \n",
    "('2', 'Cleveland Clinic', '400'), \n",
    "('3', 'Johns Hopkins', '1000'), \n",
    "('4', 'UCLA Medical Center', '1500')"
   ]
  },
  {
   "cell_type": "code",
   "execution_count": null,
   "metadata": {},
   "outputs": [],
   "source": []
  }
 ],
 "metadata": {
  "kernelspec": {
   "display_name": "Python 3",
   "language": "python",
   "name": "python3"
  },
  "language_info": {
   "name": ""
  }
 },
 "nbformat": 4,
 "nbformat_minor": 2
}
