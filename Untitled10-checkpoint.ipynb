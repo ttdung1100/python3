{
 "cells": [
  {
   "cell_type": "code",
   "execution_count": 1,
   "metadata": {},
   "outputs": [
    {
     "name": "stdout",
     "output_type": "stream",
     "text": [
      "var1[0]: G\n",
      "var2[1:5]: oftw\n"
     ]
    }
   ],
   "source": [
    "var1 = \"Guru99!\"\n",
    "var2 = \"Software Testing\"\n",
    "print (\"var1[0]:\",var1[0])\n",
    "print (\"var2[1:5]:\",var2[1:5])\n"
   ]
  },
  {
   "cell_type": "code",
   "execution_count": 2,
   "metadata": {},
   "outputs": [
    {
     "name": "stdout",
     "output_type": "stream",
     "text": [
      "Hello \n",
      "Hello Guru99\n"
     ]
    }
   ],
   "source": [
    "x = \"Hello World!\"\n",
    "print(x[:6]) \n",
    "print(x[0:6] + \"Guru99\")\n"
   ]
  },
  {
   "cell_type": "code",
   "execution_count": 3,
   "metadata": {},
   "outputs": [
    {
     "name": "stdout",
     "output_type": "stream",
     "text": [
      "I love Guru99\n"
     ]
    }
   ],
   "source": [
    "oldstring = 'I like Guru99' \n",
    "newstring = oldstring.replace('like', 'love')\n",
    "print(newstring)\n"
   ]
  },
  {
   "cell_type": "code",
   "execution_count": 4,
   "metadata": {},
   "outputs": [
    {
     "name": "stdout",
     "output_type": "stream",
     "text": [
      "PYTHON AT GURU99\n"
     ]
    }
   ],
   "source": [
    "string=\"python at guru99\"\n",
    "print(string.upper())\n"
   ]
  },
  {
   "cell_type": "code",
   "execution_count": 5,
   "metadata": {},
   "outputs": [
    {
     "name": "stdout",
     "output_type": "stream",
     "text": [
      "Python at guru99\n"
     ]
    }
   ],
   "source": [
    "string=\"python at guru99\"\t\t\n",
    "print(string.capitalize())\n"
   ]
  },
  {
   "cell_type": "code",
   "execution_count": 6,
   "metadata": {},
   "outputs": [
    {
     "name": "stdout",
     "output_type": "stream",
     "text": [
      "python at guru99\n"
     ]
    }
   ],
   "source": [
    "string=\"PYTHON AT GURU99\"\n",
    "print(string.lower())\n"
   ]
  },
  {
   "cell_type": "code",
   "execution_count": 7,
   "metadata": {},
   "outputs": [
    {
     "name": "stdout",
     "output_type": "stream",
     "text": [
      "P:y:t:h:o:n\n"
     ]
    }
   ],
   "source": [
    "print(\":\".join(\"Python\"))\t\n"
   ]
  },
  {
   "cell_type": "code",
   "execution_count": 8,
   "metadata": {},
   "outputs": [
    {
     "name": "stdout",
     "output_type": "stream",
     "text": [
      "54321\n"
     ]
    }
   ],
   "source": [
    "string=\"12345\"\t\t\n",
    "print(''.join(reversed(string)))\n"
   ]
  },
  {
   "cell_type": "code",
   "execution_count": 9,
   "metadata": {},
   "outputs": [
    {
     "name": "stdout",
     "output_type": "stream",
     "text": [
      "['guru99', 'career', 'guru99']\n"
     ]
    }
   ],
   "source": [
    "word=\"guru99 career guru99\"\t\t\n",
    "print(word.split(' '))\n"
   ]
  },
  {
   "cell_type": "code",
   "execution_count": 10,
   "metadata": {},
   "outputs": [
    {
     "name": "stdout",
     "output_type": "stream",
     "text": [
      "['gu', 'u99 ca', 'ee', ' gu', 'u99']\n"
     ]
    }
   ],
   "source": [
    "word=\"guru99 career guru99\"\t\t\n",
    "print(word.split('r'))\n"
   ]
  },
  {
   "cell_type": "code",
   "execution_count": 11,
   "metadata": {},
   "outputs": [
    {
     "name": "stdout",
     "output_type": "stream",
     "text": [
      "Guru99\n"
     ]
    }
   ],
   "source": [
    "x = \"Guru99\"\n",
    "x.replace(\"Guru99\",\"Python\")\n",
    "print(x)\n"
   ]
  },
  {
   "cell_type": "code",
   "execution_count": 12,
   "metadata": {},
   "outputs": [
    {
     "name": "stdout",
     "output_type": "stream",
     "text": [
      "Python\n"
     ]
    }
   ],
   "source": [
    "x = \"Guru99\"\n",
    "x = x.replace(\"Guru99\",\"Python\")\n",
    "print(x)\n"
   ]
  },
  {
   "cell_type": "code",
   "execution_count": 13,
   "metadata": {},
   "outputs": [
    {
     "ename": "SyntaxError",
     "evalue": "Missing parentheses in call to 'print'. Did you mean print(\"var1[0]:\",var1[0])? (<ipython-input-13-a49c640315f3>, line 4)",
     "output_type": "error",
     "traceback": [
      "\u001b[1;36m  File \u001b[1;32m\"<ipython-input-13-a49c640315f3>\"\u001b[1;36m, line \u001b[1;32m4\u001b[0m\n\u001b[1;33m    print \"var1[0]:\",var1[0]\u001b[0m\n\u001b[1;37m                   ^\u001b[0m\n\u001b[1;31mSyntaxError\u001b[0m\u001b[1;31m:\u001b[0m Missing parentheses in call to 'print'. Did you mean print(\"var1[0]:\",var1[0])?\n"
     ]
    }
   ],
   "source": [
    "#Accessing Values in Strings\n",
    "var1 = \"Guru99!\"\n",
    "var2 = \"Software Testing\"\n",
    "print \"var1[0]:\",var1[0]\n",
    "print \"var2[1:5]:\",var2[1:5]\n",
    "#Some more examples\n",
    "x = \"Hello World!\"\n",
    "print x[:6] \n",
    "print x[0:6] + \"Guru99\"\n",
    "#Python String replace() Method\n",
    "oldstring = 'I like Guru99' \n",
    "newstring = oldstring.replace('like', 'love')\n",
    "print newstring\n",
    "#Changing upper and lower case strings\n",
    "string=\"python at guru99\"\n",
    "print string.upper()\n",
    "string=\"python at guru99\"\t\t\n",
    "print string.capitalize()\n",
    "string=\"PYTHON AT GURU99\"\n",
    "print string.lower()\n",
    "#Using \"join\" function for the string\n",
    "print\":\".join(\"Python\")\t\t\n",
    "#Reversing String\n",
    "string=\"12345\"\t\t\n",
    "print''.join(reversed(string))\n",
    "#Split Strings\n",
    "word=\"guru99 career guru99\"\t\t\n",
    "print word.split(' ')\n",
    "word=\"guru99 career guru99\"\t\t\n",
    "print word.split('r')\n",
    "x = \"Guru99\"\n",
    "x.replace(\"Guru99\",\"Python\")\n",
    "print x\n",
    "x = \"Guru99\"\n",
    "x = x.replace(\"Guru99\",\"Python\")\n",
    "print x\n"
   ]
  },
  {
   "cell_type": "code",
   "execution_count": 14,
   "metadata": {},
   "outputs": [
    {
     "name": "stdout",
     "output_type": "stream",
     "text": [
      "Robert\n",
      "(2, 3, 4)\n"
     ]
    }
   ],
   "source": [
    "tup1 = ('Robert', 'Carlos','1965','Terminator 1995', 'Actor','Florida');\n",
    "tup2 = (1,2,3,4,5,6,7);\n",
    "print(tup1[0])\n",
    "print(tup2[1:4])\n"
   ]
  },
  {
   "cell_type": "code",
   "execution_count": 15,
   "metadata": {},
   "outputs": [
    {
     "name": "stdout",
     "output_type": "stream",
     "text": [
      "Guru99\n",
      "20\n",
      "Education\n"
     ]
    }
   ],
   "source": [
    "x = (\"Guru99\", 20, \"Education\")    # tuple packing\n",
    "(company, emp, profile) = x    # tuple unpacking\n",
    "print(company)\n",
    "print(emp)\n",
    "print(profile)\n"
   ]
  },
  {
   "cell_type": "code",
   "execution_count": 16,
   "metadata": {},
   "outputs": [
    {
     "name": "stdout",
     "output_type": "stream",
     "text": [
      "a is bigger\n"
     ]
    }
   ],
   "source": [
    "a=(5,6)\n",
    "b=(1,4)\n",
    "if (a>b):print(\"a is bigger\")\n",
    "else: print(\"b is bigger\")\n"
   ]
  },
  {
   "cell_type": "code",
   "execution_count": 17,
   "metadata": {},
   "outputs": [
    {
     "name": "stdout",
     "output_type": "stream",
     "text": [
      "a is bigger\n"
     ]
    }
   ],
   "source": [
    "a=(5,6)\n",
    "b=(5,4)\n",
    "if (a>b):print(\"a is bigger\")\n",
    "else: print (\"b is bigger\")\n"
   ]
  },
  {
   "cell_type": "code",
   "execution_count": 18,
   "metadata": {},
   "outputs": [
    {
     "name": "stdout",
     "output_type": "stream",
     "text": [
      "b is bigger\n"
     ]
    }
   ],
   "source": [
    "a=(5,6)\n",
    "b=(6,4)\n",
    "if (a>b):print(\"a is bigger\")\n",
    "else: print(\"b is bigger\")\n"
   ]
  },
  {
   "cell_type": "code",
   "execution_count": 19,
   "metadata": {},
   "outputs": [
    {
     "name": "stdout",
     "output_type": "stream",
     "text": [
      "[('x', 100), ('y', 200)]\n"
     ]
    }
   ],
   "source": [
    "a = {'x':100, 'y':200}\n",
    "b = list(a.items())\n",
    "print(b) \n"
   ]
  },
  {
   "cell_type": "code",
   "execution_count": 20,
   "metadata": {},
   "outputs": [
    {
     "name": "stdout",
     "output_type": "stream",
     "text": [
      "('c', 'd')\n"
     ]
    }
   ],
   "source": [
    "x = (\"a\", \"b\",\"c\", \"d\", \"e\")\n",
    "print(x[2:4])\n"
   ]
  },
  {
   "cell_type": "code",
   "execution_count": 21,
   "metadata": {},
   "outputs": [
    {
     "name": "stdout",
     "output_type": "stream",
     "text": [
      "('c', 'd')\n"
     ]
    }
   ],
   "source": [
    "x = (\"a\", \"b\",\"c\", \"d\", \"e\")\n",
    "print(x[2:4])\n"
   ]
  },
  {
   "cell_type": "code",
   "execution_count": 28,
   "metadata": {},
   "outputs": [
    {
     "name": "stdout",
     "output_type": "stream",
     "text": [
      "Robert\n",
      "(2, 3, 4)\n",
      "Guru99\n",
      "20\n",
      "Education\n",
      "a is bigger\n",
      "a is bigger\n",
      "b is bigger\n",
      "dict_items([('x', 100), ('y', 200)])\n",
      "('c', 'd')\n"
     ]
    }
   ],
   "source": [
    "tup1 = ('Robert', 'Carlos','1965','Terminator 1995', 'Actor','Florida');\n",
    "tup2 = (1,2,3,4,5,6,7);\n",
    "print  (tup1[0])\n",
    "print  (tup2[1:4])\n",
    "\n",
    "#Packing and Unpacking\n",
    "x = (\"Guru99\", 20, \"Education\")    # tuple packing\n",
    "(company, emp, profile) = x    # tuple unpacking\n",
    "print (company)\n",
    "print (emp)\n",
    "print (profile)\n",
    "\n",
    "#Comparing tuples\n",
    "#case 1\n",
    "a=(5,6)\n",
    "b=(1,4)\n",
    "if (a>b):print (\"a is bigger\")\n",
    "else: print (\"b is bigger\")\n",
    "\n",
    "#case 2\n",
    "a=(5,6)\n",
    "b=(5,4)\n",
    "if (a>b):print (\"a is bigger\")\n",
    "else: print (\"b is bigger\")\n",
    "\n",
    "#case 3\n",
    "a=(5,6)\n",
    "b=(6,4)\n",
    "if (a>b):print (\"a is bigger\")\n",
    "else: print (\"b is bigger\")\n",
    "\n",
    "#Tuples and dictionary\n",
    "a = {'x':100, 'y':200}\n",
    "b = a.items()\n",
    "print (b)\n",
    "\n",
    "#Slicing of Tuple\n",
    "x = (\"a\", \"b\",\"c\", \"d\", \"e\")\n",
    "print (x[2:4])\n"
   ]
  },
  {
   "cell_type": "code",
   "execution_count": 29,
   "metadata": {},
   "outputs": [
    {
     "name": "stdout",
     "output_type": "stream",
     "text": [
      "22\n"
     ]
    }
   ],
   "source": [
    "Dict = {'Tim': 18,'Charlie':12,'Tiffany':22,'Robert':25}\t\n",
    "print (Dict['Tiffany'])\n"
   ]
  },
  {
   "cell_type": "code",
   "execution_count": 30,
   "metadata": {},
   "outputs": [
    {
     "name": "stdout",
     "output_type": "stream",
     "text": [
      "22\n"
     ]
    }
   ],
   "source": [
    "Dict = {'Tim': 18,'Charlie':12,'Tiffany':22,'Robert':25}\t\n",
    "print((Dict['Tiffany']))\n"
   ]
  },
  {
   "cell_type": "code",
   "execution_count": 32,
   "metadata": {},
   "outputs": [
    {
     "name": "stdout",
     "output_type": "stream",
     "text": [
      "{'Tim': 18, 'Charlie': 12, 'Robert': 25}\n",
      "{'Tiffany': 22}\n"
     ]
    }
   ],
   "source": [
    "Dict = {'Tim': 18,'Charlie':12,'Tiffany':22,'Robert':25}\t\n",
    "Boys = {'Tim': 18,'Charlie':12,'Robert':25}\n",
    "Girls = {'Tiffany':22}\t\n",
    "studentX=Boys.copy()\n",
    "studentY=Girls.copy()\n",
    "print (studentX)\n",
    "print (studentY)\n"
   ]
  },
  {
   "cell_type": "code",
   "execution_count": 33,
   "metadata": {},
   "outputs": [
    {
     "name": "stdout",
     "output_type": "stream",
     "text": [
      "{'Tim': 18, 'Charlie': 12, 'Robert': 25}\n",
      "{'Tiffany': 22}\n"
     ]
    }
   ],
   "source": [
    "Dict = {'Tim': 18,'Charlie':12,'Tiffany':22,'Robert':25}\t\n",
    "Boys = {'Tim': 18,'Charlie':12,'Robert':25}\n",
    "Girls = {'Tiffany':22}\t\n",
    "studentX=Boys.copy()\n",
    "studentY=Girls.copy()\n",
    "print(studentX)\n",
    "print(studentY)\n"
   ]
  },
  {
   "cell_type": "code",
   "execution_count": 35,
   "metadata": {},
   "outputs": [
    {
     "name": "stdout",
     "output_type": "stream",
     "text": [
      "{'Tim': 18, 'Charlie': 12, 'Tiffany': 22, 'Robert': 25, 'Sarah': 9}\n"
     ]
    }
   ],
   "source": [
    "Dict = {'Tim': 18,'Charlie':12,'Tiffany':22,'Robert':25}\t\n",
    "Dict.update({\"Sarah\":9})\n",
    "print(Dict)\n"
   ]
  },
  {
   "cell_type": "code",
   "execution_count": 36,
   "metadata": {},
   "outputs": [
    {
     "name": "stdout",
     "output_type": "stream",
     "text": [
      "{'Tim': 18, 'Charlie': 12, 'Tiffany': 22, 'Robert': 25, 'Sarah': 9}\n"
     ]
    }
   ],
   "source": [
    "Dict = {'Tim': 18,'Charlie':12,'Tiffany':22,'Robert':25}\t\n",
    "Dict.update({\"Sarah\":9})\n",
    "print(Dict)\n"
   ]
  },
  {
   "cell_type": "code",
   "execution_count": 37,
   "metadata": {},
   "outputs": [
    {
     "name": "stdout",
     "output_type": "stream",
     "text": [
      "{'Tim': 18, 'Tiffany': 22, 'Robert': 25}\n"
     ]
    }
   ],
   "source": [
    "Dict = {'Tim': 18,'Charlie':12,'Tiffany':22,'Robert':25}\t\n",
    "del Dict ['Charlie']\n",
    "print (Dict)\n"
   ]
  },
  {
   "cell_type": "code",
   "execution_count": 38,
   "metadata": {},
   "outputs": [
    {
     "name": "stdout",
     "output_type": "stream",
     "text": [
      "{'Tim': 18, 'Tiffany': 22, 'Robert': 25}\n"
     ]
    }
   ],
   "source": [
    "Dict = {'Tim': 18,'Charlie':12,'Tiffany':22,'Robert':25}\t\n",
    "del Dict ['Charlie']\n",
    "print(Dict)\n"
   ]
  },
  {
   "cell_type": "code",
   "execution_count": 39,
   "metadata": {},
   "outputs": [
    {
     "name": "stdout",
     "output_type": "stream",
     "text": [
      "Students Name: dict_items([('Tim', 18), ('Charlie', 12), ('Tiffany', 22), ('Robert', 25)])\n"
     ]
    }
   ],
   "source": [
    "Dict = {'Tim': 18,'Charlie':12,'Tiffany':22,'Robert':25}\t\n",
    "print(\"Students Name: %s\" % Dict.items())\n"
   ]
  },
  {
   "cell_type": "code",
   "execution_count": 40,
   "metadata": {},
   "outputs": [
    {
     "name": "stdout",
     "output_type": "stream",
     "text": [
      "Students Name: [('Tim', 18), ('Charlie', 12), ('Tiffany', 22), ('Robert', 25)]\n"
     ]
    }
   ],
   "source": [
    "Dict = {'Tim': 18,'Charlie':12,'Tiffany':22,'Robert':25}\t\n",
    "print(\"Students Name: %s\" % list(Dict.items()))\n"
   ]
  },
  {
   "cell_type": "code",
   "execution_count": 42,
   "metadata": {},
   "outputs": [
    {
     "name": "stdout",
     "output_type": "stream",
     "text": [
      "True\n",
      "True\n",
      "False\n",
      "True\n"
     ]
    }
   ],
   "source": [
    "Dict = {'Tim': 18,'Charlie':12,'Tiffany':22,'Robert':25}\n",
    "Boys = {'Tim': 18,'Charlie':12,'Robert':25}\n",
    "Girls = {'Tiffany':22}\n",
    "for key in Dict.keys():\n",
    "    if key in Boys.keys():\n",
    "        print (True)\n",
    "    else:       \n",
    "        print (False)\n"
   ]
  },
  {
   "cell_type": "code",
   "execution_count": 43,
   "metadata": {},
   "outputs": [
    {
     "name": "stdout",
     "output_type": "stream",
     "text": [
      "True\n",
      "True\n",
      "False\n",
      "True\n"
     ]
    }
   ],
   "source": [
    "Dict = {'Tim': 18,'Charlie':12,'Tiffany':22,'Robert':25}\n",
    "Boys = {'Tim': 18,'Charlie':12,'Robert':25}\n",
    "Girls = {'Tiffany':22}\n",
    "for key in list(Dict.keys()):\n",
    "    if key in list(Boys.keys()):\n",
    "        print(True)\n",
    "    else:       \n",
    "        print(False)\n"
   ]
  },
  {
   "cell_type": "code",
   "execution_count": 46,
   "metadata": {},
   "outputs": [
    {
     "ename": "AttributeError",
     "evalue": "'dict_keys' object has no attribute 'sort'",
     "output_type": "error",
     "traceback": [
      "\u001b[1;31m---------------------------------------------------------------------------\u001b[0m",
      "\u001b[1;31mAttributeError\u001b[0m                            Traceback (most recent call last)",
      "\u001b[1;32m<ipython-input-46-79df461115f8>\u001b[0m in \u001b[0;36m<module>\u001b[1;34m\u001b[0m\n\u001b[0;32m      3\u001b[0m \u001b[0mGirls\u001b[0m \u001b[1;33m=\u001b[0m \u001b[1;33m{\u001b[0m\u001b[1;34m'Tiffany'\u001b[0m\u001b[1;33m:\u001b[0m\u001b[1;36m22\u001b[0m\u001b[1;33m}\u001b[0m\u001b[1;33m\u001b[0m\u001b[1;33m\u001b[0m\u001b[0m\n\u001b[0;32m      4\u001b[0m \u001b[0mStudents\u001b[0m \u001b[1;33m=\u001b[0m \u001b[0mDict\u001b[0m\u001b[1;33m.\u001b[0m\u001b[0mkeys\u001b[0m\u001b[1;33m(\u001b[0m\u001b[1;33m)\u001b[0m\u001b[1;33m\u001b[0m\u001b[1;33m\u001b[0m\u001b[0m\n\u001b[1;32m----> 5\u001b[1;33m \u001b[0mStudents\u001b[0m\u001b[1;33m.\u001b[0m\u001b[0msort\u001b[0m\u001b[1;33m(\u001b[0m\u001b[1;33m)\u001b[0m\u001b[1;33m\u001b[0m\u001b[1;33m\u001b[0m\u001b[0m\n\u001b[0m\u001b[0;32m      6\u001b[0m \u001b[1;32mfor\u001b[0m \u001b[0mS\u001b[0m \u001b[1;32min\u001b[0m \u001b[0mStudents\u001b[0m\u001b[1;33m:\u001b[0m\u001b[1;33m\u001b[0m\u001b[1;33m\u001b[0m\u001b[0m\n\u001b[0;32m      7\u001b[0m       \u001b[0mprint\u001b[0m\u001b[1;33m(\u001b[0m\u001b[1;34m\":\"\u001b[0m\u001b[1;33m.\u001b[0m\u001b[0mjoin\u001b[0m\u001b[1;33m(\u001b[0m\u001b[1;33m(\u001b[0m\u001b[0mS\u001b[0m\u001b[1;33m,\u001b[0m\u001b[0mstr\u001b[0m\u001b[1;33m(\u001b[0m\u001b[0mDict\u001b[0m\u001b[1;33m[\u001b[0m\u001b[0mS\u001b[0m\u001b[1;33m]\u001b[0m\u001b[1;33m)\u001b[0m\u001b[1;33m)\u001b[0m\u001b[1;33m)\u001b[0m\u001b[1;33m)\u001b[0m\u001b[1;33m\u001b[0m\u001b[1;33m\u001b[0m\u001b[0m\n",
      "\u001b[1;31mAttributeError\u001b[0m: 'dict_keys' object has no attribute 'sort'"
     ]
    }
   ],
   "source": [
    "Dict = {'Tim': 18,'Charlie':12,'Tiffany':22,'Robert':25}\n",
    "Boys = {'Tim': 18,'Charlie':12,'Robert':25}\n",
    "Girls = {'Tiffany':22}\n",
    "Students = Dict.keys()\n",
    "Students.sort()\n",
    "for S in Students:\n",
    "      print(\":\".join((S,str(Dict[S]))))\n"
   ]
  },
  {
   "cell_type": "code",
   "execution_count": 48,
   "metadata": {},
   "outputs": [
    {
     "name": "stdout",
     "output_type": "stream",
     "text": [
      "Length : 4\n"
     ]
    }
   ],
   "source": [
    "Dict = {'Tim': 18,'Charlie':12,'Tiffany':22,'Robert':25}\t\n",
    "print (\"Length : %d\" % len (Dict))\n"
   ]
  },
  {
   "cell_type": "code",
   "execution_count": 49,
   "metadata": {},
   "outputs": [
    {
     "name": "stdout",
     "output_type": "stream",
     "text": [
      "Length : 4\n"
     ]
    }
   ],
   "source": [
    "Dict = {'Tim': 18,'Charlie':12,'Tiffany':22,'Robert':25}\t\n",
    "print(\"Length : %d\" % len (Dict))\n"
   ]
  },
  {
   "cell_type": "code",
   "execution_count": 51,
   "metadata": {},
   "outputs": [
    {
     "name": "stdout",
     "output_type": "stream",
     "text": [
      "variable Type: <class 'dict'>\n"
     ]
    }
   ],
   "source": [
    "Dict = {'Tim': 18,'Charlie':12,'Tiffany':22,'Robert':25}\t\n",
    "print (\"variable Type: %s\" %type (Dict))\n"
   ]
  },
  {
   "cell_type": "code",
   "execution_count": 57,
   "metadata": {},
   "outputs": [
    {
     "name": "stdout",
     "output_type": "stream",
     "text": [
      "variable Type: <class 'dict'>\n"
     ]
    }
   ],
   "source": [
    "Dict = {'Tim': 18,'Charlie':12,'Tiffany':22,'Robert':25}\t\n",
    "print(\"variable Type: %s\" %type (Dict))\n"
   ]
  },
  {
   "cell_type": "code",
   "execution_count": 58,
   "metadata": {},
   "outputs": [
    {
     "name": "stdout",
     "output_type": "stream",
     "text": [
      "printable string:{'Tim': 18, 'Charlie': 12, 'Tiffany': 22, 'Robert': 25}\n"
     ]
    }
   ],
   "source": [
    "Dict = {'Tim': 18,'Charlie':12,'Tiffany':22,'Robert':25}\t\n",
    "print(\"printable string:%s\" % str (Dict))\n"
   ]
  },
  {
   "cell_type": "code",
   "execution_count": 60,
   "metadata": {},
   "outputs": [
    {
     "name": "stdout",
     "output_type": "stream",
     "text": [
      "printable string:{'Tim': 18, 'Charlie': 12, 'Tiffany': 22, 'Robert': 25}\n"
     ]
    }
   ],
   "source": [
    "Dict = {'Tim': 18,'Charlie':12,'Tiffany':22,'Robert':25}\t\n",
    "print (\"printable string:%s\" % str (Dict))\n"
   ]
  },
  {
   "cell_type": "code",
   "execution_count": 61,
   "metadata": {},
   "outputs": [
    {
     "name": "stdout",
     "output_type": "stream",
     "text": [
      "Line 1 - x is available in the given list\n",
      "Line 2 - y is not available in the given list\n"
     ]
    }
   ],
   "source": [
    "x = 4\n",
    "y = 8\n",
    "list = [1, 2, 3, 4, 5 ];\n",
    "if ( x in list ):\n",
    "   print(\"Line 1 - x is available in the given list\")\n",
    "else:\n",
    "   print(\"Line 1 - x is not available in the given list\")\n",
    "if ( y not in list ):\n",
    "   print(\"Line 2 - y is not available in the given list\")\n",
    "else:\n",
    "   print(\"Line 2 - y is available in the given list\")\n"
   ]
  },
  {
   "cell_type": "code",
   "execution_count": 62,
   "metadata": {},
   "outputs": [
    {
     "name": "stdout",
     "output_type": "stream",
     "text": [
      "x & y  SAME identity\n",
      "x & y have DIFFERENT identity\n"
     ]
    }
   ],
   "source": [
    "x = 20\n",
    "y = 20\n",
    "if ( x is y ): \n",
    "\tprint(\"x & y  SAME identity\")\n",
    "y=30\n",
    "if ( x is not y ):\n",
    "\tprint(\"x & y have DIFFERENT identity\")\n"
   ]
  },
  {
   "cell_type": "code",
   "execution_count": 63,
   "metadata": {},
   "outputs": [
    {
     "name": "stdout",
     "output_type": "stream",
     "text": [
      "Value of (v+w) * x/ y is  36.0\n"
     ]
    }
   ],
   "source": [
    "v = 4\n",
    "w = 5\n",
    "x = 8\n",
    "y = 2\n",
    "z = 0\n",
    "z = (v+w) * x / y;   \n",
    "print(\"Value of (v+w) * x/ y is \",  z)\n"
   ]
  },
  {
   "cell_type": "code",
   "execution_count": 65,
   "metadata": {},
   "outputs": [
    {
     "name": "stdout",
     "output_type": "stream",
     "text": [
      "9\n",
      "x > y  is False\n",
      "Line 1 - Value of num1 :  4\n",
      "Line 2 - Value of num2 :  5\n",
      "Line 1 - Result of + is  13\n",
      "a and b is False\n",
      "a or b is True\n",
      "not a is False\n",
      "Line 1 - x is available in the given list\n",
      "Line 2 - y is not available in the given list\n",
      "x & y  SAME identity\n",
      "x & y have DIFFERENT identity\n",
      "Value of (v+w) * x/ y is  36.0\n"
     ]
    }
   ],
   "source": [
    "#Arithmetic Operators\n",
    "x= 4\t\n",
    "y= 5\n",
    "print (x + y)\n",
    "\n",
    "#Comparison Operators\n",
    "x = 4\n",
    "y = 5\n",
    "print('x > y  is',x>y)\n",
    "\n",
    "#Assignment Operators\n",
    "num1 = 4\n",
    "num2 = 5\n",
    "print (\"Line 1 - Value of num1 : \", num1)\n",
    "print (\"Line 2 - Value of num2 : \", num2)\n",
    "\n",
    "#compound assignment operator\n",
    "num1 = 4\n",
    "num2 = 5\n",
    "res = num1 + num2\n",
    "res += num1\n",
    "print (\"Line 1 - Result of + is \", res)\n",
    "\n",
    "#Logical Operators\n",
    "a = True\n",
    "b = False\n",
    "print('a and b is',a and b)\n",
    "print('a or b is',a or b)\n",
    "print('not a is',not a)\n",
    "\n",
    "#Membership Operators\n",
    "x = 4\n",
    "y = 8\n",
    "list = [1, 2, 3, 4, 5 ];\n",
    "if ( x in list ):\n",
    "   print (\"Line 1 - x is available in the given list\")\n",
    "else:\n",
    "   print (\"Line 1 - x is not available in the given list\")\n",
    "if ( y not in list ):\n",
    "   print (\"Line 2 - y is not available in the given list\")\n",
    "else:\n",
    "   print (\"Line 2 - y is available in the given list\")\n",
    "\n",
    "#Identity Operators\n",
    "x = 20\n",
    "y = 20\n",
    "if ( x is y ):\n",
    "\tprint (\"x & y  SAME identity\")\n",
    "y=30\n",
    "if ( x is not y ):\n",
    "\tprint (\"x & y have DIFFERENT identity\")\n",
    "\n",
    "#Operator precedence\n",
    "v = 4\n",
    "w = 5\n",
    "x = 8\n",
    "y = 2\n",
    "z = 0\n",
    "z = (v+w) * x / y;\n",
    "print (\"Value of (v+w) * x/ y is \",  z)\n"
   ]
  },
  {
   "cell_type": "code",
   "execution_count": 68,
   "metadata": {},
   "outputs": [
    {
     "name": "stdout",
     "output_type": "stream",
     "text": [
      "I am learning Python function\n",
      "still in func1\n",
      "16\n",
      "value of x= 4\n",
      "value of y= 2\n",
      "8\n"
     ]
    }
   ],
   "source": [
    "#define a function\n",
    "def func1():\n",
    "   print (\"I am learning Python function\")\n",
    "   print (\"still in func1\")\n",
    "   \n",
    "func1()\n",
    "\n",
    "def square(x):\n",
    "  \treturn x*x\n",
    "print(square(4))\n",
    "\n",
    "def multiply(x,y=0):\n",
    "\tprint(\"value of x=\",x)\n",
    "\tprint(\"value of y=\",y)\n",
    "    \n",
    "\treturn x*y\n",
    "  \n",
    "print(multiply(y=2,x=4))\n"
   ]
  },
  {
   "cell_type": "code",
   "execution_count": 69,
   "metadata": {},
   "outputs": [
    {
     "name": "stdout",
     "output_type": "stream",
     "text": [
      " I am learning Python function\n",
      " still in func1\n",
      "16\n",
      "value of x= 4\n",
      "value of y= 2\n",
      "8\n"
     ]
    }
   ],
   "source": [
    "#define a function\n",
    "def func1():\n",
    "   print (\" I am learning Python function\")\n",
    "   print (\" still in func1\")\n",
    "   \n",
    "func1()\n",
    "\n",
    "def square(x):\n",
    "  \treturn x*x\n",
    "print (square(4))\n",
    "\n",
    "def multiply(x,y=0):\n",
    "\tprint(\"value of x=\",x)\n",
    "\tprint(\"value of y=\",y)\n",
    "    \n",
    "\treturn x*y\n",
    "  \n",
    "print (multiply(y=2,x=4))\n"
   ]
  },
  {
   "cell_type": "code",
   "execution_count": 70,
   "metadata": {},
   "outputs": [
    {
     "name": "stdout",
     "output_type": "stream",
     "text": [
      "x is less than y\n"
     ]
    }
   ],
   "source": [
    "#\n",
    "#Example file for working with conditional statement\n",
    "#\n",
    "def main():\n",
    "\tx,y =2,8\n",
    "\t\n",
    "\tif(x < y):\n",
    "\t\tst= \"x is less than y\"\n",
    "\tprint(st)\n",
    "\t\n",
    "if __name__ == \"__main__\":\n",
    "\tmain()\n"
   ]
  },
  {
   "cell_type": "code",
   "execution_count": 71,
   "metadata": {},
   "outputs": [
    {
     "name": "stdout",
     "output_type": "stream",
     "text": [
      "x is greater than y\n"
     ]
    }
   ],
   "source": [
    "#\n",
    "#Example file for working with conditional statement\n",
    "#\n",
    "def main():\n",
    "\tx,y =8,4\n",
    "\t\n",
    "\tif(x < y):\n",
    "\t\tst= \"x is less than y\"\n",
    "\telse:\n",
    "\t\tst= \"x is greater than y\"\n",
    "\tprint (st)\n",
    "\t\n",
    "if __name__ == \"__main__\":\n",
    "\tmain()\n"
   ]
  },
  {
   "cell_type": "code",
   "execution_count": 72,
   "metadata": {},
   "outputs": [
    {
     "name": "stdout",
     "output_type": "stream",
     "text": [
      "x is greater than y\n"
     ]
    }
   ],
   "source": [
    "#\n",
    "#Example file for working with conditional statement\n",
    "#\n",
    "def main():\n",
    "\tx,y =8,8\n",
    "\t\n",
    "\tif(x < y):\n",
    "\t\tst= \"x is less than y\"\n",
    "\telse:\n",
    "\t\tst= \"x is greater than y\"\n",
    "\tprint(st)\n",
    "\t\n",
    "if __name__ == \"__main__\":\n",
    "\tmain()\n"
   ]
  },
  {
   "cell_type": "code",
   "execution_count": 73,
   "metadata": {},
   "outputs": [
    {
     "name": "stdout",
     "output_type": "stream",
     "text": [
      "x is same as y\n"
     ]
    }
   ],
   "source": [
    "#\n",
    "#Example file for working with conditional statement\n",
    "#\n",
    "def main():\n",
    "\tx,y =8,8\n",
    "\t\n",
    "\tif(x < y):\n",
    "\t\tst= \"x is less than y\"\n",
    "\t\n",
    "\telif (x == y):\n",
    "\t\tst= \"x is same as y\"\n",
    "\t\n",
    "\telse:\n",
    "\t\tst=\"x is greater than y\"\n",
    "\tprint(st)\n",
    "\t\n",
    "if __name__ == \"__main__\":\n",
    "\tmain()\n"
   ]
  },
  {
   "cell_type": "code",
   "execution_count": 74,
   "metadata": {},
   "outputs": [
    {
     "name": "stdout",
     "output_type": "stream",
     "text": [
      "x is greater than or equal to y\n"
     ]
    }
   ],
   "source": [
    "def main():\n",
    "\tx,y = 10,8\n",
    "\tst = \"x is less than y\" if (x < y) else \"x is greater than or equal to y\"\n",
    "\tprint(st)\n",
    "\t\n",
    "if __name__ == \"__main__\":\n",
    "\tmain()\n"
   ]
  },
  {
   "cell_type": "code",
   "execution_count": 75,
   "metadata": {},
   "outputs": [
    {
     "name": "stdout",
     "output_type": "stream",
     "text": [
      "Shipping Cost is $25\n"
     ]
    }
   ],
   "source": [
    "total = 100\n",
    "#country = \"US\"\n",
    "country = \"AU\"\n",
    "if country == \"US\":\n",
    "    if total <= 50:\n",
    "        print(\"Shipping Cost is  $50\")\n",
    "elif total <= 100:\n",
    "        print(\"Shipping Cost is $25\")\n",
    "elif total <= 150:\n",
    "\t    print(\"Shipping Costs $5\")\n",
    "else:\n",
    "        print(\"FREE\")\n",
    "if country == \"AU\": \n",
    "\t  if total <= 50:\n",
    "\t    print(\"Shipping Cost is  $100\")\n",
    "else:\n",
    "\t    print(\"FREE\")\n"
   ]
  },
  {
   "cell_type": "code",
   "execution_count": 76,
   "metadata": {},
   "outputs": [
    {
     "name": "stdout",
     "output_type": "stream",
     "text": [
      " This is Case One \n"
     ]
    }
   ],
   "source": [
    "def SwitchExample(argument):\n",
    "    switcher = {\n",
    "        0: \" This is Case Zero \",\n",
    "        1: \" This is Case One \",\n",
    "        2: \" This is Case Two \",\n",
    "    }\n",
    "    return switcher.get(argument, \"nothing\")\n",
    "\n",
    "\n",
    "if __name__ == \"__main__\":\n",
    "    argument = 1\n",
    "    print (SwitchExample(argument))\n"
   ]
  },
  {
   "cell_type": "code",
   "execution_count": 83,
   "metadata": {},
   "outputs": [
    {
     "name": "stdout",
     "output_type": "stream",
     "text": [
      "x is less than y\n",
      "x is greater than y\n",
      "x is greater than y\n",
      "x is same as y\n",
      "x is greater than or equal to y\n",
      "Shipping Cost is $25\n",
      " This is Case One \n"
     ]
    }
   ],
   "source": [
    "# If Statement \n",
    "#Example file for working with conditional statement\n",
    "#\n",
    "def main():\n",
    "\tx,y =2,8\n",
    "\t\n",
    "\tif(x < y):\n",
    "\t\tst= \"x is less than y\"\n",
    "\tprint (st)\n",
    "\t\n",
    "if __name__ == \"__main__\":\n",
    "\tmain()\n",
    "\n",
    "\n",
    "\n",
    "# How to use \"else condition\"\n",
    "#Example file for working with conditional statement\n",
    "#\n",
    "def main():\n",
    "\tx,y =8,4\n",
    "\t\n",
    "\tif(x < y):\n",
    "\t\tst= \"x is less than y\"\n",
    "\telse:\n",
    "\t\tst= \"x is greater than y\"\n",
    "\tprint (st)\n",
    "\t\n",
    "if __name__ == \"__main__\":\n",
    "\tmain()\n",
    "\n",
    "\n",
    "\n",
    "# When \"else condition\" does not work\n",
    "#Example file for working with conditional statement\n",
    "#\n",
    "def main():\n",
    "\tx,y =8,8\n",
    "\t\n",
    "\tif(x < y):\n",
    "\t\tst= \"x is less than y\"\n",
    "\telse:\n",
    "\t\tst= \"x is greater than y\"\n",
    "\tprint (st)\n",
    "\t\n",
    "if __name__ == \"__main__\":\n",
    "\tmain()\n",
    "\n",
    "\n",
    "# How to use \"elif\" condition\n",
    "#Example file for working with conditional statement\n",
    "#\n",
    "def main():\n",
    "\tx,y =8,8\n",
    "\t\n",
    "\tif(x < y):\n",
    "\t\tst= \"x is less than y\"\n",
    "\t\n",
    "\telif (x == y):\n",
    "\t\tst= \"x is same as y\"\n",
    "\t\n",
    "\telse:\n",
    "\t\tst=\"x is greater than y\"\n",
    "\tprint (st)\n",
    "\t\n",
    "if __name__ == \"__main__\":\n",
    "\tmain()\n",
    "\n",
    "\n",
    "# How to execute conditional statement with minimal code\n",
    "def main():\n",
    "\tx,y = 10,8\n",
    "\tst = \"x is less than y\" if (x < y) else \"x is greater than or equal to y\"\n",
    "\tprint (st)\n",
    "\t\n",
    "if __name__ == \"__main__\":\n",
    "\tmain()\n",
    "\n",
    "\n",
    "# Nested IF Statement\n",
    "total = 100\n",
    "#country = \"US\"\n",
    "country = \"AU\"\n",
    "if country == \"US\":\n",
    "    if total <= 50:\n",
    "        print (\"Shipping Cost is  $50\")\n",
    "elif total <= 100:\n",
    "        print (\"Shipping Cost is $25\")\n",
    "elif total <= 150:\n",
    "\t    print (\"Shipping Costs $5\")\n",
    "else:\n",
    "        print (\"FREE\")\n",
    "if country == \"AU\": \n",
    "\t  if total <= 50:\n",
    "\t    print (\"Shipping Cost is  $100\")\n",
    "else:\n",
    "\t    print (\"FREE\")\n",
    "\n",
    "\n",
    "#Switch Statement\n",
    "def SwitchExample(argument):\n",
    "    switcher = {\n",
    "        0: \" This is Case Zero \",\n",
    "        1: \" This is Case One \",\n",
    "        2: \" This is Case Two \",\n",
    "    }\n",
    "    return switcher.get(argument, \"nothing\")\n",
    "\n",
    "\n",
    "if __name__ == \"__main__\":\n",
    "    argument = 1\n",
    "    print (SwitchExample(argument))\n"
   ]
  },
  {
   "cell_type": "code",
   "execution_count": 84,
   "metadata": {},
   "outputs": [
    {
     "name": "stdout",
     "output_type": "stream",
     "text": [
      "0\n",
      "1\n",
      "2\n",
      "3\n"
     ]
    }
   ],
   "source": [
    "#\n",
    "#Example file for working with loops\n",
    "#\n",
    "def main():\n",
    "\tx=0\n",
    "\t#define a while loop\n",
    "\twhile(x <4):\n",
    "\t\tprint(x)\n",
    "\t\tx = x+1\n",
    "\n",
    "if __name__ == \"__main__\":\n",
    "    main()\n"
   ]
  },
  {
   "cell_type": "code",
   "execution_count": 85,
   "metadata": {},
   "outputs": [
    {
     "name": "stdout",
     "output_type": "stream",
     "text": [
      "2\n",
      "3\n",
      "4\n",
      "5\n",
      "6\n"
     ]
    }
   ],
   "source": [
    "#\n",
    "#Example file for working with loops\n",
    "#\n",
    "def main():\n",
    "\tx=0\n",
    "\t#define a while loop\n",
    "#\twhile(x <4):\n",
    "#\t\tprint x\n",
    "#\t\tx = x+1\n",
    "\n",
    "\n",
    "\t#Define a for loop \n",
    "for x in range(2,7):\n",
    "\t\tprint(x)\n",
    "\n",
    "\n",
    "if __name__ == \"__main__\":\n",
    "    main()\n"
   ]
  },
  {
   "cell_type": "code",
   "execution_count": 86,
   "metadata": {},
   "outputs": [
    {
     "name": "stdout",
     "output_type": "stream",
     "text": [
      "Jan\n",
      "Feb\n",
      "Mar\n",
      "April\n",
      "May\n",
      "June\n"
     ]
    }
   ],
   "source": [
    "def main():\n",
    "\t#use a for loop over a collection\n",
    "\tMonths = [\"Jan\",\"Feb\",\"Mar\",\"April\",\"May\",\"June\"]\n",
    "\tfor m in Months:\n",
    "\t\tprint(m)\n",
    "\t\t\n",
    "if __name__ == \"__main__\":\n",
    "\tmain()\n"
   ]
  },
  {
   "cell_type": "code",
   "execution_count": 87,
   "metadata": {},
   "outputs": [
    {
     "name": "stdout",
     "output_type": "stream",
     "text": [
      "10\n",
      "11\n",
      "12\n",
      "13\n",
      "14\n"
     ]
    }
   ],
   "source": [
    "def main():\n",
    "\t#use a for loop over a collection\n",
    "\t#Months = [\"Jan\",\"Feb\",\"Mar\",\"April\",\"May\",\"June\"]\n",
    "\t#for m in Months:\n",
    "\t\t#print m\n",
    "\t\t\n",
    "# use the break and continue statements\n",
    "\t\t\n",
    "\t\t\n",
    "\t\tfor x in range (10,20):\n",
    "\t\t\tif (x == 15): break\n",
    "\t\t\t#if (x % 2 == 0) : continue\n",
    "\t\t\tprint(x)\n",
    "\n",
    "if __name__ == \"__main__\":\n",
    "\tmain()\n"
   ]
  },
  {
   "cell_type": "code",
   "execution_count": 88,
   "metadata": {},
   "outputs": [
    {
     "name": "stdout",
     "output_type": "stream",
     "text": [
      "11\n",
      "12\n",
      "13\n",
      "14\n",
      "16\n",
      "17\n",
      "18\n",
      "19\n"
     ]
    }
   ],
   "source": [
    "def main():\n",
    "\t#use a for loop over a collection\n",
    "\t#Months = [\"Jan\",\"Feb\",\"Mar\",\"April\",\"May\",\"June\"]\n",
    "\t#for m in Months:\n",
    "\t\t#print m\n",
    "\t\t\n",
    "# use the break and continue statements\n",
    "\t\t\n",
    "\t\t\n",
    "\t\tfor x in range (10,20):\n",
    "\t\t\t#if (x == 15): break\n",
    "\t\t\tif (x % 5 == 0) : continue\n",
    "\t\t\tprint(x)\n",
    "\n",
    "if __name__ == \"__main__\":\n",
    "\tmain()\n"
   ]
  },
  {
   "cell_type": "code",
   "execution_count": 89,
   "metadata": {},
   "outputs": [
    {
     "name": "stdout",
     "output_type": "stream",
     "text": [
      "0 Jan\n",
      "1 Feb\n",
      "2 Mar\n",
      "3 April\n",
      "4 May\n",
      "5 June\n"
     ]
    }
   ],
   "source": [
    "def main():\n",
    "\t#use a for loop over a collection\n",
    "\tMonths = [\"Jan\",\"Feb\",\"Mar\",\"April\",\"May\",\"June\"]\n",
    "\tfor i, m in enumerate (Months):\n",
    "\t\tprint(i,m)\n",
    "\t\t\n",
    "# use the break and continue statements\n",
    "\t\t\n",
    "\t\t\n",
    "\t\t#for x in range (10,20):\n",
    "\t\t#if (x == 15): break\n",
    "\t\t#if (x % 5 == 0) : continue\n",
    "\t\t#print x\n",
    "\n",
    "\n",
    "\t\t\n",
    "if __name__ == \"__main__\":\n",
    "\tmain()\n"
   ]
  },
  {
   "cell_type": "code",
   "execution_count": 91,
   "metadata": {},
   "outputs": [
    {
     "name": "stdout",
     "output_type": "stream",
     "text": [
      "0\n",
      "1\n",
      "2\n",
      "3\n"
     ]
    }
   ],
   "source": [
    "def main():\n",
    "   x=0    \n",
    "   while (x<4):\n",
    "      \n",
    "       print (x)\n",
    "       x= x+1\n",
    "if __name__== \"__main__\":\n",
    "  main()  \n"
   ]
  },
  {
   "cell_type": "code",
   "execution_count": 93,
   "metadata": {},
   "outputs": [
    {
     "name": "stdout",
     "output_type": "stream",
     "text": [
      "2\n",
      "3\n",
      "4\n",
      "5\n",
      "6\n"
     ]
    }
   ],
   "source": [
    "def main():\n",
    "   x=0 \n",
    "      \n",
    "   for x in range (2,7):\n",
    "      \n",
    "       print (x)\n",
    "    \n",
    "if __name__== \"__main__\":\n",
    "  main()        \n"
   ]
  },
  {
   "cell_type": "code",
   "execution_count": 94,
   "metadata": {},
   "outputs": [
    {
     "name": "stdout",
     "output_type": "stream",
     "text": [
      "Jan\n",
      "Feb\n",
      "Mar\n",
      "April\n",
      "May\n",
      "June\n"
     ]
    }
   ],
   "source": [
    "def main():\n",
    "       \n",
    "    Months = [\"Jan\",\"Feb\",\"Mar\",\"April\",\"May\",\"June\"]\n",
    "    for m in (Months):\n",
    "        print (m)\n",
    "        \n",
    "if __name__== \"__main__\":\n",
    " main()\n"
   ]
  },
  {
   "cell_type": "code",
   "execution_count": 96,
   "metadata": {},
   "outputs": [
    {
     "name": "stdout",
     "output_type": "stream",
     "text": [
      "10\n",
      "11\n",
      "12\n",
      "13\n",
      "14\n"
     ]
    }
   ],
   "source": [
    "def main():\n",
    "       \n",
    "   for x in range (10,20):\n",
    "       if (x == 15): break\n",
    "       print (x)\n",
    "    \n",
    "if __name__== \"__main__\":\n",
    "  main()  \n"
   ]
  },
  {
   "cell_type": "code",
   "execution_count": 98,
   "metadata": {},
   "outputs": [
    {
     "name": "stdout",
     "output_type": "stream",
     "text": [
      "11\n",
      "12\n",
      "13\n",
      "14\n",
      "16\n",
      "17\n",
      "18\n",
      "19\n"
     ]
    }
   ],
   "source": [
    "def main():\n",
    "       \n",
    "   for x in range (10,20):\n",
    "       if (x % 5 == 0): continue\n",
    "       print (x)\n",
    "    \n",
    "if __name__== \"__main__\":\n",
    "  main()        \n"
   ]
  },
  {
   "cell_type": "code",
   "execution_count": 100,
   "metadata": {},
   "outputs": [
    {
     "name": "stdout",
     "output_type": "stream",
     "text": [
      "0 Jan\n",
      "1 Feb\n",
      "2 Mar\n",
      "3 April\n",
      "4 May\n",
      "5 June\n"
     ]
    }
   ],
   "source": [
    "def main():\n",
    "     \n",
    "    Months = [\"Jan\",\"Feb\",\"Mar\",\"April\",\"May\",\"June\"]\n",
    "    for i, m in enumerate (Months):\n",
    "        print (i,m)\n",
    "        \n",
    "if __name__== \"__main__\":\n",
    "  main()     \n"
   ]
  },
  {
   "cell_type": "code",
   "execution_count": 103,
   "metadata": {},
   "outputs": [
    {
     "name": "stdout",
     "output_type": "stream",
     "text": [
      "0\n",
      "1\n",
      "2\n",
      "3\n",
      "2\n",
      "3\n",
      "4\n",
      "5\n",
      "6\n",
      "Jan\n",
      "Feb\n",
      "Mar\n",
      "April\n",
      "May\n",
      "June\n",
      "10\n",
      "11\n",
      "12\n",
      "13\n",
      "14\n",
      "11\n",
      "12\n",
      "13\n",
      "14\n",
      "16\n",
      "17\n",
      "18\n",
      "19\n",
      "0 Jan\n",
      "1 Feb\n",
      "2 Mar\n",
      "3 April\n",
      "4 May\n",
      "5 June\n"
     ]
    }
   ],
   "source": [
    "# How to use \"While Loop\"\n",
    "#Example file for working with loops\n",
    "#\n",
    "def main():\n",
    "\tx=0\n",
    "\t#define a while loop\n",
    "\twhile(x <4):\n",
    "\t\tprint (x)\n",
    "\t\tx = x+1\n",
    "\n",
    "if __name__ == \"__main__\":\n",
    "    main()\n",
    "\n",
    "#How to use \"For Loop\"\n",
    "#Example file for working with loops\n",
    "#\n",
    "def main():\n",
    "\tx=0\n",
    "\t#define a while loop\n",
    "#\twhile(x <4):\n",
    "#\t\tprint x\n",
    "#\t\tx = x+1\n",
    "\n",
    "\n",
    "#Define a for loop \n",
    "for x in range(2,7):\n",
    "\t\tprint (x)\n",
    "\n",
    "\n",
    "if __name__ == \"__main__\":\n",
    "    main()\n",
    "\n",
    "#How to use For Loop for String\n",
    "def main():\n",
    "\t#use a for loop over a collection\n",
    "\tMonths = [\"Jan\",\"Feb\",\"Mar\",\"April\",\"May\",\"June\"]\n",
    "\tfor m in Months:\n",
    "\t\tprint (m)\n",
    "\t\t\n",
    "if __name__ == \"__main__\":\n",
    "\tmain()\n",
    "\n",
    "#How to use break statements in For Loop\n",
    "def main():\n",
    "\t#use a for loop over a collection\n",
    "\t#Months = [\"Jan\",\"Feb\",\"Mar\",\"April\",\"May\",\"June\"]\n",
    "\t#for m in Months:\n",
    "\t\t#print m\n",
    "\t\t\n",
    "# use the break and continue statements\n",
    "\t\tfor x in range (10,20):\n",
    "\t\t\tif (x == 15): break\n",
    "\t\t\t#if (x % 2 == 0) : continue\n",
    "\t\t\tprint (x)\n",
    "\n",
    "if __name__ == \"__main__\":\n",
    "\tmain()\n",
    "\n",
    "#How to use \"continue statement\" in For Loop\n",
    "def main():\n",
    "\t#use a for loop over a collection\n",
    "\t#Months = [\"Jan\",\"Feb\",\"Mar\",\"April\",\"May\",\"June\"]\n",
    "\t#for m in Months:\n",
    "\t\t#print m\n",
    "\t\t\n",
    "# use the break and continue statements\t\t\n",
    "\t\tfor x in range (10,20):\n",
    "\t\t\t#if (x == 15): break\n",
    "\t\t\tif (x % 5 == 0) : continue\n",
    "\t\t\tprint (x)\n",
    "\n",
    "if __name__ == \"__main__\":\n",
    "\tmain()\n",
    "\n",
    "#How to use \"enumerate\" function for \"For Loop\"\n",
    "def main():\n",
    "\t#use a for loop over a collection\n",
    "\tMonths = [\"Jan\",\"Feb\",\"Mar\",\"April\",\"May\",\"June\"]\n",
    "\tfor i, m in enumerate (Months):\n",
    "\t\tprint (i,m)\n",
    "\t\t\n",
    "# use the break and continue statements\n",
    "\t\t#for x in range (10,20):\n",
    "\t\t#if (x == 15): break\n",
    "\t\t#if (x % 5 == 0) : continue\n",
    "\t\t#print x\n",
    "\t\n",
    "if __name__ == \"__main__\":\n",
    "\tmain()\n"
   ]
  },
  {
   "cell_type": "code",
   "execution_count": 104,
   "metadata": {},
   "outputs": [
    {
     "name": "stdout",
     "output_type": "stream",
     "text": [
      "Guru99\n",
      "Software Testing: Testing is fun\n"
     ]
    }
   ],
   "source": [
    "# Example file for working with classes\n",
    "class myClass():\n",
    "  def method1(self):\n",
    "      print(\"Guru99\")\n",
    "        \n",
    "  def method2(self,someString):    \n",
    "      print(\"Software Testing:\" + someString)\n",
    "  \n",
    "      \n",
    "def main():           \n",
    "  # exercise the class methods\n",
    "  c = myClass ()\n",
    "  c.method1()\n",
    "  c.method2(\" Testing is fun\")\n",
    "  \n",
    "if __name__== \"__main__\":\n",
    "  main()\n"
   ]
  },
  {
   "cell_type": "code",
   "execution_count": 105,
   "metadata": {},
   "outputs": [
    {
     "name": "stdout",
     "output_type": "stream",
     "text": [
      "Guru99\n"
     ]
    }
   ],
   "source": [
    "# Example file for working with classes\n",
    "class myClass():\n",
    "  def method1(self):\n",
    "      print(\"Guru99\")\n",
    "        \n",
    "  \n",
    "class childClass(myClass):\n",
    "  #def method1(self):\n",
    "        #myClass.method1(self);\n",
    "        #print (\"childClass Method1\")\n",
    "        \n",
    "  def method2(self):\n",
    "        print(\"childClass method2\")     \n",
    "         \n",
    "def main():           \n",
    "  # exercise the class methods\n",
    "  c2 = childClass()\n",
    "  c2.method1()\n",
    "  #c2.method2()\n",
    "\n",
    "if __name__== \"__main__\":\n",
    "  main()\n"
   ]
  },
  {
   "cell_type": "code",
   "execution_count": 106,
   "metadata": {},
   "outputs": [
    {
     "name": "stdout",
     "output_type": "stream",
     "text": [
      "Welcome to Guru99, Alex\n"
     ]
    }
   ],
   "source": [
    "class User:\n",
    "    name = \"\"\n",
    "\n",
    "    def __init__(self, name):\n",
    "        self.name = name\n",
    "\n",
    "    def sayHello(self):\n",
    "        print(\"Welcome to Guru99, \" + self.name)\n",
    "\n",
    "User1 = User(\"Alex\")\n",
    "User1.sayHello()\n"
   ]
  },
  {
   "cell_type": "code",
   "execution_count": 108,
   "metadata": {},
   "outputs": [
    {
     "name": "stdout",
     "output_type": "stream",
     "text": [
      "Guru99\n",
      "Software Testing: Testing is fun\n",
      "Guru99\n"
     ]
    }
   ],
   "source": [
    "# How to define Python classes\n",
    "# Example file for working with classes\n",
    "class myClass():\n",
    "  def method1(self):\n",
    "      print (\"Guru99\")\n",
    "        \n",
    "  def method2(self,someString):    \n",
    "      print (\"Software Testing:\" + someString)\n",
    "      \n",
    "   \n",
    "      \n",
    "def main():           \n",
    "  # exercise the class methods\n",
    "  c = myClass ()\n",
    "  c.method1()\n",
    "  c.method2(\" Testing is fun\")\n",
    "  \n",
    "if __name__== \"__main__\":\n",
    "  main()\n",
    "\n",
    "\n",
    "#How Inheritance works\n",
    "# Example file for working with classes\n",
    "class myClass():\n",
    "  def method1(self):\n",
    "      print (\"Guru99\")\n",
    "        \n",
    "      \n",
    "class childClass(myClass):\n",
    "  #def method1(self):\n",
    "        #myClass.method1(self);\n",
    "        #print \"childClass Method1\" \n",
    "        \n",
    "  def method2(self):\n",
    "        print (\"childClass method2\")\n",
    "         \n",
    "def main():           \n",
    "  # exercise the class methods\n",
    "  c2 = childClass()\n",
    "  c2.method1()\n",
    "  #c2.method2()\n",
    "\n",
    "if __name__== \"__main__\":\n",
    "  main()\n"
   ]
  },
  {
   "cell_type": "code",
   "execution_count": 109,
   "metadata": {},
   "outputs": [
    {
     "name": "stdout",
     "output_type": "stream",
     "text": [
      "['guru99']\n"
     ]
    }
   ],
   "source": [
    "import re\n",
    "xx = \"guru99,education is fun\"\n",
    "r1 = re.findall(r\"^\\w+\",xx)\n",
    "print(r1)\n"
   ]
  },
  {
   "cell_type": "code",
   "execution_count": 110,
   "metadata": {},
   "outputs": [
    {
     "name": "stdout",
     "output_type": "stream",
     "text": [
      "['we', 'are', 'splitting', 'the', 'words']\n",
      "['', 'plit the word', '']\n"
     ]
    }
   ],
   "source": [
    "import re\n",
    "xx = \"guru99,education is fun\"\n",
    "r1 = re.findall(r\"^\\w+\", xx)\n",
    "print((re.split(r'\\s','we are splitting the words')))\n",
    "print((re.split(r's','split the words')))\n"
   ]
  },
  {
   "cell_type": "code",
   "execution_count": 111,
   "metadata": {},
   "outputs": [
    {
     "name": "stdout",
     "output_type": "stream",
     "text": [
      "Looking for \"software testing\" in \"software testing is fun?\" -> found a match!\n",
      "Looking for \"guru99\" in \"software testing is fun?\" -> no match\n",
      "guru99@google.com\n",
      "careerguru99@hotmail.com\n",
      "users@yahoomail.com\n"
     ]
    }
   ],
   "source": [
    "import re\n",
    "\n",
    "list = [\"guru99 get\", \"guru99 give\", \"guru Selenium\"]\n",
    "for element in list:\n",
    "    z = re.match(\"(g\\w+)\\W(g\\w+)\", element)\n",
    "if z:\n",
    "    print((z.groups()))\n",
    "    \n",
    "patterns = ['software testing', 'guru99']\n",
    "text = 'software testing is fun?'\n",
    "for pattern in patterns:\n",
    "    print('Looking for \"%s\" in \"%s\" ->' % (pattern, text), end=' ')\n",
    "    if re.search(pattern, text):\n",
    "        print('found a match!')\n",
    "else:\n",
    "    print('no match')\n",
    "abc = 'guru99@google.com, careerguru99@hotmail.com, users@yahoomail.com'\n",
    "emails = re.findall(r'[\\w\\.-]+@[\\w\\.-]+', abc)\n",
    "for email in emails:\n",
    "    print(email)"
   ]
  },
  {
   "cell_type": "code",
   "execution_count": 112,
   "metadata": {},
   "outputs": [
    {
     "name": "stdout",
     "output_type": "stream",
     "text": [
      "['g']\n",
      "['g', 'c', 's']\n"
     ]
    }
   ],
   "source": [
    "import re\n",
    "xx = \"\"\"guru99 \n",
    "careerguru99\t\n",
    "selenium\"\"\"\n",
    "k1 = re.findall(r\"^\\w\", xx)\n",
    "k2 = re.findall(r\"^\\w\", xx, re.MULTILINE)\n",
    "print(k1)\n",
    "print(k2)\n"
   ]
  },
  {
   "cell_type": "code",
   "execution_count": 115,
   "metadata": {},
   "outputs": [
    {
     "name": "stdout",
     "output_type": "stream",
     "text": [
      "['guru99']\n",
      "['we', 'are', 'splitting', 'the', 'words']\n",
      "['', 'plit the word', '']\n",
      "Looking for \"software testing\" in \"software testing is fun?\" ->\n",
      "found a match!\n",
      "Looking for \"guru99\" in \"software testing is fun?\" ->\n",
      "no match\n",
      "guru99@google.com\n",
      "careerguru99@hotmail.com\n",
      "users@yahoomail.com\n",
      "['g']\n",
      "['g', 'c', 's']\n"
     ]
    }
   ],
   "source": [
    "# Example of w+ and ^ Expression\n",
    "import re\n",
    "xx = \"guru99,education is fun\"\n",
    "r1 = re.findall(r\"^\\w+\",xx)\n",
    "print (r1)\n",
    "\n",
    "# Example of \\s expression in re.split function\n",
    "import re\n",
    "xx = \"guru99,education is fun\"\n",
    "r1 = re.findall(r\"^\\w+\", xx)\n",
    "print (re.split(r'\\s','we are splitting the words'))\n",
    "print (re.split(r's','split the words'))\n",
    "\n",
    "# Using re.findall for text\n",
    "import re\n",
    "\n",
    "list = [\"guru99 get\", \"guru99 give\", \"guru Selenium\"]\n",
    "for element in list:\n",
    "    z = re.match(\"(g\\w+)\\W(g\\w+)\", element)\n",
    "if z:\n",
    "    print(z.groups())\n",
    "    \n",
    "patterns = ['software testing', 'guru99']\n",
    "text = 'software testing is fun?'\n",
    "for pattern in patterns:\n",
    "    print ('Looking for \"%s\" in \"%s\" ->' % (pattern, text),)\n",
    "    if re.search(pattern, text):\n",
    "        print ('found a match!')\n",
    "else:\n",
    "    print ('no match')\n",
    "abc = 'guru99@google.com, careerguru99@hotmail.com, users@yahoomail.com'\n",
    "emails = re.findall(r'[\\w\\.-]+@[\\w\\.-]+', abc)\n",
    "for email in emails:\n",
    "    print (email)\n",
    "\n",
    "# Example of re.M or Multiline Flags\n",
    "import re\n",
    "xx = \"\"\"guru99 \n",
    "careerguru99\t\n",
    "selenium\"\"\"\n",
    "k1 = re.findall(r\"^\\w\", xx)\n",
    "k2 = re.findall(r\"^\\w\", xx, re.MULTILINE)\n",
    "print (k1)\n",
    "print (k2)\n"
   ]
  },
  {
   "cell_type": "code",
   "execution_count": 116,
   "metadata": {},
   "outputs": [
    {
     "name": "stdout",
     "output_type": "stream",
     "text": [
      "Today is day number 2\n",
      "which is a wednesday\n"
     ]
    }
   ],
   "source": [
    "from datetime import date\n",
    "from datetime import time\n",
    "from datetime import datetime\n",
    "def main():\n",
    "    ##DATETIME OBJECTS\n",
    "    #Get today's date from datetime class\n",
    "    today=datetime.now()\n",
    "    #print (today)\n",
    "    # Get the current time\n",
    "    #t = datetime.time(datetime.now())\n",
    "    #print \"The current time is\", t\n",
    "    #weekday returns 0 (monday) through 6 (sunday)\n",
    "    wd=date.weekday(today)\n",
    "    #Days start at 0 for monday\n",
    "    days= [\"monday\",\"tuesday\",\"wednesday\",\"thursday\",\"friday\",\"saturday\",\"sunday\"]\n",
    "    print(\"Today is day number %d\" % wd)\n",
    "    print(\"which is a \" + days[wd])\n",
    "\n",
    "if __name__== \"__main__\":\n",
    "    main()\n"
   ]
  },
  {
   "cell_type": "code",
   "execution_count": 117,
   "metadata": {},
   "outputs": [
    {
     "name": "stdout",
     "output_type": "stream",
     "text": [
      "Wed Jul 17 11:36:18 2019\n",
      "07/17/19\n",
      "11:36:18\n",
      "11:36:18 AM\n",
      "11:36\n"
     ]
    }
   ],
   "source": [
    "#Example file for formatting time and date output\n",
    "#\n",
    "from datetime import datetime\n",
    "def main():\n",
    "   #Times and dates can be formatted using a set of predefined string\n",
    "   #Control codes\n",
    "      now= datetime.now() #get the current date and time\n",
    "      #%c - local date and time, %x-local's date, %X- local's time\n",
    "      print(now.strftime(\"%c\"))\n",
    "      print(now.strftime(\"%x\"))\n",
    "      print(now.strftime(\"%X\"))\n",
    "##### Time Formatting ####\n",
    "      #%I/%H - 12/24 Hour, %M - minute, %S - second, %p - local's AM/PM\n",
    "      print(now.strftime(\"%I:%M:%S %p\")) # 12-Hour:Minute:Second:AM\n",
    "      print(now.strftime(\"%H:%M\")) # 24-Hour:Minute\n",
    "\n",
    "if __name__== \"__main__\":\n",
    "    main()\n"
   ]
  },
  {
   "cell_type": "code",
   "execution_count": 118,
   "metadata": {},
   "outputs": [
    {
     "name": "stdout",
     "output_type": "stream",
     "text": [
      "365 days, 8:15:00\n",
      "today is: 2019-07-17 11:36:31.300319\n",
      "one year from now it will be:2020-07-16 11:36:31.300319\n",
      "New Year day is already went by 197 days ago\n"
     ]
    }
   ],
   "source": [
    "# Example file for working with timedelta objects\n",
    "#\n",
    "from datetime import date\n",
    "from datetime import time\n",
    "from datetime import datetime\n",
    "from datetime import timedelta\n",
    "\n",
    "# construct a basic timedelta and print it\n",
    "print (timedelta(days=365, hours=8, minutes=15))\n",
    "# print today's date\n",
    "print (\"today is: \" + str(datetime.now()))\n",
    "# print today's date one year from now\n",
    "print (\"one year from now it will be:\" + str(datetime.now() + timedelta(days=365)))\n",
    "# create a timedelta that uses more than one argument\n",
    "# print (in one week and 4 days it will be \" + str(datetime.now() + timedelta(weeks=1, days=4)))\n",
    "# How many days until New Year's Day?\n",
    "today = date.today()  # get todays date\n",
    "nyd = date(today.year, 1, 1)  # get New Year Day for the same year\n",
    "# use date comparison to see if New Year Day has already gone for this year\n",
    "# if it has, use the replace() function to get the date for next year\n",
    "if nyd < today:\n",
    "    print (\"New Year day is already went by %d days ago\" % ((today - nyd).days))\n"
   ]
  },
  {
   "cell_type": "code",
   "execution_count": 138,
   "metadata": {},
   "outputs": [
    {
     "ename": "TabError",
     "evalue": "inconsistent use of tabs and spaces in indentation (<ipython-input-138-b946ba9def9c>, line 13)",
     "output_type": "error",
     "traceback": [
      "\u001b[1;36m  File \u001b[1;32m\"<ipython-input-138-b946ba9def9c>\"\u001b[1;36m, line \u001b[1;32m13\u001b[0m\n\u001b[1;33m    wd = date.weekday(today)\u001b[0m\n\u001b[1;37m                            ^\u001b[0m\n\u001b[1;31mTabError\u001b[0m\u001b[1;31m:\u001b[0m inconsistent use of tabs and spaces in indentation\n"
     ]
    }
   ],
   "source": [
    "from datetime import date\n",
    "from datetime import time\n",
    "from datetime import datetime\n",
    "def main():\n",
    " \t##DATETIME OBJECTS\n",
    "    #Get today's date from datetime class\n",
    "\ttoday=datetime.now()\n",
    "\t#print today\n",
    "\t# Get the current time\n",
    "\t#t = datetime.time(datetime.now())\n",
    "\t#print \"The current time is\", t\n",
    "\t#weekday returns 0 (monday) through 6 (sunday)\n",
    "        wd = date.weekday(today)\n",
    "\t#Days start at 0 for monday\n",
    "        days= [\"monday\",\"tuesday\",\"wednesday\",\"thursday\",\"friday\",\"saturday\",\"sunday\"]\n",
    "        print (\"Today is day number %d\" % wd)\n",
    "        print (\"which is a %d\" %days[wd])\n",
    "\n",
    "if __name__== \"__main__\":\n",
    "    main()\n"
   ]
  },
  {
   "cell_type": "code",
   "execution_count": 133,
   "metadata": {},
   "outputs": [
    {
     "name": "stdout",
     "output_type": "stream",
     "text": [
      "Wed Jul 17 11:41:33 2019\n",
      "07/17/19\n",
      "11:41:33\n",
      "11:41:33 AM\n",
      "11:41\n"
     ]
    }
   ],
   "source": [
    "#\n",
    "#Example file for formatting time and date output\n",
    "#\n",
    "from datetime import datetime\n",
    "def main():\n",
    "   #Times and dates can be formatted using a set of predefined string\n",
    "   #Control codes\n",
    "      now= datetime.now() #get the current date and time\n",
    "      #%c - local date and time, %x-local's date, %X- local's time\n",
    "      print (now.strftime(\"%c\"))\n",
    "      print (now.strftime(\"%x\"))\n",
    "      print (now.strftime(\"%X\"))\n",
    "##### Time Formatting ####   \n",
    "      #%I/%H - 12/24 Hour, %M - minute, %S - second, %p - local's AM/PM\n",
    "      print (now.strftime(\"%I:%M:%S %p\")) # 12-Hour:Minute:Second:AM\n",
    "      print (now.strftime(\"%H:%M\")) # 24-Hour:Minute\n",
    "\n",
    "if __name__== \"__main__\":\n",
    "    main()\n"
   ]
  },
  {
   "cell_type": "code",
   "execution_count": 132,
   "metadata": {},
   "outputs": [
    {
     "name": "stdout",
     "output_type": "stream",
     "text": [
      "365 days, 8:15:00\n",
      "today is: 2019-07-17 11:41:07.730548\n",
      "one year from now it will be:2020-07-16 11:41:07.731603\n",
      "New Year day is already went by 197 days ago\n"
     ]
    }
   ],
   "source": [
    "# Example file for working with timedelta objects\n",
    "#\n",
    "from datetime import date\n",
    "from datetime import time\n",
    "from datetime import datetime\n",
    "from datetime import timedelta\n",
    "\n",
    "# construct a basic timedelta and print it\n",
    "print (timedelta(days=365, hours=8, minutes=15))\n",
    "# print today's date\n",
    "print (\"today is: \" + str(datetime.now()))\n",
    "# print today's date one year from now\n",
    "print (\"one year from now it will be:\" + str(datetime.now() + timedelta(days=365)))\n",
    "# create a timedelta that uses more than one argument\n",
    "# print \"in one week and 4 days it will be \" + str(datetime.now() + timedelta(weeks=1, days=4))\n",
    "# How many days until New Year's Day?\n",
    "today = date.today()  # get todays date\n",
    "nyd = date(today.year, 1, 1)  # get New Year Day for the same year\n",
    "# use date comparison to see if New Year Day has already gone for this year\n",
    "# if it has, use the replace() function to get the date for next year\n",
    "if nyd < today:\n",
    "    print (\"New Year day is already went by %d days ago\" % ((today - nyd).days))\n"
   ]
  },
  {
   "cell_type": "code",
   "execution_count": 141,
   "metadata": {},
   "outputs": [
    {
     "ename": "IndentationError",
     "evalue": "expected an indented block (<ipython-input-141-7ab897e0e9d9>, line 33)",
     "output_type": "error",
     "traceback": [
      "\u001b[1;36m  File \u001b[1;32m\"<ipython-input-141-7ab897e0e9d9>\"\u001b[1;36m, line \u001b[1;32m33\u001b[0m\n\u001b[1;33m    auditday = week2[calendar.MONDAY]\u001b[0m\n\u001b[1;37m           ^\u001b[0m\n\u001b[1;31mIndentationError\u001b[0m\u001b[1;31m:\u001b[0m expected an indented block\n"
     ]
    }
   ],
   "source": [
    "import calendar\n",
    "# Create a plain text calendar\n",
    "c = calendar.TextCalendar(calendar.THURSDAY)\n",
    "str = c.formatmonth(2025, 1, 0, 0)\n",
    "print (str)\n",
    "\n",
    "# Create an HTML formatted calendar\n",
    "hc = calendar.HTMLCalendar(calendar.THURSDAY)\n",
    "str = hc.formatmonth(2025, 1)\n",
    "print (str)\n",
    "# loop over the days of a month\n",
    "# zeroes indicate that the day of the week is in a next month or overlapping month\n",
    "for i in c.itermonthdays(2025, 4):\n",
    "    print (i)\n",
    "\n",
    "    # The calendar can give info based on local such a names of days and months (full and abbreviated forms)\n",
    "    for name in calendar.month_name:\n",
    "        print (name)\n",
    "    for day in calendar.day_name:\n",
    "        print (day)\n",
    "    # calculate days based on a rule: For instance an audit day on the second Monday of every month\n",
    "    # Figure out what days that would be for each month, we can use the script as shown here\n",
    "    for month in range(1, 13):\n",
    "\t\t# It retrieves a list of weeks that represent the month\n",
    "        mycal = calendar.monthcalendar(2025, month)\n",
    "\t\t# The first MONDAY has to be within the first two weeks\n",
    "        week1 = mycal[1]\n",
    "        week2 = mycal[2]\n",
    "        if week1[calendar.MONDAY] != 0:\n",
    "            auditday = week1[calendar.MONDAY]\n",
    "        else:\n",
    "        # if the first MONDAY isn't in the first week, it must be in the second week\n",
    "        auditday = week2[calendar.MONDAY]\n",
    "\tprint (\"%10s %2d\" % (calendar.month_name[month], auditday))\n"
   ]
  },
  {
   "cell_type": "code",
   "execution_count": 145,
   "metadata": {},
   "outputs": [
    {
     "ename": "IndentationError",
     "evalue": "expected an indented block (<ipython-input-145-c29320c9bf55>, line 33)",
     "output_type": "error",
     "traceback": [
      "\u001b[1;36m  File \u001b[1;32m\"<ipython-input-145-c29320c9bf55>\"\u001b[1;36m, line \u001b[1;32m33\u001b[0m\n\u001b[1;33m    auditday = week2[calendar.MONDAY]\u001b[0m\n\u001b[1;37m           ^\u001b[0m\n\u001b[1;31mIndentationError\u001b[0m\u001b[1;31m:\u001b[0m expected an indented block\n"
     ]
    }
   ],
   "source": [
    "import calendar\n",
    "# Create a plain text calendar\n",
    "c = calendar.TextCalendar(calendar.THURSDAY)\n",
    "str = c.formatmonth(2025, 1, 0, 0)\n",
    "print(str)\n",
    "\n",
    "# Create an HTML formatted calendar\n",
    "hc = calendar.HTMLCalendar(calendar.THURSDAY)\n",
    "str = hc.formatmonth(2025, 1)\n",
    "print(str)\n",
    "# loop over the days of a month\n",
    "# zeroes indicate that the day of the week is in a next month or overlapping month\n",
    "for i in c.itermonthdays(2025, 4):\n",
    "    print(i)\n",
    "\n",
    "    # The calendar can give info based on local such a names of days and months (full and abbreviated forms)\n",
    "    for name in calendar.month_name:\n",
    "        print(name)\n",
    "    for day in calendar.day_name:\n",
    "        print(day)\n",
    "    # calculate days based on a rule: For instance an audit day on the second Monday of every month\n",
    "    # Figure out what days that would be for each month, we can use the script as shown here\n",
    "    for month in range(1, 13):\n",
    "\t\t# It retrieves a list of weeks that represent the month\n",
    "        mycal = calendar.monthcalendar(2025, month)\n",
    "\t\t# The first MONDAY has to be within the first two weeks\n",
    "        week1 = mycal[1]\n",
    "        week2 = mycal[2]\n",
    "        if week1[calendar.MONDAY] != 0:\n",
    "            auditday = week1[calendar.MONDAY]\n",
    "        else:\n",
    "        # if the first MONDAY isn't in the first week, it must be in the second week\n",
    "        auditday = week2[calendar.MONDAY]\n",
    "\tprint(\"%10s %2d\" % (calendar.month_name[month], auditday))\n"
   ]
  },
  {
   "cell_type": "code",
   "execution_count": 150,
   "metadata": {},
   "outputs": [
    {
     "name": "stdout",
     "output_type": "stream",
     "text": [
      "[3, 22, 30, 5.3, 20]\n",
      "20\n"
     ]
    }
   ],
   "source": [
    "list = [3, 22, 30, 5.3, 20]\n",
    "print(list)\n",
    "print(list[-1])\n"
   ]
  },
  {
   "cell_type": "code",
   "execution_count": 153,
   "metadata": {},
   "outputs": [
    {
     "name": "stdout",
     "output_type": "stream",
     "text": [
      "[3, 5, 7, 8, 9, 20, 3.33]\n"
     ]
    }
   ],
   "source": [
    "    list_1 = [3, 5, 7, 8, 9, 20]\n",
    "    list_1.append(3.33)\n",
    "    print(list_1)\n"
   ]
  },
  {
   "cell_type": "code",
   "execution_count": 154,
   "metadata": {},
   "outputs": [
    {
     "name": "stdout",
     "output_type": "stream",
     "text": [
      "[3, 5, 7, 8, 9, 20, 3.33, 'cats']\n"
     ]
    }
   ],
   "source": [
    "    list_1.append(\"cats\")\n",
    "    print(list_1)\n"
   ]
  },
  {
   "cell_type": "code",
   "execution_count": 155,
   "metadata": {},
   "outputs": [
    {
     "name": "stdout",
     "output_type": "stream",
     "text": [
      "4\n"
     ]
    }
   ],
   "source": [
    "numbers = [2, 5, 7, 9]\n",
    "print(len(numbers))\n"
   ]
  },
  {
   "cell_type": "code",
   "execution_count": 159,
   "metadata": {},
   "outputs": [
    {
     "name": "stdout",
     "output_type": "stream",
     "text": [
      "[2, 5, 7, 9, 15]\n"
     ]
    }
   ],
   "source": [
    "numbers = [2, 5, 7, 9]\n",
    "numbers.append(15)\n",
    "print(numbers)\n"
   ]
  },
  {
   "cell_type": "code",
   "execution_count": 160,
   "metadata": {},
   "outputs": [
    {
     "name": "stdout",
     "output_type": "stream",
     "text": [
      "[2, 5, 9, 15]\n"
     ]
    }
   ],
   "source": [
    "numbers = [2, 5, 7, 9, 15]\n",
    "numbers.pop(2)\n",
    "print(numbers)\n"
   ]
  },
  {
   "cell_type": "code",
   "execution_count": 162,
   "metadata": {},
   "outputs": [
    {
     "name": "stdout",
     "output_type": "stream",
     "text": [
      "[5, 7, 9]\n"
     ]
    }
   ],
   "source": [
    "values = [2, 5, 7, 9]\n",
    "values.remove(2)\n",
    "print(values)\n"
   ]
  },
  {
   "cell_type": "code",
   "execution_count": 163,
   "metadata": {},
   "outputs": [
    {
     "name": "stdout",
     "output_type": "stream",
     "text": [
      "[10, 7, 5, 2]\n"
     ]
    }
   ],
   "source": [
    "values = [2, 5, 7, 10]\n",
    "values.reverse()\n",
    "print(values)\n"
   ]
  },
  {
   "cell_type": "code",
   "execution_count": 164,
   "metadata": {},
   "outputs": [
    {
     "name": "stdout",
     "output_type": "stream",
     "text": [
      "2\n"
     ]
    }
   ],
   "source": [
    "animals = ['cat', 'dog', 'fish', 'cow', 'goat']\n",
    "fish_index = animals.index('fish')\n",
    "print(fish_index)\n"
   ]
  },
  {
   "cell_type": "code",
   "execution_count": 165,
   "metadata": {},
   "outputs": [
    {
     "name": "stdout",
     "output_type": "stream",
     "text": [
      "17\n"
     ]
    }
   ],
   "source": [
    "values = [2, 5, 10]\n",
    "sum_of_values = sum(values)\n",
    "print(sum_of_values)\n"
   ]
  },
  {
   "cell_type": "code",
   "execution_count": 166,
   "metadata": {},
   "outputs": [
    {
     "name": "stdout",
     "output_type": "stream",
     "text": [
      "[1, 3, 5, 7, 9]\n"
     ]
    }
   ],
   "source": [
    "values = [1, 7, 9, 3, 5]\n",
    "# To sort the values in ascending order:\n",
    "values.sort()\n",
    "print(values)\n"
   ]
  },
  {
   "cell_type": "code",
   "execution_count": 167,
   "metadata": {},
   "outputs": [
    {
     "name": "stdout",
     "output_type": "stream",
     "text": [
      "[50, 14, 10, 7, 2]\n"
     ]
    }
   ],
   "source": [
    "values = [2, 10, 7, 14, 50]\n",
    "# To sort the values in descending order:\n",
    "values.sort(reverse = True)\n",
    "print(values)\n"
   ]
  },
  {
   "cell_type": "code",
   "execution_count": 168,
   "metadata": {},
   "outputs": [
    {
     "name": "stdout",
     "output_type": "stream",
     "text": [
      "None\n",
      "None\n"
     ]
    }
   ],
   "source": [
    "strings = ['cat', 'mammal', 'goat', 'is']\n",
    "sort_by_alphabet = strings.sort()\n",
    "sort_by_length = strings.sort(key = len)\n",
    "print(sort_by_alphabet)\n",
    "print(sort_by_length)\n"
   ]
  },
  {
   "cell_type": "code",
   "execution_count": 172,
   "metadata": {},
   "outputs": [
    {
     "name": "stdout",
     "output_type": "stream",
     "text": [
      "8\n",
      "27\n",
      "35\n",
      "10.3\n",
      "25\n"
     ]
    }
   ],
   "source": [
    "    for elem in list:\n",
    "        elem = elem + 5\n",
    "        print(elem)\n",
    "\n"
   ]
  },
  {
   "cell_type": "code",
   "execution_count": 182,
   "metadata": {},
   "outputs": [],
   "source": [
    "f=open(\"guru99.txt\", \"a+\")\n"
   ]
  },
  {
   "cell_type": "code",
   "execution_count": 185,
   "metadata": {},
   "outputs": [],
   "source": [
    "def main():\n",
    "    f= open(\"guru99.txt\",\"w+\")\n",
    "    #f=open(\"guru99.txt\",\"a+\")\n",
    "    for i in range(10):\n",
    "         f.write(\"This is line %d\\r\\n\" % (i+1))\n",
    "    f.close()\n",
    "    #Open the file back and read the contents\n",
    "    #f=open(\"guru99.txt\", \"r\")\n",
    "    #if f.mode == 'r':\n",
    "    #   contents =f.read()\n",
    "    #    print (contents)\n",
    "    #or, readlines reads the individual line into a list\n",
    "    #fl =f.readlines()\n",
    "    #for x in fl:\n",
    "    #print(x)\n",
    "if __name__== \"__main__\":\n",
    "  main()\n"
   ]
  },
  {
   "cell_type": "code",
   "execution_count": 190,
   "metadata": {},
   "outputs": [],
   "source": [
    "def main():\n",
    "    f= open(\"guru99.txt\",\"w+\")\n",
    "    #f=open(\"guru99.txt\",\"a+\")\n",
    "    for i in range(10):\n",
    "         f.write(\"This is line %d\\r\\n\" % (i+1))\n",
    "    f.close()\n",
    "    #Open the file back and read the contents\n",
    "    #f=open(\"guru99.txt\", \"r\")\n",
    "    #if f.mode == 'r':\n",
    "    #   contents =f.read()\n",
    "    #    print (contents)\n",
    "    #or, readlines reads the individual line into a list\n",
    "    #fl =f.readlines()\n",
    "    #for x in fl:\n",
    "    #print(x)\n",
    "if __name__== \"__main__\":\n",
    "  main()\n",
    "\n",
    "\n",
    "\n",
    "\n"
   ]
  },
  {
   "cell_type": "code",
   "execution_count": 189,
   "metadata": {},
   "outputs": [
    {
     "ename": "SyntaxError",
     "evalue": "invalid syntax (<ipython-input-189-364ce1b7b037>, line 3)",
     "output_type": "error",
     "traceback": [
      "\u001b[1;36m  File \u001b[1;32m\"<ipython-input-189-364ce1b7b037>\"\u001b[1;36m, line \u001b[1;32m3\u001b[0m\n\u001b[1;33m    Python allows you to read, write and delete files\u001b[0m\n\u001b[1;37m                ^\u001b[0m\n\u001b[1;31mSyntaxError\u001b[0m\u001b[1;31m:\u001b[0m invalid syntax\n"
     ]
    }
   ],
   "source": [
    "==========================================================\n",
    "#Summary\n",
    "\n",
    "Python allows you to read, write and delete files\n",
    "Use the function open(\"filename\",\"w+\") to create a file. The + tells the python compiler to create a file if it does not exist\n",
    "To append data to an existing file use the command open(\"Filename\", \"a\")\n",
    "Use the read function to read the ENTIRE contents of a file\n",
    "Use the readlines function to read the content of the file one by one."
   ]
  },
  {
   "cell_type": "code",
   "execution_count": null,
   "metadata": {},
   "outputs": [],
   "source": []
  }
 ],
 "metadata": {
  "kernelspec": {
   "display_name": "Python 3",
   "language": "python",
   "name": "python3"
  },
  "language_info": {
   "codemirror_mode": {
    "name": "ipython",
    "version": 3
   },
   "file_extension": ".py",
   "mimetype": "text/x-python",
   "name": "python",
   "nbconvert_exporter": "python",
   "pygments_lexer": "ipython3",
   "version": "3.7.3"
  }
 },
 "nbformat": 4,
 "nbformat_minor": 2
}
