{
 "cells": [
  {
   "cell_type": "code",
   "execution_count": 1,
   "metadata": {},
   "outputs": [
    {
     "name": "stdout",
     "output_type": "stream",
     "text": [
      "22\n"
     ]
    }
   ],
   "source": [
    "# Python program to find sum of given \n",
    "# series. \n",
    "  \n",
    "def productPrimeFactors(n): \n",
    "    product = 1\n",
    "      \n",
    "    for i in range(2, n+1): \n",
    "        if (n % i == 0): \n",
    "            isPrime = 1\n",
    "              \n",
    "            for j in range(2, int(i/2 + 1)): \n",
    "                if (i % j == 0): \n",
    "                    isPrime = 0\n",
    "                    break\n",
    "                  \n",
    "            # condition if \\'i\\' is Prime number \n",
    "            # as well as factor of num \n",
    "            if (isPrime): \n",
    "                product = product * i \n",
    "                  \n",
    "    return product   \n",
    "      \n",
    "      \n",
    "      \n",
    "# main() \n",
    "n = 44\n",
    "print (productPrimeFactors(n)) \n",
    "  \n",
    "# Contributed by _omg \n"
   ]
  },
  {
   "cell_type": "code",
   "execution_count": 2,
   "metadata": {},
   "outputs": [
    {
     "name": "stdout",
     "output_type": "stream",
     "text": [
      "22\n"
     ]
    }
   ],
   "source": [
    "# Python program to find product of  \n",
    "# unique prime factors of a number \n",
    "  \n",
    "import math \n",
    "  \n",
    "def productPrimeFactors(n): \n",
    "    product = 1\n",
    "      \n",
    "    # Handle prime factor 2 explicitly so that \n",
    "    # can optimally handle other prime factors. \n",
    "    if (n % 2 == 0): \n",
    "        product *= 2\n",
    "        while (n%2 == 0): \n",
    "            n = n/2\n",
    "              \n",
    "    # n must be odd at this point. So we can \n",
    "    # skip one element (Note i = i +2) \n",
    "    for i in range (3, int(math.sqrt(n)), 2): \n",
    "        # While i divides n, print i and \n",
    "        # divide n \n",
    "        if (n % i == 0): \n",
    "            product = product * i \n",
    "            while (n%i == 0): \n",
    "                n = n/i \n",
    "                  \n",
    "    # This condition is to handle the case when n \n",
    "    # is a prime number greater than 2 \n",
    "    if (n > 2): \n",
    "        product = product * n \n",
    "          \n",
    "    return product      \n",
    "      \n",
    "# main() \n",
    "n = 44\n",
    "print (int(productPrimeFactors(n))) \n",
    "  \n",
    "# Contributed by _omg \n"
   ]
  },
  {
   "cell_type": "code",
   "execution_count": 3,
   "metadata": {},
   "outputs": [
    {
     "name": "stdout",
     "output_type": "stream",
     "text": [
      "24\n"
     ]
    }
   ],
   "source": [
    "# Formula based Python3 program  \n",
    "# to find sum of all divisors \n",
    "# of n. \n",
    "import math \n",
    "  \n",
    "# Returns sum of all factors \n",
    "# of n. \n",
    "def sumofoddFactors( n ): \n",
    "      \n",
    "    # Traversing through all  \n",
    "    # prime factors. \n",
    "    res = 1\n",
    "      \n",
    "    # ignore even factors by  \n",
    "    # of 2 \n",
    "    while n % 2 == 0: \n",
    "        n = n // 2\n",
    "      \n",
    "    for i in range(3, int(math.sqrt(n) + 1)): \n",
    "          \n",
    "        # While i divides n, print \n",
    "        # i and divide n \n",
    "        count = 0\n",
    "        curr_sum = 1\n",
    "        curr_term = 1\n",
    "        while n % i == 0: \n",
    "            count+=1\n",
    "              \n",
    "            n = n // i \n",
    "            curr_term *= i \n",
    "            curr_sum += curr_term \n",
    "          \n",
    "        res *= curr_sum \n",
    "      \n",
    "    # This condition is to \n",
    "    # handle the case when \n",
    "    # n is a prime number. \n",
    "    if n >= 2: \n",
    "        res *= (1 + n) \n",
    "      \n",
    "    return res \n",
    "  \n",
    "# Driver code \n",
    "n = 30\n",
    "print(sumofoddFactors(n)) \n",
    "  \n",
    "# This code is contributed by \"Sharad_Bhardwaj\". \n"
   ]
  },
  {
   "cell_type": "code",
   "execution_count": 4,
   "metadata": {},
   "outputs": [
    {
     "name": "stdout",
     "output_type": "stream",
     "text": [
      "4\n"
     ]
    }
   ],
   "source": [
    "# Dynamic Programming Python implementation of Coin  \n",
    "# Change problem \n",
    "def count(S, m, n): \n",
    "    # We need n+1 rows as the table is constructed  \n",
    "    # in bottom up manner using the base case 0 value \n",
    "    # case (n = 0) \n",
    "    table = [[0 for x in range(m)] for x in range(n+1)] \n",
    "  \n",
    "    # Fill the entries for 0 value case (n = 0) \n",
    "    for i in range(m): \n",
    "        table[0][i] = 1\n",
    "  \n",
    "    # Fill rest of the table entries in bottom up manner \n",
    "    for i in range(1, n+1): \n",
    "        for j in range(m): \n",
    "  \n",
    "            # Count of solutions including S[j] \n",
    "            x = table[i - S[j]][j] if i-S[j] >= 0 else 0\n",
    "  \n",
    "            # Count of solutions excluding S[j] \n",
    "            y = table[i][j-1] if j >= 1 else 0\n",
    "  \n",
    "            # total count \n",
    "            table[i][j] = x + y \n",
    "  \n",
    "    return table[n][m-1] \n",
    "  \n",
    "# Driver program to test above function \n",
    "arr = [1, 2, 3] \n",
    "m = len(arr) \n",
    "n = 4\n",
    "print(count(arr, m, n)) \n",
    "  \n",
    "# This code is contributed by Bhavya Jain \n"
   ]
  },
  {
   "cell_type": "code",
   "execution_count": 5,
   "metadata": {},
   "outputs": [
    {
     "name": "stdout",
     "output_type": "stream",
     "text": [
      "4\n"
     ]
    }
   ],
   "source": [
    "# Dynamic Programming Python implementation of Coin  \n",
    "# Change problem \n",
    "def count(S, m, n): \n",
    "  \n",
    "    # table[i] will be storing the number of solutions for \n",
    "    # value i. We need n+1 rows as the table is constructed \n",
    "    # in bottom up manner using the base case (n = 0) \n",
    "    # Initialize all table values as 0 \n",
    "    table = [0 for k in range(n+1)] \n",
    "  \n",
    "    # Base case (If given value is 0) \n",
    "    table[0] = 1\n",
    "  \n",
    "    # Pick all coins one by one and update the table[] values \n",
    "    # after the index greater than or equal to the value of the \n",
    "    # picked coin \n",
    "    for i in range(0,m): \n",
    "        for j in range(S[i],n+1): \n",
    "            table[j] += table[j-S[i]] \n",
    "  \n",
    "    return table[n] \n",
    "  \n",
    "# Driver program to test above function \n",
    "arr = [1, 2, 3] \n",
    "m = len(arr) \n",
    "n = 4\n",
    "x = count(arr, m, n) \n",
    "print (x) \n",
    "  \n",
    "# This code is contributed by Afzal Ansari \n"
   ]
  },
  {
   "cell_type": "code",
   "execution_count": 51,
   "metadata": {},
   "outputs": [
    {
     "ename": "SyntaxError",
     "evalue": "unexpected character after line continuation character (<ipython-input-51-a7b8c0a3b0b3>, line 10)",
     "output_type": "error",
     "traceback": [
      "\u001b[1;36m  File \u001b[1;32m\"<ipython-input-51-a7b8c0a3b0b3>\"\u001b[1;36m, line \u001b[1;32m10\u001b[0m\n\u001b[1;33m    TowerOfHanoi(n,\\'A\\',\\'C\\',\\'B\\')\u001b[0m\n\u001b[1;37m                                     ^\u001b[0m\n\u001b[1;31mSyntaxError\u001b[0m\u001b[1;31m:\u001b[0m unexpected character after line continuation character\n"
     ]
    }
   ],
   "source": [
    "def TowerOfHanoi(n , from_rod, to_rod, aux_rod):\n",
    "    if n == 1:\n",
    "        print(\"Move disk 1 from rod\",from_rod,\"to rod\",to_rod)\n",
    "        return\n",
    "    TowerOfHanoi(n-1, from_rod, aux_rod, to_rod)\n",
    "    print(\"Move disk\",n,\"from rod\",from_rod,\"to rod\",to_rod)\n",
    "    TowerOfHanoi(n-1, aux_rod, to_rod, from_rod)          \n",
    "# Driver code\n",
    "n = 4\n",
    "TowerOfHanoi(n,\\'A\\',\\'C\\',\\'B\\')\n",
    "# A, C, B are the name of rods\n",
    "# Contributed By Harshit Agrawal"
   ]
  },
  {
   "cell_type": "code",
   "execution_count": 56,
   "metadata": {},
   "outputs": [
    {
     "ename": "SyntaxError",
     "evalue": "invalid syntax (<ipython-input-56-03d0d10a1bd2>, line 27)",
     "output_type": "error",
     "traceback": [
      "\u001b[1;36m  File \u001b[1;32m\"<ipython-input-56-03d0d10a1bd2>\"\u001b[1;36m, line \u001b[1;32m27\u001b[0m\n\u001b[1;33m    if __name__==\\'__main__\\':\u001b[0m\n\u001b[1;37m     ^\u001b[0m\n\u001b[1;31mSyntaxError\u001b[0m\u001b[1;31m:\u001b[0m invalid syntax\n"
     ]
    }
   ],
   "source": [
    "# Python program to print all primes smaller than or equal to \n",
    "# n using Sieve of Eratosthenes \n",
    "  \n",
    "def SieveOfEratosthenes(n): \n",
    "      \n",
    "    # Create a boolean array \"prime[0..n]\" and initialize \n",
    "    #  all entries it as true. A value in prime[i] will \n",
    "    # finally be false if i is Not a prime, else true. \n",
    "    prime = [True for i in range(n+1)] \n",
    "    p = 2\n",
    "    while (p * p <= n): \n",
    "          \n",
    "        # If prime[p] is not changed, then it is a prime \n",
    "        if (prime[p] == True): \n",
    "              \n",
    "            # Update all multiples of p \n",
    "            for i in range(p * 2, n+1, p): \n",
    "                prime[i] = False\n",
    "        p += 1\n",
    "      \n",
    "    # Print all prime numbers \n",
    "    for p in range(2, n): \n",
    "        if prime[p]: \n",
    "            print (p, \n",
    "  \n",
    "# driver program \n",
    "if __name__==\\'__main__\\': \n",
    "    n = 30\n",
    "    print (\"Following are the prime numbers smaller\")\n",
    "    print (\"than or equal to\", n)\n",
    "    SieveOfEratosthenes(n)"
   ]
  },
  {
   "cell_type": "code",
   "execution_count": 59,
   "metadata": {},
   "outputs": [
    {
     "name": "stdout",
     "output_type": "stream",
     "text": [
      "True\n"
     ]
    }
   ],
   "source": [
    "# Function to check if binary representation of \n",
    "# a number is pallindrome or not \n",
    "  \n",
    "def binaryPallindrome(num): \n",
    "  \n",
    "     # convert number into binary \n",
    "     binary = bin(num) \n",
    "  \n",
    "     # skip first two characters of string \n",
    "     # because bin function appends '0b' as  \n",
    "     # prefix in binary representation of \n",
    "     # a number \n",
    "     binary = binary[2:] \n",
    "  \n",
    "     # now reverse binary string and compare \n",
    "     # it with original \n",
    "     return binary == binary[-1::-1] \n",
    "  \n",
    "# Driver program \n",
    "if __name__ == \"__main__\": \n",
    "    num = 9\n",
    "    print (binaryPallindrome(num))\n"
   ]
  },
  {
   "cell_type": "code",
   "execution_count": 60,
   "metadata": {},
   "outputs": [
    {
     "name": "stdout",
     "output_type": "stream",
     "text": [
      "gcd( 10 , 15 ) =  5\n",
      "gcd( 35 , 10 ) =  5\n",
      "gcd( 31 , 2 ) =  1\n"
     ]
    }
   ],
   "source": [
    "# Python program to demonstrate Basic Euclidean Algorithm \n",
    "  \n",
    "  \n",
    "# Function to return gcd of a and b \n",
    "def gcd(a, b):  \n",
    "    if a == 0 : \n",
    "        return b  \n",
    "      \n",
    "    return gcd(b%a, a) \n",
    "  \n",
    "a = 10\n",
    "b = 15\n",
    "print(\"gcd(\", a , \",\" , b, \") = \", gcd(a, b)) \n",
    "  \n",
    "a = 35\n",
    "b = 10\n",
    "print(\"gcd(\", a , \",\" , b, \") = \", gcd(a, b)) \n",
    "  \n",
    "a = 31\n",
    "b = 2\n",
    "print(\"gcd(\", a , \",\" , b, \") = \", gcd(a, b)) \n",
    "  \n",
    "# Code Contributed By Mohit Gupta_OMG <(0_o)> \n"
   ]
  },
  {
   "cell_type": "code",
   "execution_count": 61,
   "metadata": {},
   "outputs": [
    {
     "name": "stdout",
     "output_type": "stream",
     "text": [
      "gcd( 35 , 15 ) =  5\n"
     ]
    }
   ],
   "source": [
    "# Python program to demonstrate working of extended \n",
    "# Euclidean Algorithm \n",
    "  \n",
    "# function for extended Euclidean Algorithm \n",
    "def gcdExtended(a, b, x, y): \n",
    "    # Base Case \n",
    "    if a == 0 :  \n",
    "        x = 0\n",
    "        y = 1\n",
    "        return b \n",
    "          \n",
    "    x1 = 1\n",
    "    y1 = 1 # To store results of recursive call \n",
    "    gcd = gcdExtended(b%a, a, x1, y1) \n",
    "  \n",
    "    # Update x and y using results of recursive \n",
    "    # call \n",
    "    x = y1 - (b/a) * x1 \n",
    "    y = x1 \n",
    "  \n",
    "    return gcd \n",
    "  \n",
    "  \n",
    "x = 1\n",
    "y = 1\n",
    "a = 35\n",
    "b = 15\n",
    "g = gcdExtended(a, b, x, y) \n",
    "print(\"gcd(\", a , \",\" , b, \") = \", g) \n",
    "  \n",
    "# Code Contributed by Mohit Gupta_OMG <(0_o)> \n"
   ]
  },
  {
   "cell_type": "code",
   "execution_count": 63,
   "metadata": {},
   "outputs": [
    {
     "name": "stdout",
     "output_type": "stream",
     "text": [
      "Count is 8\n"
     ]
    }
   ],
   "source": [
    "# Python program to count number of odd squares \n",
    "# in given range [n, m] \n",
    "  \n",
    "def countOddSquares(n, m): \n",
    "    return int(m**0.5) - int((n-1)**0.5) \n",
    "  \n",
    "# Driver code \n",
    "n = 5\n",
    "m = 100\n",
    "print(\"Count is\", countOddSquares(n, m)) \n",
    "  \n",
    "# This code is contributed by \n",
    "# Mohit Gupta_OMG <0_o> \n"
   ]
  },
  {
   "cell_type": "code",
   "execution_count": 64,
   "metadata": {},
   "outputs": [
    {
     "name": "stdout",
     "output_type": "stream",
     "text": [
      "6\n"
     ]
    }
   ],
   "source": [
    "# Python Program to find  \n",
    "# Common Divisors of Two Numbers \n",
    "  \n",
    "a = 12\n",
    "b = 24\n",
    "n = 0\n",
    "  \n",
    "for i in range(1, min(a, b)+1): \n",
    "    if a%i==b%i==0: \n",
    "        n+=1\n",
    "      \n",
    "print(n) \n",
    "  \n",
    "# Code contributed by Mohit Gupta_OMG \n"
   ]
  },
  {
   "cell_type": "code",
   "execution_count": 67,
   "metadata": {},
   "outputs": [
    {
     "name": "stdout",
     "output_type": "stream",
     "text": [
      "4\n"
     ]
    }
   ],
   "source": [
    "# Python3 program to find \n",
    "# maximum height of arranged \n",
    "# coin triangle \n",
    "  \n",
    "# Returns the square root of n. \n",
    "# Note that the function  \n",
    "def squareRoot(n): \n",
    "   \n",
    "    # We are using n itself as \n",
    "        # initial approximation \n",
    "    # This can definitely be improved  \n",
    "    x = n  \n",
    "    y = 1 \n",
    "  \n",
    "    e = 0.000001  # e decides the accuracy level  \n",
    "    while (x - y > e): \n",
    "        x = (x + y) / 2\n",
    "        y = n/x \n",
    "          \n",
    "    return x  \n",
    "\n",
    "# Method to find maximum height \n",
    "# of arrangement of coins \n",
    "def findMaximumHeight(N): \n",
    "   \n",
    "    # calculating portion inside the square root \n",
    "    n = 1 + 8*N  \n",
    "    maxH = (-1 + squareRoot(n)) / 2\n",
    "    return int(maxH)  \n",
    "   \n",
    "  \n",
    "# Driver code to test above method \n",
    "N = 12 \n",
    "print(findMaximumHeight(N)) \n",
    "  \n",
    "# This code is contributed by \n",
    "# Smitha Dinesh Semwal \n"
   ]
  },
  {
   "cell_type": "code",
   "execution_count": 68,
   "metadata": {},
   "outputs": [
    {
     "name": "stdout",
     "output_type": "stream",
     "text": [
      "2\n"
     ]
    }
   ],
   "source": [
    "# GCD of more than two (or array) numbers \n",
    "# This function implements the Euclidian  \n",
    "# algorithm to find H.C.F. of two number \n",
    "  \n",
    "def find_gcd(x, y): \n",
    "    while(y): \n",
    "        x, y = y, x % y \n",
    "  \n",
    "    return x \n",
    "      \n",
    "      \n",
    "l = [2, 4, 6, 8, 16] \n",
    "  \n",
    "num1=l[0] \n",
    "num2=l[1] \n",
    "gcd=find_gcd(num1,num2) \n",
    "  \n",
    "for i in range(2,len(l)): \n",
    "    gcd=find_gcd(gcd,l[i]) \n",
    "      \n",
    "print(gcd) \n",
    "  \n",
    "# Code contributed by Mohit Gupta_OMG \n"
   ]
  },
  {
   "cell_type": "code",
   "execution_count": 69,
   "metadata": {},
   "outputs": [
    {
     "name": "stdout",
     "output_type": "stream",
     "text": [
      "The count of divisor: \n",
      "Even\n"
     ]
    }
   ],
   "source": [
    "# Naive Solution to  \n",
    "# find if count of  \n",
    "# divisors is even \n",
    "# or odd \n",
    "import math \n",
    "  \n",
    "# Function to count  \n",
    "# the divisors \n",
    "def countDivisors(n) : \n",
    "      \n",
    "    # Initialize count  \n",
    "    # of divisors \n",
    "    count = 0\n",
    "  \n",
    "    # Note that this loop  \n",
    "    # runs till square  \n",
    "    # root \n",
    "    for i in range(1, (int)(math.sqrt(n)) + 2) : \n",
    "        if (n % i == 0) : \n",
    "              \n",
    "            # If divisors are \n",
    "            # equal,increment \n",
    "            # count by one \n",
    "            # Otherwise increment \n",
    "            # count by 2 \n",
    "            if( n // i == i) : \n",
    "                count = count + 1\n",
    "            else : \n",
    "                count = count + 2\n",
    "  \n",
    "    if (count % 2 == 0) : \n",
    "        print(\"Even\") \n",
    "    else : \n",
    "        print(\"Odd\") \n",
    "  \n",
    "  \n",
    "# Driver program to test above function */ \n",
    "print(\"The count of divisor: \") \n",
    "countDivisors(10) \n",
    "  \n",
    "#This code is contributed by Nikita Tiwari.*/ \n"
   ]
  },
  {
   "cell_type": "code",
   "execution_count": 70,
   "metadata": {},
   "outputs": [
    {
     "name": "stdout",
     "output_type": "stream",
     "text": [
      "The count of divisorof 10 is: \n",
      "Even\n"
     ]
    }
   ],
   "source": [
    "# Python program for \n",
    "# Efficient Solution to find \n",
    "# find if count of divisors \n",
    "# is even or odd \n",
    "  \n",
    "# Python program for \n",
    "# Efficient Solution to find \n",
    "# find if count of divisors \n",
    "# is even or odd \n",
    "  \n",
    "def NumOfDivisor(n): \n",
    "    if n < 1: \n",
    "        return\n",
    "    root_n = n**0.5\n",
    "      \n",
    "    # If n is a perfect square, \n",
    "    # then it has odd divisors \n",
    "    if root_n**2 == n: \n",
    "        print(\"Odd\") \n",
    "    else: \n",
    "        print(\"Even\") \n",
    "          \n",
    "# Driver code     \n",
    "if __name__ == '__main__': \n",
    "    print(\"The count of divisor\"+\n",
    "        \"of 10 is: \") \n",
    "    NumOfDivisor(10) \n",
    "      \n",
    "# This code is contributed by Yt R  \n"
   ]
  },
  {
   "cell_type": "code",
   "execution_count": 72,
   "metadata": {},
   "outputs": [
    {
     "name": "stdout",
     "output_type": "stream",
     "text": [
      "7.0\n"
     ]
    }
   ],
   "source": [
    "# Python program to find minimum \n",
    "# sum of product of number \n",
    "   \n",
    "# To find minimum sum of \n",
    "# product of number \n",
    "def findMinSum(num): \n",
    "    sum = 0\n",
    "      \n",
    "    # Find factors of number \n",
    "    # and add to the sum \n",
    "    i = 2\n",
    "    while(i * i <= num): \n",
    "        while(num % i == 0): \n",
    "            sum += i \n",
    "            num /= i \n",
    "        i += 1\n",
    "    sum += num \n",
    "      \n",
    "    # Return sum of numbers \n",
    "    # having minimum product \n",
    "    return sum\n",
    "  \n",
    "# Driver Code \n",
    "num = 12\n",
    "print (findMinSum(num))\n",
    "  \n",
    "# This code is contributed by Sachin Bisht \n"
   ]
  },
  {
   "cell_type": "code",
   "execution_count": 73,
   "metadata": {},
   "outputs": [
    {
     "name": "stdout",
     "output_type": "stream",
     "text": [
      "Yes\n"
     ]
    }
   ],
   "source": [
    "# Python program to check if difference between sum of \n",
    "# odd digits and sum of even digits is 0 or not \n",
    "  \n",
    "def isDiff(n): \n",
    "    return (n % 11 == 0) \n",
    "  \n",
    "# Driver code \n",
    "n = 1243; \n",
    "if (isDiff(n)): \n",
    "    print(\"Yes\") \n",
    "else: \n",
    "    print(\"No\") \n",
    "  \n",
    "# Mohit Gupta_OMG <0_o> \n"
   ]
  },
  {
   "cell_type": "code",
   "execution_count": 74,
   "metadata": {},
   "outputs": [
    {
     "name": "stdout",
     "output_type": "stream",
     "text": [
      "4 5 6 8 3 8 1 8 7 5 "
     ]
    }
   ],
   "source": [
    "# Python program to print a  \n",
    "# square matrix in Z form \n",
    "  \n",
    "arr = [[4, 5, 6, 8],  \n",
    "        [1, 2, 3, 1],  \n",
    "        [7, 8, 9, 4],  \n",
    "        [1, 8, 7, 5]] \n",
    "  \n",
    "n = len(arr[0]) \n",
    "                   \n",
    "i=0\n",
    "for j in range(0, n-1): \n",
    "    print(arr[i][j], end =\" \")  \n",
    "          \n",
    "k = 1\n",
    "for i in range(0, n): \n",
    "    for j in range(n, 0, -1): \n",
    "        if(j==n-k): \n",
    "            print(arr[i][j], end = \" \")  \n",
    "            break;  \n",
    "    k+=1\n",
    "  \n",
    "# Print last row \n",
    "i=n-1;  \n",
    "for j in range(0, n): \n",
    "    print(arr[i][j], end = \" \") \n",
    "  \n",
    "# Code contributed by Mohit Gupta_OMG <(0_o)> \n"
   ]
  },
  {
   "cell_type": "code",
   "execution_count": 75,
   "metadata": {},
   "outputs": [
    {
     "name": "stdout",
     "output_type": "stream",
     "text": [
      "990\n"
     ]
    }
   ],
   "source": [
    "# Python code to find highest  \n",
    "# K-digit number divisible by X \n",
    "  \n",
    "def answer(X, K): \n",
    "      \n",
    "    # Computing MAX \n",
    "    MAX = pow(10, K) - 1\n",
    "      \n",
    "    #returning ans \n",
    "    return (MAX - (MAX % X)) \n",
    "  \n",
    "X = 30;  \n",
    "K = 3;  \n",
    "  \n",
    "print(answer(X, K));  \n",
    "  \n",
    "# Code contributes by Mohit Gupta_OMG <(0_o)> \n"
   ]
  },
  {
   "cell_type": "code",
   "execution_count": 76,
   "metadata": {},
   "outputs": [
    {
     "name": "stdout",
     "output_type": "stream",
     "text": [
      "10043\n"
     ]
    }
   ],
   "source": [
    "# Python code to find smallest K-digit   \n",
    "# number divisible by X \n",
    "  \n",
    "def answer(X, K): \n",
    "      \n",
    "    # Computing MAX \n",
    "    MIN = pow(10, K-1) \n",
    "      \n",
    "    if(MIN%X == 0): \n",
    "        return (MIN) \n",
    "      \n",
    "    else: \n",
    "        return ((MIN + X) - ((MIN + X) % X)) \n",
    "      \n",
    "  \n",
    "X = 83;  \n",
    "K = 5;  \n",
    "  \n",
    "print(answer(X, K));  \n",
    "  \n",
    "# Code contributed by Mohit Gupta_OMG <(0_o)> \n"
   ]
  },
  {
   "cell_type": "code",
   "execution_count": 77,
   "metadata": {},
   "outputs": [
    {
     "name": "stdout",
     "output_type": "stream",
     "text": [
      "20 14 8 2 -4 2 8 14 20 "
     ]
    }
   ],
   "source": [
    "# Python program to Print Number \n",
    "# series without using loop \n",
    "  \n",
    "def PrintNumber(N, Original, K, flag): \n",
    "    #print the number \n",
    "    print(N, end = \" \") \n",
    "      \n",
    "    # change flag if number \n",
    "    # become negative \n",
    "      \n",
    "    if (N <= 0): \n",
    "        if(flag==0): \n",
    "            flag = 1\n",
    "        else: \n",
    "            flag = 0\n",
    "          \n",
    "    # base condition for \n",
    "    # second_case (Adding K) \n",
    "      \n",
    "    if (N == Original and (not(flag))): \n",
    "        return\n",
    "      \n",
    "    # if flag is true \n",
    "    # we subtract value until \n",
    "    # number is greater then zero \n",
    "      \n",
    "    if (flag == True): \n",
    "        PrintNumber(N - K, Original, K, flag) \n",
    "        return\n",
    "      \n",
    "    # second case (Addition ) \n",
    "    if (not(flag)): \n",
    "        PrintNumber(N + K, Original, K, flag); \n",
    "        return\n",
    "      \n",
    "N = 20\n",
    "K = 6\n",
    "PrintNumber(N, N, K, True) \n",
    "  \n",
    "# This code is contributed by Mohit Gupta_OMG \n"
   ]
  },
  {
   "cell_type": "code",
   "execution_count": 78,
   "metadata": {},
   "outputs": [
    {
     "name": "stdout",
     "output_type": "stream",
     "text": [
      "126\n"
     ]
    }
   ],
   "source": [
    "# Python code to calculate number \n",
    "# of ways of selecting \\'p\\' non  \n",
    "# consecutive stations out of  \n",
    "# \\'n\\' stations \n",
    "  \n",
    "def stopping_station( p, n): \n",
    "    num = 1\n",
    "    dem = 1\n",
    "    s = p \n",
    "  \n",
    "    # selecting \\'s\\' positions \n",
    "    # out of \\'n-s+1\\' \n",
    "    while p != 1: \n",
    "        dem *= p \n",
    "        p-=1\n",
    "      \n",
    "    t = n - s + 1\n",
    "    while t != (n-2 * s + 1): \n",
    "        num *= t \n",
    "        t-=1\n",
    "    if (n - s + 1) >= s: \n",
    "        return int(num/dem) \n",
    "    else: \n",
    "        # if conditions does not \n",
    "        # satisfy of combinatorics \n",
    "        return -1\n",
    "  \n",
    "# driver code  \n",
    "num = stopping_station(4, 12) \n",
    "if num != -1: \n",
    "    print(num) \n",
    "else: \n",
    "    print(\"Not Possible\") \n",
    "  \n",
    "# This code is contributed by \"Abhishek Sharma 44\" \n"
   ]
  },
  {
   "cell_type": "code",
   "execution_count": 79,
   "metadata": {},
   "outputs": [
    {
     "name": "stdout",
     "output_type": "stream",
     "text": [
      "3.18\n"
     ]
    }
   ],
   "source": [
    "# Python code to find the volume of a tetrahedron \n",
    "import math \n",
    "def vol_tetra(side): \n",
    "    volume = (side ** 3 / (6 * math.sqrt(2))) \n",
    "    return round(volume, 2) \n",
    "  \n",
    "# Driver Code \n",
    "side = 3\n",
    "vol = vol_tetra(side) \n",
    "print(vol) \n"
   ]
  },
  {
   "cell_type": "code",
   "execution_count": 80,
   "metadata": {},
   "outputs": [
    {
     "name": "stdout",
     "output_type": "stream",
     "text": [
      "Focal length of spherical concave mirror is : 15.0  units\n",
      "Focal length of spherical convex mirror is :  -15.0  units\n"
     ]
    }
   ],
   "source": [
    "# Python3 program to determine \n",
    "# the focal length of a \n",
    "# of a spherical mirrorr  \n",
    "  \n",
    "# Determines focal length of  \n",
    "# a spherical concave mirror \n",
    "def focal_length_concave(R): \n",
    "    return R / 2\n",
    "  \n",
    "# Determines focal length of \n",
    "# a spherical convex mirror \n",
    "def focal_length_convex(R): \n",
    "    return - ( R/ 2 )  \n",
    "  \n",
    "# Driver function \n",
    "R = 30 ; \n",
    "print(\"Focal length of spherical concave mirror is :\", \n",
    "        focal_length_concave(R),\" units\") \n",
    "print(\"Focal length of spherical convex mirror is : \", \n",
    "        focal_length_convex(R),\" units\") \n"
   ]
  },
  {
   "cell_type": "code",
   "execution_count": 81,
   "metadata": {},
   "outputs": [
    {
     "name": "stdout",
     "output_type": "stream",
     "text": [
      "Perimeter =  30\n"
     ]
    }
   ],
   "source": [
    "# Function to calculate  \n",
    "# the perimeter of a cylinder \n",
    "def perimeter( diameter, height ) : \n",
    "    return 2 * ( diameter + height )  \n",
    "  \n",
    "# Driver function \n",
    "diameter = 5 ; \n",
    "height = 10 ; \n",
    "print (\"Perimeter = \", \n",
    "            perimeter(diameter, height)) \n"
   ]
  },
  {
   "cell_type": "code",
   "execution_count": 82,
   "metadata": {},
   "outputs": [
    {
     "name": "stdout",
     "output_type": "stream",
     "text": [
      "YES\n"
     ]
    }
   ],
   "source": [
    "# Python program to check if a triangle  \n",
    "# of positive area is possible with \n",
    "# the given angles \n",
    "  \n",
    "def isTriangleExists(a, b, c): \n",
    "    # Checking if the sum of three  \n",
    "    # angles is 180 and none of  \n",
    "    # the angles is zero \n",
    "    if(a != 0 and b != 0 and c != 0 and (a + b + c)== 180): \n",
    "        # Checking if sum of any two angles \n",
    "        # is greater than equal to the third one \n",
    "        if((a + b)>= c or (b + c)>= a or (a + c)>= b): \n",
    "            return \"YES\"\n",
    "        else: \n",
    "            return \"NO\"\n",
    "    else: \n",
    "        return \"NO\"\n",
    "  \n",
    "# Driver Code \n",
    "a, b, c = 50, 60, 70\n",
    "  \n",
    "print(isTriangleExists(50, 60, 70)) \n"
   ]
  },
  {
   "cell_type": "code",
   "execution_count": 83,
   "metadata": {},
   "outputs": [
    {
     "name": "stdout",
     "output_type": "stream",
     "text": [
      "3\n"
     ]
    }
   ],
   "source": [
    "# Python code to find the minimum number \n",
    "# of jump required to reach  \n",
    "# (d, 0) from (0, 0) \n",
    "  \n",
    "def minJumps(a, b, d): \n",
    "      \n",
    "    temp = a \n",
    "    a = min(a, b) \n",
    "    b = max(temp, b) \n",
    "      \n",
    "    if (d >= b): \n",
    "        return (d + b - 1) / b \n",
    "      \n",
    "    # if d is 0 \n",
    "    if (d == 0): \n",
    "        return 0\n",
    "   \n",
    "    # if d is equal to a. \n",
    "    if (d == a): \n",
    "        return 1\n",
    "   \n",
    "    # else make triangle, and only 2  \n",
    "    # steps required. \n",
    "    return 2\n",
    "         \n",
    "# main() \n",
    "a = 3\n",
    "b = 4\n",
    "d = 11\n",
    "print (int(minJumps(a, b, d))) \n",
    "  \n",
    "# Contributed by _omg \n"
   ]
  },
  {
   "cell_type": "code",
   "execution_count": 84,
   "metadata": {},
   "outputs": [
    {
     "name": "stdout",
     "output_type": "stream",
     "text": [
      "Vertex: ( -0.3 ,  1.55 )\n",
      "Focus: ( -0.3 ,  1.6 )\n",
      "Directrix: y= -198\n"
     ]
    }
   ],
   "source": [
    "# Python program to calculate Vertex, Focus and Directrix \n",
    "  \n",
    "def parabola(a, b, c): \n",
    "    print (\"Vertex: (\" , (-b / (2 * a)) , \", \"\n",
    "        ,(((4 * a * c) - (b * b)) / (4 * a)) , \")\" ) \n",
    "          \n",
    "    print (\"Focus: (\" , (-b / (2 * a)) , \", \"\n",
    "        , (((4 * a * c) - (b * b) + 1) / (4 * a)) , \")\" ) \n",
    "      \n",
    "    print (\"Directrix: y=\"\n",
    "            , (int)(c - ((b * b) + 1) * 4 * a ))     \n",
    "      \n",
    "      \n",
    "# main() \n",
    "a = 5\n",
    "b = 3\n",
    "c = 2\n",
    "  \n",
    "parabola(a, b, c) \n",
    "  \n",
    "# Contributed by _omg \n"
   ]
  },
  {
   "cell_type": "code",
   "execution_count": 114,
   "metadata": {},
   "outputs": [
    {
     "ename": "AttributeError",
     "evalue": "'dict_values' object has no attribute 'index'",
     "output_type": "error",
     "traceback": [
      "\u001b[1;31m---------------------------------------------------------------------------\u001b[0m",
      "\u001b[1;31mAttributeError\u001b[0m                            Traceback (most recent call last)",
      "\u001b[1;32m<ipython-input-114-500a3a78713b>\u001b[0m in \u001b[0;36m<module>\u001b[1;34m\u001b[0m\n\u001b[0;32m     20\u001b[0m \u001b[1;32mif\u001b[0m \u001b[0m__name__\u001b[0m \u001b[1;33m==\u001b[0m \u001b[1;34m\"__main__\"\u001b[0m\u001b[1;33m:\u001b[0m\u001b[1;33m\u001b[0m\u001b[1;33m\u001b[0m\u001b[0m\n\u001b[0;32m     21\u001b[0m     \u001b[0minput\u001b[0m \u001b[1;33m=\u001b[0m \u001b[1;34m'geeksforgeeks'\u001b[0m\u001b[1;33m\u001b[0m\u001b[1;33m\u001b[0m\u001b[0m\n\u001b[1;32m---> 22\u001b[1;33m     \u001b[0mfind_most_occ_char\u001b[0m\u001b[1;33m(\u001b[0m\u001b[0minput\u001b[0m\u001b[1;33m)\u001b[0m\u001b[1;33m\u001b[0m\u001b[1;33m\u001b[0m\u001b[0m\n\u001b[0m",
      "\u001b[1;32m<ipython-input-114-500a3a78713b>\u001b[0m in \u001b[0;36mfind_most_occ_char\u001b[1;34m(input)\u001b[0m\n\u001b[0;32m     13\u001b[0m         \u001b[1;31m# and get the index of it.\u001b[0m\u001b[1;33m\u001b[0m\u001b[1;33m\u001b[0m\u001b[1;33m\u001b[0m\u001b[0m\n\u001b[0;32m     14\u001b[0m     \u001b[0ms\u001b[0m \u001b[1;33m=\u001b[0m \u001b[0mmax\u001b[0m\u001b[1;33m(\u001b[0m\u001b[0mwc\u001b[0m\u001b[1;33m.\u001b[0m\u001b[0mvalues\u001b[0m\u001b[1;33m(\u001b[0m\u001b[1;33m)\u001b[0m\u001b[1;33m)\u001b[0m\u001b[1;33m\u001b[0m\u001b[1;33m\u001b[0m\u001b[0m\n\u001b[1;32m---> 15\u001b[1;33m     \u001b[0mi\u001b[0m \u001b[1;33m=\u001b[0m \u001b[0mwc\u001b[0m\u001b[1;33m.\u001b[0m\u001b[0mvalues\u001b[0m\u001b[1;33m(\u001b[0m\u001b[1;33m)\u001b[0m\u001b[1;33m.\u001b[0m\u001b[0mindex\u001b[0m\u001b[1;33m(\u001b[0m\u001b[0ms\u001b[0m\u001b[1;33m)\u001b[0m\u001b[1;33m\u001b[0m\u001b[1;33m\u001b[0m\u001b[0m\n\u001b[0m\u001b[0;32m     16\u001b[0m \u001b[1;33m\u001b[0m\u001b[0m\n\u001b[0;32m     17\u001b[0m     \u001b[0mprint\u001b[0m\u001b[1;33m(\u001b[0m\u001b[0mwc\u001b[0m\u001b[1;33m.\u001b[0m\u001b[0mitems\u001b[0m\u001b[1;33m(\u001b[0m\u001b[1;33m)\u001b[0m\u001b[1;33m[\u001b[0m\u001b[0mi\u001b[0m\u001b[1;33m]\u001b[0m\u001b[1;33m)\u001b[0m\u001b[1;33m\u001b[0m\u001b[1;33m\u001b[0m\u001b[0m\n",
      "\u001b[1;31mAttributeError\u001b[0m: 'dict_values' object has no attribute 'index'"
     ]
    }
   ],
   "source": [
    "# Python program to find the most occurring \n",
    "# character and its count \n",
    "from collections import Counter \n",
    "  \n",
    "def find_most_occ_char(input): \n",
    "  \n",
    "    # now create dictionary using counter method \n",
    "    # which will have strings as key and their  \n",
    "    # frequencies as value \n",
    "    wc = Counter(input) \n",
    "  \n",
    "    # Finding maximum occurrence of a character  \n",
    "        # and get the index of it. \n",
    "    s = max(wc.values())\n",
    "    i = wc.values().index(s)\n",
    "    \n",
    "    print(wc.items()[i])\n",
    "  \n",
    "# Driver program \n",
    "if __name__ == \"__main__\": \n",
    "    input = 'geeksforgeeks'\n",
    "    find_most_occ_char(input)"
   ]
  },
  {
   "cell_type": "code",
   "execution_count": 115,
   "metadata": {},
   "outputs": [
    {
     "name": "stdout",
     "output_type": "stream",
     "text": [
      "26\n"
     ]
    }
   ],
   "source": [
    "# Formula based Python3 \n",
    "# program to find sum  \n",
    "# of alldivisors of n. \n",
    "import math \n",
    "  \n",
    "# Returns sum of all  \n",
    "# factors of n. \n",
    "def sumofFactors(n) : \n",
    "      \n",
    "    # If n is odd, then \n",
    "    # there are no even \n",
    "    # factors. \n",
    "    if (n % 2 != 0) : \n",
    "        return 0 \n",
    "   \n",
    "    # Traversing through \n",
    "    # all prime factors. \n",
    "    res = 1\n",
    "    for i in range(2, (int)(math.sqrt(n)) + 1) : \n",
    "          \n",
    "        # While i divides n \n",
    "        # print i and divide n \n",
    "        count = 0\n",
    "        curr_sum = 1\n",
    "        curr_term = 1\n",
    "        while (n % i == 0) : \n",
    "            count= count + 1\n",
    "   \n",
    "            n = n // i \n",
    "   \n",
    "            # here we remove the \n",
    "            # 2^0 that is 1. All \n",
    "            # other factors \n",
    "            if (i == 2 and count == 1) : \n",
    "                curr_sum = 0\n",
    "   \n",
    "            curr_term = curr_term * i \n",
    "            curr_sum = curr_sum + curr_term \n",
    "          \n",
    "        res = res * curr_sum \n",
    "          \n",
    "   \n",
    "    # This condition is to \n",
    "    # handle the case when \n",
    "    # n is a prime number. \n",
    "    if (n >= 2) : \n",
    "        res = res * (1 + n) \n",
    "   \n",
    "    return res \n",
    "  \n",
    "  \n",
    "# Driver code \n",
    "n = 18\n",
    "print(sumofFactors(n)) \n",
    "  \n",
    "  \n",
    "# This code is contributed by Nikita Tiwari. \n"
   ]
  },
  {
   "cell_type": "code",
   "execution_count": 116,
   "metadata": {},
   "outputs": [
    {
     "name": "stdout",
     "output_type": "stream",
     "text": [
      "Yes\n"
     ]
    }
   ],
   "source": [
    "# Python 3 program to \n",
    "# check the number is \n",
    "# divisible by all  \n",
    "# digits are not. \n",
    "  \n",
    "# Function to check  \n",
    "# the divisibility  \n",
    "# of the number by \n",
    "# its digit. \n",
    "def checkDivisibility(n, digit) : \n",
    "      \n",
    "    # If the digit divides the \n",
    "    # number then return true \n",
    "    # else return false. \n",
    "    return (digit != 0 and n % digit == 0) \n",
    "      \n",
    "# Function to check if \n",
    "# all digits of n divide \n",
    "# it or not \n",
    "def allDigitsDivide( n) : \n",
    "      \n",
    "    temp = n \n",
    "    while (temp > 0) : \n",
    "          \n",
    "        # Taking the digit of \n",
    "        # the number into digit \n",
    "        # var. \n",
    "        digit = n % 10\n",
    "        if ((checkDivisibility(n, digit)) == False) : \n",
    "            return False\n",
    "  \n",
    "        temp = temp // 10\n",
    "      \n",
    "    return True\n",
    "  \n",
    "# Driver function \n",
    "n = 128\n",
    "  \n",
    "if (allDigitsDivide(n)) : \n",
    "    print(\"Yes\") \n",
    "else : \n",
    "    print(\"No\" ) \n",
    "      \n",
    "# This code is contributed by Nikita Tiwari. \n"
   ]
  },
  {
   "cell_type": "code",
   "execution_count": 121,
   "metadata": {},
   "outputs": [
    {
     "ename": "TypeError",
     "evalue": "'str' object is not callable",
     "output_type": "error",
     "traceback": [
      "\u001b[1;31m---------------------------------------------------------------------------\u001b[0m",
      "\u001b[1;31mTypeError\u001b[0m                                 Traceback (most recent call last)",
      "\u001b[1;32m<ipython-input-121-1b216d9ef078>\u001b[0m in \u001b[0;36m<module>\u001b[1;34m\u001b[0m\n\u001b[0;32m     52\u001b[0m \u001b[1;31m# Take the user input for\u001b[0m\u001b[1;33m\u001b[0m\u001b[1;33m\u001b[0m\u001b[1;33m\u001b[0m\u001b[0m\n\u001b[0;32m     53\u001b[0m \u001b[1;31m# the floating point number\u001b[0m\u001b[1;33m\u001b[0m\u001b[1;33m\u001b[0m\u001b[1;33m\u001b[0m\u001b[0m\n\u001b[1;32m---> 54\u001b[1;33m \u001b[0mn\u001b[0m \u001b[1;33m=\u001b[0m \u001b[0minput\u001b[0m\u001b[1;33m(\u001b[0m\u001b[1;34m\"Enter your floating point value : \\n\"\u001b[0m\u001b[1;33m)\u001b[0m\u001b[1;33m\u001b[0m\u001b[1;33m\u001b[0m\u001b[0m\n\u001b[0m\u001b[0;32m     55\u001b[0m \u001b[1;33m\u001b[0m\u001b[0m\n\u001b[0;32m     56\u001b[0m \u001b[1;31m# Take user input for the number of decimal\u001b[0m\u001b[1;33m\u001b[0m\u001b[1;33m\u001b[0m\u001b[1;33m\u001b[0m\u001b[0m\n",
      "\u001b[1;31mTypeError\u001b[0m: 'str' object is not callable"
     ]
    }
   ],
   "source": [
    "# Python3 program to demonstrate \n",
    "# octal type conversion \n",
    "  \n",
    "# Function returns the octal representation \n",
    "# of the value passed as parameters. 'number' \n",
    "# is floating point decimal number and 'places' \n",
    "# is the number of decimal places \n",
    "def float_octal(number, places = 3): \n",
    "  \n",
    "    # split() seperates whole number and decimal  \n",
    "    # part and stores it in two seperate variables \n",
    "    whole, dec = str(number).split(\".\") \n",
    "  \n",
    "    # Convert both whole number and decimal   \n",
    "    # part from string type to integer type \n",
    "    whole = int(whole) \n",
    "    dec = int (dec) \n",
    "  \n",
    "    # Convert the whole number part to it's \n",
    "    # respective octal form and remove the \n",
    "    # \"0o\" from it. \n",
    "    res = oct(whole).lstrip(\"0o\") + \".\"\n",
    "  \n",
    "    # Iterate the number of times we want \n",
    "    # the number of decimal places to be \n",
    "    for x in range(places): \n",
    "  \n",
    "        # Multiply the decimal value by 8 and seperate  \n",
    "        # the whole number part and decimal part \n",
    "        whole, dec = str((decimal_converter(dec)) * 8).split(\".\") \n",
    "  \n",
    "        # Convert the decimal part \n",
    "        # to integer again \n",
    "        dec = int(dec) \n",
    "  \n",
    "        # keep adding the integer parts  \n",
    "        # received to the result variable \n",
    "        res += whole \n",
    "  \n",
    "    return res \n",
    "  \n",
    "# Function converts the value passed as \n",
    "# parameter to it's respective decimal \n",
    "# representation \n",
    "def decimal_converter(num): \n",
    "    while num > 1: \n",
    "        num /= 10\n",
    "    return num \n",
    "  \n",
    "# Driver Code \n",
    "  \n",
    "# Take the user input for  \n",
    "# the floating point number \n",
    "n = input(\"Enter your floating point value : \\n\") \n",
    "  \n",
    "# Take user input for the number of decimal  \n",
    "# places user would like the result as \n",
    "p = int(input(\"Enter the number of decimal places of the result : \\n\")) \n",
    "print(float_octal(n, places = p)) \n"
   ]
  },
  {
   "cell_type": "code",
   "execution_count": 122,
   "metadata": {},
   "outputs": [
    {
     "ename": "TypeError",
     "evalue": "'str' object is not callable",
     "output_type": "error",
     "traceback": [
      "\u001b[1;31m---------------------------------------------------------------------------\u001b[0m",
      "\u001b[1;31mTypeError\u001b[0m                                 Traceback (most recent call last)",
      "\u001b[1;32m<ipython-input-122-693e9eedef2a>\u001b[0m in \u001b[0;36m<module>\u001b[1;34m\u001b[0m\n\u001b[0;32m     49\u001b[0m \u001b[1;31m# Take the user input for\u001b[0m\u001b[1;33m\u001b[0m\u001b[1;33m\u001b[0m\u001b[1;33m\u001b[0m\u001b[0m\n\u001b[0;32m     50\u001b[0m \u001b[1;31m# the floating point number\u001b[0m\u001b[1;33m\u001b[0m\u001b[1;33m\u001b[0m\u001b[1;33m\u001b[0m\u001b[0m\n\u001b[1;32m---> 51\u001b[1;33m \u001b[0mn\u001b[0m \u001b[1;33m=\u001b[0m \u001b[0minput\u001b[0m\u001b[1;33m(\u001b[0m\u001b[1;34m\"Enter your floating point value : \\n\"\u001b[0m\u001b[1;33m)\u001b[0m\u001b[1;33m\u001b[0m\u001b[1;33m\u001b[0m\u001b[0m\n\u001b[0m\u001b[0;32m     52\u001b[0m \u001b[1;33m\u001b[0m\u001b[0m\n\u001b[0;32m     53\u001b[0m \u001b[1;31m# Take user input for the number of\u001b[0m\u001b[1;33m\u001b[0m\u001b[1;33m\u001b[0m\u001b[1;33m\u001b[0m\u001b[0m\n",
      "\u001b[1;31mTypeError\u001b[0m: 'str' object is not callable"
     ]
    }
   ],
   "source": [
    "# Python program to convert float \n",
    "# decimal to binary number \n",
    "  \n",
    "# Function returns octal representation \n",
    "def float_bin(number, places = 3): \n",
    "  \n",
    "    # split() seperates whole number and decimal  \n",
    "    # part and stores it in two seperate variables \n",
    "    whole, dec = str(number).split(\".\") \n",
    "  \n",
    "    # Convert both whole number and decimal   \n",
    "    # part from string type to integer type \n",
    "    whole = int(whole) \n",
    "    dec = int (dec) \n",
    "  \n",
    "    # Convert the whole number part to it's \n",
    "    # respective binary form and remove the \n",
    "    # \"0b\" from it. \n",
    "    res = bin(whole).lstrip(\"0b\") + \".\"\n",
    "  \n",
    "    # Iterate the number of times, we want \n",
    "    # the number of decimal places to be \n",
    "    for x in range(places): \n",
    "  \n",
    "        # Multiply the decimal value by 2  \n",
    "        # and seperate the whole number part \n",
    "        # and decimal part \n",
    "        whole, dec = str((decimal_converter(dec)) * 2).split(\".\") \n",
    "  \n",
    "        # Convert the decimal part \n",
    "        # to integer again \n",
    "        dec = int(dec) \n",
    "  \n",
    "        # Keep adding the integer parts  \n",
    "        # receive to the result variable \n",
    "        res += whole \n",
    "  \n",
    "    return res \n",
    "  \n",
    "# Function converts the value passed as \n",
    "# parameter to it's decimal representation \n",
    "def decimal_converter(num):  \n",
    "    while num > 1: \n",
    "        num /= 10\n",
    "    return num \n",
    "  \n",
    "# Driver Code \n",
    "  \n",
    "# Take the user input for  \n",
    "# the floating point number \n",
    "n = input(\"Enter your floating point value : \\n\") \n",
    "  \n",
    "# Take user input for the number of \n",
    "# decimal places user want result as \n",
    "p = int(input(\"Enter the number of decimal places of the result : \\n\")) \n",
    "  \n",
    "print(float_bin(n, places = p)) \n"
   ]
  },
  {
   "cell_type": "code",
   "execution_count": 125,
   "metadata": {},
   "outputs": [
    {
     "name": "stdout",
     "output_type": "stream",
     "text": [
      "Yes\n"
     ]
    }
   ],
   "source": [
    "# Python implementation of the above approach \n",
    "  \n",
    "# We first convert to given base, then \n",
    "# check if the converted number has two \n",
    "# consecutive 0s or not \n",
    "def hasConsecutiveZeroes(N, K): \n",
    "    z = toK(N, K) \n",
    "    if (check(z)): \n",
    "        print(\"Yes\") \n",
    "    else: \n",
    "        print(\"No\") \n",
    "  \n",
    "# Function to convert N into base K \n",
    "def toK(N, K): \n",
    "  \n",
    "    # Weight of each digit \n",
    "    w = 1\n",
    "    s = 0\n",
    "    while (N != 0): \n",
    "        r = N % K \n",
    "        N = N//K \n",
    "        s = r * w + s \n",
    "        w = w*10\n",
    "    return s \n",
    "  \n",
    "# Function to check for consecutive 0 \n",
    "def check(N): \n",
    "  \n",
    "    # Flag to check if there are consecutive  \n",
    "    # zero or not \n",
    "    fl = False\n",
    "    while (N != 0): \n",
    "        r = N % 10\n",
    "        N = N//10\n",
    "  \n",
    "        # If there are two consecutive zero  \n",
    "        # then returning False \n",
    "        if (fl == True and r == 0): \n",
    "            return False\n",
    "        if (r > 0): \n",
    "            fl = False\n",
    "            continue\n",
    "        fl = True\n",
    "    return True\n",
    "  \n",
    "# Driver code \n",
    "N, K = 15, 8\n",
    "hasConsecutiveZeroes(N, K) \n"
   ]
  },
  {
   "cell_type": "code",
   "execution_count": 126,
   "metadata": {},
   "outputs": [
    {
     "name": "stdout",
     "output_type": "stream",
     "text": [
      "For A =  26  and B =  2 , X can take  <function calculateDivisors at 0x000001C265104730>  values\n",
      "For A =  21  and B =  5 , X can take  <function calculateDivisors at 0x000001C265104730>  values\n"
     ]
    }
   ],
   "source": [
    "# Python Program to find number of possible \n",
    "# values of X to satisfy A mod X = B  \n",
    "import math \n",
    "  \n",
    "# Returns the number of divisors of (A - B) \n",
    "# greater than B \n",
    "def calculateDivisors (A, B): \n",
    "    N = A - B \n",
    "    noOfDivisors = 0 \n",
    "      \n",
    "    a = math.sqrt(N) \n",
    "    for i in range(1, int(a + 1)): \n",
    "        # if N is divisible by i \n",
    "        if ((N % i == 0)): \n",
    "            # count only the divisors greater than B \n",
    "            if (i > B): \n",
    "                noOfDivisors +=1\n",
    "                  \n",
    "            # checking if a divisor isnt counted twice \n",
    "            if ((N / i) != i and (N / i) > B): \n",
    "                noOfDivisors += 1; \n",
    "                  \n",
    "    return noOfDivisors \n",
    "      \n",
    "# Utility function to calculate number of all \n",
    "# possible values of X for which the modular \n",
    "# equation holds true  \n",
    "     \n",
    "def numberOfPossibleWaysUtil (A, B): \n",
    "    # if A = B there are infinitely many solutions \n",
    "    # to equation  or we say X can take infinitely \n",
    "    # many values > A. We return -1 in this case  \n",
    "    if (A == B): \n",
    "        return -1\n",
    "          \n",
    "    # if A < B, there are no possible values of \n",
    "    # X satisfying the equation \n",
    "    if (A < B): \n",
    "        return 0 \n",
    "          \n",
    "    # the last case is when A > B, here we calculate \n",
    "    # the number of divisors of (A - B), which are \n",
    "    # greater than B     \n",
    "      \n",
    "    noOfDivisors = 0\n",
    "    noOfDivisors = calculateDivisors; \n",
    "    return noOfDivisors \n",
    "          \n",
    "      \n",
    "# Wrapper function for numberOfPossibleWaysUtil()  \n",
    "def numberOfPossibleWays(A, B): \n",
    "    noOfSolutions = numberOfPossibleWaysUtil(A, B) \n",
    "      \n",
    "    #if infinitely many solutions available \n",
    "    if (noOfSolutions == -1): \n",
    "        print (\"For A = \" , A , \" and B = \" , B \n",
    "                , \", X can take Infinitely many values\"\n",
    "                , \" greater than \"  , A) \n",
    "      \n",
    "    else: \n",
    "        print (\"For A = \" , A , \" and B = \" , B \n",
    "                , \", X can take \" , noOfSolutions \n",
    "                , \" values\") \n",
    "# main() \n",
    "A = 26\n",
    "B = 2\n",
    "numberOfPossibleWays(A, B) \n",
    "  \n",
    "  \n",
    "A = 21\n",
    "B = 5\n",
    "numberOfPossibleWays(A, B) \n",
    "  \n",
    "# Contributed by _omg \n"
   ]
  },
  {
   "cell_type": "code",
   "execution_count": 127,
   "metadata": {},
   "outputs": [
    {
     "name": "stdout",
     "output_type": "stream",
     "text": [
      "84\n"
     ]
    }
   ],
   "source": [
    "# Python program to find X-th triangular \n",
    "# matchstick number \n",
    "  \n",
    "def numberOfSticks(x): \n",
    "    return (3 * x * (x + 1)) / 2\n",
    "      \n",
    "# main() \n",
    "print(int(numberOfSticks(7))) \n"
   ]
  },
  {
   "cell_type": "code",
   "execution_count": 128,
   "metadata": {},
   "outputs": [
    {
     "name": "stdout",
     "output_type": "stream",
     "text": [
      "Primes in the range  2500  and  2601  are:\n",
      "2503\n",
      "2521\n",
      "2531\n",
      "2539\n",
      "2543\n",
      "2549\n",
      "2551\n",
      "2557\n",
      "2579\n",
      "2591\n",
      "2593\n"
     ]
    }
   ],
   "source": [
    "# Python program to verify Legendre\\'s Conjecture \n",
    "# for a given n \n",
    "  \n",
    "import math  \n",
    "  \n",
    "def isprime( n ): \n",
    "      \n",
    "    i = 2\n",
    "    for i in range (2, int((math.sqrt(n)+1))): \n",
    "        if n%i == 0: \n",
    "            return False\n",
    "    return True\n",
    "      \n",
    "def LegendreConjecture( n ): \n",
    "    print ( \"Primes in the range \", n*n \n",
    "            , \" and \", (n+1)*(n+1) \n",
    "            , \" are:\" ) \n",
    "              \n",
    "      \n",
    "    for i in range (n*n, (((n+1)*(n+1))+1)): \n",
    "        if(isprime(i)): \n",
    "            print (i) \n",
    "              \n",
    "n = 50\n",
    "LegendreConjecture(n) \n",
    "  \n",
    "# Contributed by _omg \n"
   ]
  },
  {
   "cell_type": "code",
   "execution_count": 129,
   "metadata": {},
   "outputs": [
    {
     "name": "stdout",
     "output_type": "stream",
     "text": [
      "True\n"
     ]
    }
   ],
   "source": [
    "def isUniqueChars(st): \n",
    "  \n",
    "    # String length cannot be more than \n",
    "    # 256. \n",
    "    if len(st) > 256: \n",
    "        return False\n",
    "  \n",
    "    # Initialize occurrences of all characters \n",
    "    char_set = [False] * 128\n",
    "  \n",
    "    # For every character, check if it exists \n",
    "    # in char_set \n",
    "    for i in range(0, len(st)): \n",
    "  \n",
    "        # Find ASCII value and check if it \n",
    "        # exists in set. \n",
    "        val = ord(st[i]) \n",
    "        if char_set[val]: \n",
    "            return False\n",
    "  \n",
    "        char_set[val] = True\n",
    "  \n",
    "    return True\n",
    "  \n",
    "# driver code \n",
    "st = \"abcd\"\n",
    "print(isUniqueChars(st)) \n"
   ]
  },
  {
   "cell_type": "code",
   "execution_count": 137,
   "metadata": {},
   "outputs": [
    {
     "ename": "FileNotFoundError",
     "evalue": "[Errno 2] No such file or directory: 'bcd.txt'",
     "output_type": "error",
     "traceback": [
      "\u001b[1;31m---------------------------------------------------------------------------\u001b[0m",
      "\u001b[1;31mFileNotFoundError\u001b[0m                         Traceback (most recent call last)",
      "\u001b[1;32m<ipython-input-137-892f743243cd>\u001b[0m in \u001b[0;36m<module>\u001b[1;34m\u001b[0m\n\u001b[0;32m      1\u001b[0m \u001b[1;31m# open file in read mode\u001b[0m\u001b[1;33m\u001b[0m\u001b[1;33m\u001b[0m\u001b[1;33m\u001b[0m\u001b[0m\n\u001b[1;32m----> 2\u001b[1;33m \u001b[0mfn\u001b[0m \u001b[1;33m=\u001b[0m \u001b[0mopen\u001b[0m\u001b[1;33m(\u001b[0m\u001b[1;34m'bcd.txt'\u001b[0m\u001b[1;33m,\u001b[0m \u001b[1;34m'r'\u001b[0m\u001b[1;33m)\u001b[0m\u001b[1;33m\u001b[0m\u001b[1;33m\u001b[0m\u001b[0m\n\u001b[0m\u001b[0;32m      3\u001b[0m \u001b[1;33m\u001b[0m\u001b[0m\n\u001b[0;32m      4\u001b[0m \u001b[1;31m# open other file in write mode\u001b[0m\u001b[1;33m\u001b[0m\u001b[1;33m\u001b[0m\u001b[1;33m\u001b[0m\u001b[0m\n\u001b[0;32m      5\u001b[0m \u001b[0mfn1\u001b[0m \u001b[1;33m=\u001b[0m \u001b[0mopen\u001b[0m\u001b[1;33m(\u001b[0m\u001b[1;34m'nfile.txt'\u001b[0m\u001b[1;33m,\u001b[0m \u001b[1;34m'w'\u001b[0m\u001b[1;33m)\u001b[0m\u001b[1;33m\u001b[0m\u001b[1;33m\u001b[0m\u001b[0m\n",
      "\u001b[1;31mFileNotFoundError\u001b[0m: [Errno 2] No such file or directory: 'bcd.txt'"
     ]
    }
   ],
   "source": [
    "# open file in read mode \n",
    "fn = open('bcd.txt', 'r') \n",
    "  \n",
    "# open other file in write mode \n",
    "fn1 = open('nfile.txt', 'w') \n",
    "  \n",
    "# read the content of the file line by line \n",
    "cont = fn.readlines() \n",
    "type(cont) \n",
    "for i in range(0, len(cont)): \n",
    "    if(i % 2 != 0): \n",
    "        fn1.write(cont[i]) \n",
    "    else: \n",
    "        pass\n",
    "  \n",
    "# close the file \n",
    "fn1.close() \n",
    "  \n",
    "# open file in read mode \n",
    "fn1 = open('nfile.txt', 'r') \n",
    "  \n",
    "# read the content of the file \n",
    "cont1 = fn1.read() \n",
    "  \n",
    "# print the content of the file \n",
    "print(cont1) \n",
    "  \n",
    "# close all files \n",
    "fn.close() \n",
    "fn1.close() \n"
   ]
  },
  {
   "cell_type": "code",
   "execution_count": null,
   "metadata": {},
   "outputs": [],
   "source": []
  },
  {
   "cell_type": "code",
   "execution_count": null,
   "metadata": {},
   "outputs": [],
   "source": []
  }
 ],
 "metadata": {
  "kernelspec": {
   "display_name": "Python 3",
   "language": "python",
   "name": "python3"
  },
  "language_info": {
   "codemirror_mode": {
    "name": "ipython",
    "version": 3
   },
   "file_extension": ".py",
   "mimetype": "text/x-python",
   "name": "python",
   "nbconvert_exporter": "python",
   "pygments_lexer": "ipython3",
   "version": "3.7.3"
  }
 },
 "nbformat": 4,
 "nbformat_minor": 2
}
