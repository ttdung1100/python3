{
 "cells": [
  {
   "cell_type": "code",
   "execution_count": 2,
   "metadata": {},
   "outputs": [
    {
     "name": "stdout",
     "output_type": "stream",
     "text": [
      "2002,2009,2016,2023,2037,2044,2051,2058,2072,2079,2086,2093,2107,2114,2121,2128,2142,2149,2156,2163,2177,2184,2191,2198,2212,2219,2226,2233,2247,2254,2261,2268,2282,2289,2296,2303,2317,2324,2331,2338,2352,2359,2366,2373,2387,2394,2401,2408,2422,2429,2436,2443,2457,2464,2471,2478,2492,2499,2506,2513,2527,2534,2541,2548,2562,2569,2576,2583,2597,2604,2611,2618,2632,2639,2646,2653,2667,2674,2681,2688,2702,2709,2716,2723,2737,2744,2751,2758,2772,2779,2786,2793,2807,2814,2821,2828,2842,2849,2856,2863,2877,2884,2891,2898,2912,2919,2926,2933,2947,2954,2961,2968,2982,2989,2996,3003,3017,3024,3031,3038,3052,3059,3066,3073,3087,3094,3101,3108,3122,3129,3136,3143,3157,3164,3171,3178,3192,3199\n"
     ]
    }
   ],
   "source": [
    "l=[]\n",
    "for i in range(2000, 3201):\n",
    "    if (i%7==0) and (i%5!=0):\n",
    "        l.append(str(i))\n",
    "\n",
    "print (','.join(l))\n"
   ]
  },
  {
   "cell_type": "code",
   "execution_count": 13,
   "metadata": {},
   "outputs": [
    {
     "name": "stdout",
     "output_type": "stream",
     "text": [
      "Original String is JhonDipPeta\n",
      "Middle three chars are Dip\n",
      "Original String is Jasonay\n",
      "Middle three chars are son\n"
     ]
    }
   ],
   "source": [
    "def getMiddleThreeChars(sampleStr):\n",
    "  middleIndex = int(len(sampleStr) /2)\n",
    "  print(\"Original String is\", sampleStr)\n",
    "  middleThree = sampleStr[middleIndex-1:middleIndex+2]\n",
    "  print(\"Middle three chars are\", middleThree)\n",
    "  \n",
    "getMiddleThreeChars(\"JhonDipPeta\")\n",
    "getMiddleThreeChars(\"Jasonay\")"
   ]
  },
  {
   "cell_type": "code",
   "execution_count": 14,
   "metadata": {},
   "outputs": [
    {
     "name": "stdout",
     "output_type": "stream",
     "text": [
      "Original Strings are Chrisdem IamNewString\n",
      "After appending new string in middle ChrIamNewStringisdem\n"
     ]
    }
   ],
   "source": [
    "def appendMiddle(s1, s2):\n",
    "  middleIndex = int(len(s1) /2)\n",
    "  print(\"Original Strings are\", s1, s2)\n",
    "  middleThree = s1[:middleIndex-1:]+ s2 +s1[middleIndex-1:]\n",
    "  print(\"After appending new string in middle\", middleThree)\n",
    "  \n",
    "appendMiddle(\"Chrisdem\", \"IamNewString\")"
   ]
  },
  {
   "cell_type": "code",
   "execution_count": 15,
   "metadata": {},
   "outputs": [
    {
     "name": "stdout",
     "output_type": "stream",
     "text": [
      "Mix String is  AJrpan\n"
     ]
    }
   ],
   "source": [
    "def mixString(s1, s2):\n",
    "  resultString = s1[:1] + s2[:1] + s1[int(len(s1) /2):int(len(s1) /2)+1] +s2[int(len(s2) /2):int(len(s2) /2)+1] +s1[len(s1)-1] + s2[len(s2)-1]\n",
    "  print(\"Mix String is \", resultString)\n",
    "  \n",
    "s1 = \"America\"\n",
    "s2 = \"Japan\"\n",
    "mixString(s1, s2)"
   ]
  },
  {
   "cell_type": "code",
   "execution_count": 16,
   "metadata": {},
   "outputs": [
    {
     "name": "stdout",
     "output_type": "stream",
     "text": [
      "\n",
      " arranging characters giving precedence to lowercase letters:\n",
      "yaivePNT\n"
     ]
    }
   ],
   "source": [
    "inputStr = \"PyNaTive\"\n",
    "words = inputStr.split()\n",
    "lower = []\n",
    "upper = []\n",
    "for char in inputStr:\n",
    "    if char.islower():\n",
    "        lower.append(char)\n",
    "    else:\n",
    "        upper.append(char)\n",
    "sortedString = ''.join(lower + upper)\n",
    "print(\"\\n arranging characters giving precedence to lowercase letters:\")\n",
    "print(sortedString)"
   ]
  },
  {
   "cell_type": "code",
   "execution_count": 17,
   "metadata": {},
   "outputs": [
    {
     "name": "stdout",
     "output_type": "stream",
     "text": [
      "total counts of chars, digits,and symbols\n",
      "Chars =  8 Digits =  3 Symbol =  4\n",
      "None\n"
     ]
    }
   ],
   "source": [
    "def findDigitsCharsSymbols(inputString):\n",
    "  words = inputString.split()\n",
    "  charCount = 0\n",
    "  digitCount = 0\n",
    "  symbolCount = 0\n",
    "  for char in inputString:\n",
    "    if char.islower() or char.isupper():\n",
    "      charCount+=1\n",
    "    elif char.isnumeric():\n",
    "      digitCount+=1\n",
    "    else:\n",
    "      symbolCount+=1\n",
    "      \n",
    "  print(\"Chars = \", charCount, \"Digits = \", digitCount, \"Symbol = \", symbolCount)\n",
    "      \n",
    "inputString = \"P@#yn26at^&i5ve\"\n",
    "print(\"total counts of chars, digits,and symbols\")\n",
    "print(findDigitsCharsSymbols(inputString))"
   ]
  },
  {
   "cell_type": "code",
   "execution_count": 18,
   "metadata": {},
   "outputs": [
    {
     "name": "stdout",
     "output_type": "stream",
     "text": [
      "PeytniastbievWe\n"
     ]
    }
   ],
   "source": [
    "def mixString(s1, s2):\n",
    "  s2 = s2[::-1]\n",
    "  lengthS1 = len(s1)\n",
    "  lengthS2 = len(s2)\n",
    "  length  = lengthS1 if lengthS1 > lengthS2 else lengthS2 \n",
    "  resultString=\"\"\n",
    "  for i in range(length):\n",
    "    if(i < lengthS1):\n",
    "      resultString = resultString + s1[i]\n",
    "    if(i < lengthS2):\n",
    "      resultString = resultString + s2[i]\n",
    "    \n",
    "  print(resultString)\n",
    "  \n",
    "s1 = \"Pynative\"\n",
    "s2 = \"Website\"\n",
    "mixString(s1, s2)"
   ]
  },
  {
   "cell_type": "code",
   "execution_count": 19,
   "metadata": {},
   "outputs": [
    {
     "name": "stdout",
     "output_type": "stream",
     "text": [
      "s1 and s2 are balanced True\n",
      "s1 and s2 are balanced False\n"
     ]
    }
   ],
   "source": [
    "def stringBalanceCheck(s1, s2):\n",
    "  flag = True\n",
    "  for char in s1:\n",
    "    if char in s2:\n",
    "      continue\n",
    "    else:\n",
    "      flag = False\n",
    "  return flag\n",
    "  \n",
    "s1 = \"yn\"\n",
    "s2 = \"Pynative\"\n",
    "flag = stringBalanceCheck(s1, s2)\n",
    "print(\"s1 and s2 are balanced\", flag)\n",
    "s1 = \"ynf\"\n",
    "s2 = \"Pynative\"\n",
    "flag = stringBalanceCheck(s1, s2)\n",
    "print(\"s1 and s2 are balanced\", flag)"
   ]
  },
  {
   "cell_type": "code",
   "execution_count": 20,
   "metadata": {},
   "outputs": [
    {
     "name": "stdout",
     "output_type": "stream",
     "text": [
      "The USA count is: 2\n"
     ]
    }
   ],
   "source": [
    "inputString = \"Welcome to USA. usa awesome, isn't it?\"\n",
    "substring = \"USA\"\n",
    "tempString = inputString.lower()\n",
    "count = tempString.count(substring.lower())\n",
    "print(\"The USA count is:\", count)"
   ]
  },
  {
   "cell_type": "code",
   "execution_count": 23,
   "metadata": {},
   "outputs": [
    {
     "name": "stdout",
     "output_type": "stream",
     "text": [
      "Total Marks is: 294 Percentage is  73.5\n"
     ]
    }
   ],
   "source": [
    "import re\n",
    "inputStr = \"English = 78 Science = 83 Math = 68 History = 65\"\n",
    "markList = [int(num) for num in re.findall(r'\\b\\d+\\b', inputStr)]\n",
    "totalMarks = 0\n",
    "for mark in markList:\n",
    "  totalMarks+=mark\n",
    "percentage = totalMarks/len(markList)  \n",
    "print(\"Total Marks is:\", totalMarks, \"Percentage is \", percentage)"
   ]
  },
  {
   "cell_type": "code",
   "execution_count": 24,
   "metadata": {},
   "outputs": [
    {
     "name": "stdout",
     "output_type": "stream",
     "text": [
      "{'p': 3, 'y': 3, 'n': 3, 'a': 2, 't': 2, 'i': 2, 'v': 3, 'e': 3}\n"
     ]
    }
   ],
   "source": [
    "inputStr = \"pynativepynvepynative\"\n",
    "countDict = dict()\n",
    "for char in inputStr:\n",
    "  count = inputStr.count(char)\n",
    "  countDict[char]=count\n",
    "print(countDict)"
   ]
  },
  {
   "cell_type": "code",
   "execution_count": 25,
   "metadata": {},
   "outputs": [
    {
     "name": "stdout",
     "output_type": "stream",
     "text": [
      "Element at odd-index positions from list one\n",
      "[6, 12, 18]\n",
      "Element at odd-index positions from list two\n",
      "[4, 12, 20, 28]\n",
      "Printing Final third list\n",
      "[6, 12, 18, 4, 12, 20, 28]\n"
     ]
    }
   ],
   "source": [
    "listOne = [3, 6, 9, 12, 15, 18, 21]\n",
    "listTwo = [4, 8, 12, 16, 20, 24, 28]\n",
    "listThree = list()\n",
    "oddElements = listOne[1::2]\n",
    "print(\"Element at odd-index positions from list one\")\n",
    "print(oddElements)\n",
    "EvenElement = listTwo[0::2]\n",
    "print(\"Element at odd-index positions from list two\")\n",
    "print(EvenElement)\n",
    "print(\"Printing Final third list\")\n",
    "listThree.extend(oddElements)\n",
    "listThree.extend(EvenElement)\n",
    "print(listThree)"
   ]
  },
  {
   "cell_type": "code",
   "execution_count": 26,
   "metadata": {},
   "outputs": [
    {
     "name": "stdout",
     "output_type": "stream",
     "text": [
      "Origigal list  [34, 54, 67, 89, 11, 43, 94]\n",
      "List After removing element at index 4  [34, 54, 67, 89, 43, 94]\n",
      "List after Adding element at index 2  [34, 54, 11, 67, 89, 43, 94]\n",
      "List after Adding element at last  [34, 54, 11, 67, 89, 43, 94, 11]\n"
     ]
    }
   ],
   "source": [
    "sampleList = [34, 54, 67, 89, 11, 43, 94]\n",
    "print(\"Origigal list \", sampleList)\n",
    "element = sampleList.pop(4)\n",
    "print(\"List After removing element at index 4 \", sampleList)\n",
    "sampleList.insert(2, element)\n",
    "print(\"List after Adding element at index 2 \", sampleList)\n",
    "sampleList.append(element)\n",
    "print(\"List after Adding element at last \", sampleList)"
   ]
  },
  {
   "cell_type": "code",
   "execution_count": 27,
   "metadata": {},
   "outputs": [
    {
     "name": "stdout",
     "output_type": "stream",
     "text": [
      "Origigal list  [11, 45, 8, 23, 14, 12, 78, 45, 89]\n",
      "Chunk  1 [11, 45, 8]\n",
      "After reversing it  [8, 45, 11]\n",
      "Chunk  2 [23, 14, 12]\n",
      "After reversing it  [12, 14, 23]\n",
      "Chunk  3 [78, 45, 89]\n",
      "After reversing it  [89, 45, 78]\n"
     ]
    }
   ],
   "source": [
    "sampleList = [11, 45, 8, 23, 14, 12, 78, 45, 89]\n",
    "print(\"Origigal list \", sampleList)\n",
    "length = len(sampleList)\n",
    "chunkSize  = int(length/3)\n",
    "start = 0\n",
    "end = chunkSize\n",
    "for i in range(1, 4, 1):\n",
    "  indexes = slice(start, end, 1)\n",
    "  listChunk = sampleList[indexes]\n",
    "  print(\"Chunk \", i , listChunk)\n",
    "  print(\"After reversing it \", list(reversed(listChunk)))\n",
    "  start = end\n",
    "  if(i != 2):\n",
    "    end +=chunkSize\n",
    "  else:\n",
    "    end += length - chunkSize"
   ]
  },
  {
   "cell_type": "code",
   "execution_count": 28,
   "metadata": {},
   "outputs": [
    {
     "name": "stdout",
     "output_type": "stream",
     "text": [
      "Origigal list  [11, 45, 8, 11, 23, 45, 23, 45, 89]\n",
      "Printing count of each item   {11: 2, 45: 3, 8: 1, 23: 2, 89: 1}\n"
     ]
    }
   ],
   "source": [
    "sampleList = [11, 45, 8, 11, 23, 45, 23, 45, 89]\n",
    "print(\"Origigal list \", sampleList)\n",
    "countDict = dict()\n",
    "for item in sampleList:\n",
    "  if(item in countDict):\n",
    "    countDict[item] += 1\n",
    "  else:\n",
    "    countDict[item] = 1\n",
    "  \n",
    "print(\"Printing count of each item  \",countDict)"
   ]
  },
  {
   "cell_type": "code",
   "execution_count": 29,
   "metadata": {},
   "outputs": [
    {
     "name": "stdout",
     "output_type": "stream",
     "text": [
      "Origigal list  [11, 45, 8, 11, 23, 45, 23, 45, 89]\n",
      "Printing count of each item   {11: 2, 45: 3, 8: 1, 23: 2, 89: 1}\n"
     ]
    }
   ],
   "source": [
    "sampleList = [11, 45, 8, 11, 23, 45, 23, 45, 89]\n",
    "print(\"Origigal list \", sampleList)\n",
    "countDict = dict()\n",
    "for item in sampleList:\n",
    "  if(item in countDict):\n",
    "    countDict[item] += 1\n",
    "  else:\n",
    "    countDict[item] = 1\n",
    "  \n",
    "print(\"Printing count of each item  \",countDict)\n"
   ]
  },
  {
   "cell_type": "code",
   "execution_count": 30,
   "metadata": {},
   "outputs": [
    {
     "name": "stdout",
     "output_type": "stream",
     "text": [
      "First List  [2, 3, 4, 5, 6, 7, 8]\n",
      "Second List  [4, 9, 16, 25, 36, 49, 64]\n",
      "{(6, 36), (8, 64), (4, 16), (5, 25), (3, 9), (7, 49), (2, 4)}\n"
     ]
    }
   ],
   "source": [
    "firstList = [2, 3, 4, 5, 6, 7, 8]\n",
    "print(\"First List \", firstList)\n",
    "secondList = [4, 9, 16, 25, 36, 49, 64]\n",
    "print(\"Second List \", secondList)\n",
    "result = zip(firstList, secondList)\n",
    "resultSet = set(result)\n",
    "print(resultSet)"
   ]
  },
  {
   "cell_type": "code",
   "execution_count": 31,
   "metadata": {},
   "outputs": [
    {
     "name": "stdout",
     "output_type": "stream",
     "text": [
      "First Set  {65, 42, 78, 83, 23, 57, 29}\n",
      "Second Set  {67, 73, 43, 48, 83, 57, 29}\n",
      "Intersection is  {57, 83, 29}\n",
      "First Set after removing common element  {65, 42, 78, 23}\n"
     ]
    }
   ],
   "source": [
    "firstSet  = {23, 42, 65, 57, 78, 83, 29}\n",
    "secondSet = {57, 83, 29, 67, 73, 43, 48}\n",
    "print(\"First Set \", firstSet)\n",
    "print(\"Second Set \", secondSet)\n",
    "intersection = firstSet.intersection(secondSet)\n",
    "print(\"Intersection is \", intersection)\n",
    "for item in intersection:\n",
    "  firstSet.remove(item)\n",
    "print(\"First Set after removing common element \", firstSet)"
   ]
  },
  {
   "cell_type": "code",
   "execution_count": 32,
   "metadata": {},
   "outputs": [
    {
     "name": "stdout",
     "output_type": "stream",
     "text": [
      "First Set  {57, 83, 29}\n",
      "Second Set  {67, 73, 43, 48, 83, 57, 29}\n",
      "First set is subset of second set - True\n",
      "Second set is subset of First set -  False\n",
      "First set is Super set of second set -  False\n",
      "Second set is Super set of First set -  True\n",
      "First Set  set()\n",
      "Second Set  {67, 73, 43, 48, 83, 57, 29}\n"
     ]
    }
   ],
   "source": [
    "firstSet  = {57, 83, 29}\n",
    "secondSet = {57, 83, 29, 67, 73, 43, 48}\n",
    "print(\"First Set \", firstSet)\n",
    "print(\"Second Set \", secondSet)\n",
    "print(\"First set is subset of second set -\", firstSet.issubset(secondSet))\n",
    "print(\"Second set is subset of First set - \", secondSet.issubset(firstSet))\n",
    "print(\"First set is Super set of second set - \", firstSet.issuperset(secondSet))\n",
    "print(\"Second set is Super set of First set - \", secondSet.issuperset(firstSet))\n",
    "if(firstSet.issubset(secondSet)):\n",
    "  firstSet.clear()\n",
    "  \n",
    "if(secondSet.issubset(firstSet)):\n",
    "  secondSet.clear()\n",
    "print(\"First Set \", firstSet)\n",
    "print(\"Second Set \", secondSet)"
   ]
  },
  {
   "cell_type": "code",
   "execution_count": 33,
   "metadata": {},
   "outputs": [
    {
     "name": "stdout",
     "output_type": "stream",
     "text": [
      "List - [47, 64, 69, 37, 76, 83, 95, 97]\n",
      "Dictionary -  {'Jhon': 47, 'Emma': 69, 'Kelly': 76, 'Jason': 97}\n",
      "after removing unwanted elemnts from list  [47, 69, 76, 97]\n"
     ]
    }
   ],
   "source": [
    "rollNumber  = [47, 64, 69, 37, 76, 83, 95, 97]\n",
    "sampleDict  ={'Jhon':47, 'Emma':69, 'Kelly':76, 'Jason':97} \n",
    "print(\"List -\", rollNumber)\n",
    "print(\"Dictionary - \", sampleDict)\n",
    "rollNumber[:] = [item for item in rollNumber if item in sampleDict.values()]\n",
    "print(\"after removing unwanted elemnts from list \", rollNumber)"
   ]
  },
  {
   "cell_type": "code",
   "execution_count": 34,
   "metadata": {},
   "outputs": [
    {
     "name": "stdout",
     "output_type": "stream",
     "text": [
      "Dictionary's values -  dict_values([47, 52, 47, 44, 52, 53, 54, 44, 54])\n",
      "unique list [47, 52, 44, 53, 54]\n"
     ]
    }
   ],
   "source": [
    "speed  ={'jan':47, 'feb':52, 'march':47, 'April':44, 'May':52, 'June':53,\n",
    "          'july':54, 'Aug':44, 'Sept':54} \n",
    "print(\"Dictionary's values - \", speed.values())\n",
    "speedList = list()\n",
    "for item in speed.values():\n",
    "  if item not in speedList:\n",
    "    speedList.append(item)\n",
    "print(\"unique list\", speedList)"
   ]
  },
  {
   "cell_type": "code",
   "execution_count": 2,
   "metadata": {},
   "outputs": [
    {
     "name": "stdout",
     "output_type": "stream",
     "text": [
      "Original list [87, 52, 44, 53, 54, 87, 52, 53]\n",
      "unique list [44, 52, 53, 54, 87]\n",
      "tuple  (44, 52, 53, 54, 87)\n",
      "Minimum number is:  44\n",
      "Maximum number is:  87\n"
     ]
    }
   ],
   "source": [
    "sampleList = [87, 52, 44, 53, 54, 87, 52, 53]\n",
    "print(\"Original list\", sampleList)\n",
    "sampleList = list(set(sampleList))\n",
    "print(\"unique list\", sampleList)\n",
    "tuple = tuple(sampleList)\n",
    "print(\"tuple \", tuple)\n",
    "print(\"Minimum number is: \", min(tuple))\n",
    "print(\"Maximum number is: \", max(tuple))\n"
   ]
  },
  {
   "cell_type": "code",
   "execution_count": 1,
   "metadata": {},
   "outputs": [
    {
     "name": "stdout",
     "output_type": "stream",
     "text": [
      "Printing Array\n",
      "[[ 6792   509]\n",
      " [  437     0]\n",
      " [56968  1238]\n",
      " [  437     0]]\n",
      "Printing numpy array Attributes\n",
      "1> Array Shape is:  (4, 2)\n",
      "2>. Array dimensions are  2\n",
      "3>. Length of each element of array in bytes is  2\n"
     ]
    }
   ],
   "source": [
    "import numpy\n",
    "firstArray = numpy.empty([4,2], dtype = numpy.uint16) \n",
    "print(\"Printing Array\")\n",
    "print(firstArray)\n",
    "print(\"Printing numpy array Attributes\")\n",
    "print(\"1> Array Shape is: \", firstArray.shape)\n",
    "print(\"2>. Array dimensions are \", firstArray.ndim)\n",
    "print(\"3>. Length of each element of array in bytes is \", firstArray.itemsize)"
   ]
  },
  {
   "cell_type": "code",
   "execution_count": 3,
   "metadata": {},
   "outputs": [
    {
     "name": "stdout",
     "output_type": "stream",
     "text": [
      "Creating 5X2 array using numpy.arange\n",
      "[[100 110]\n",
      " [120 130]\n",
      " [140 150]\n",
      " [160 170]\n",
      " [180 190]]\n"
     ]
    }
   ],
   "source": [
    "import numpy\n",
    "print(\"Creating 5X2 array using numpy.arange\")\n",
    "sampleArray = numpy.arange(100, 200, 10)\n",
    "sampleArray = sampleArray.reshape(5,2)\n",
    "print (sampleArray)"
   ]
  },
  {
   "cell_type": "code",
   "execution_count": 4,
   "metadata": {},
   "outputs": [
    {
     "name": "stdout",
     "output_type": "stream",
     "text": [
      "Printing Input Array\n",
      "[[11 22 33]\n",
      " [44 55 66]\n",
      " [77 88 99]]\n",
      "\n",
      " Printing array of items in the third column from all rows\n",
      "[22 55 88]\n"
     ]
    }
   ],
   "source": [
    "import numpy\n",
    "sampleArray = numpy.array([[11 ,22, 33], [44, 55, 66], [77, 88, 99]]) \n",
    "print(\"Printing Input Array\")\n",
    "print(sampleArray)\n",
    "print(\"\\n Printing array of items in the third column from all rows\")\n",
    "newArray = sampleArray[...,1]\n",
    "print(newArray)"
   ]
  },
  {
   "cell_type": "code",
   "execution_count": 5,
   "metadata": {},
   "outputs": [
    {
     "name": "stdout",
     "output_type": "stream",
     "text": [
      "Printing Input Array\n",
      "[[ 3  6  9 12]\n",
      " [15 18 21 24]\n",
      " [27 30 33 36]\n",
      " [39 42 45 48]\n",
      " [51 54 57 60]]\n",
      "\n",
      " Printing array of odd rows and even columns\n",
      "[[ 6 12]\n",
      " [30 36]\n",
      " [54 60]]\n"
     ]
    }
   ],
   "source": [
    "import numpy\n",
    "sampleArray = numpy.array([[3 ,6, 9, 12], [15 ,18, 21, 24], \n",
    "[27 ,30, 33, 36], [39 ,42, 45, 48], [51 ,54, 57, 60]]) \n",
    "print(\"Printing Input Array\")\n",
    "print(sampleArray)\n",
    "print(\"\\n Printing array of odd rows and even columns\")\n",
    "newArray = sampleArray[::2, 1::2]\n",
    "print(newArray)"
   ]
  },
  {
   "cell_type": "code",
   "execution_count": 6,
   "metadata": {},
   "outputs": [
    {
     "name": "stdout",
     "output_type": "stream",
     "text": [
      "addition of two arrays is \n",
      "\n",
      "[[20 39 33]\n",
      " [25 25 28]]\n",
      "\n",
      "Result array after calculating the square root of all elements\n",
      "\n",
      "[[ 400 1521 1089]\n",
      " [ 625  625  784]]\n"
     ]
    }
   ],
   "source": [
    "import numpy\n",
    "arrayOne = numpy.array([[5, 6, 9], [21 ,18, 27]])\n",
    "arrayTwo = numpy.array([[15 ,33, 24], [4 ,7, 1]])\n",
    "resultArray  = arrayOne + arrayTwo\n",
    "print(\"addition of two arrays is \\n\")\n",
    "print(resultArray)\n",
    "for num in numpy.nditer(resultArray, op_flags = ['readwrite']):\n",
    "   num[...] = num*num\n",
    "print(\"\\nResult array after calculating the square root of all elements\\n\")\n",
    "print(resultArray)"
   ]
  },
  {
   "cell_type": "code",
   "execution_count": 7,
   "metadata": {},
   "outputs": [
    {
     "name": "stdout",
     "output_type": "stream",
     "text": [
      "Creating 8X3 array using numpy.arange\n",
      "[[10 11 12]\n",
      " [13 14 15]\n",
      " [16 17 18]\n",
      " [19 20 21]\n",
      " [22 23 24]\n",
      " [25 26 27]\n",
      " [28 29 30]\n",
      " [31 32 33]]\n",
      "\n",
      "Dividing 8X3 array into 4 sub array\n",
      "\n",
      "[array([[10, 11, 12],\n",
      "       [13, 14, 15]]), array([[16, 17, 18],\n",
      "       [19, 20, 21]]), array([[22, 23, 24],\n",
      "       [25, 26, 27]]), array([[28, 29, 30],\n",
      "       [31, 32, 33]])]\n"
     ]
    }
   ],
   "source": [
    "import numpy\n",
    "print(\"Creating 8X3 array using numpy.arange\")\n",
    "sampleArray = numpy.arange(10, 34, 1)\n",
    "sampleArray = sampleArray.reshape(8,3)\n",
    "print (sampleArray)\n",
    "print(\"\\nDividing 8X3 array into 4 sub array\\n\")\n",
    "subArrays = numpy.split(sampleArray, 4) \n",
    "print(subArrays)"
   ]
  },
  {
   "cell_type": "code",
   "execution_count": 8,
   "metadata": {},
   "outputs": [
    {
     "name": "stdout",
     "output_type": "stream",
     "text": [
      "Printing Original array\n",
      "[[34 43 73]\n",
      " [82 22 12]\n",
      " [53 94 66]]\n",
      "Sorting Original array by secoond row\n",
      "[[73 43 34]\n",
      " [12 22 82]\n",
      " [66 94 53]]\n",
      "Sorting Original array by secoond column\n",
      "[[82 22 12]\n",
      " [34 43 73]\n",
      " [53 94 66]]\n"
     ]
    }
   ],
   "source": [
    "import numpy\n",
    "print(\"Printing Original array\")\n",
    "sampleArray = numpy.array([[34,43,73],[82,22,12],[53,94,66]]) \n",
    "print (sampleArray)\n",
    "sortArrayByRow = sampleArray[:,sampleArray[1,:].argsort()]\n",
    "print(\"Sorting Original array by secoond row\")\n",
    "print(sortArrayByRow)\n",
    "print(\"Sorting Original array by secoond column\")\n",
    "sortArrayByColumn = sampleArray[sampleArray[:,1].argsort()]\n",
    "print(sortArrayByColumn)"
   ]
  },
  {
   "cell_type": "code",
   "execution_count": 9,
   "metadata": {},
   "outputs": [
    {
     "name": "stdout",
     "output_type": "stream",
     "text": [
      "Printing Original array\n",
      "[[34 43 73]\n",
      " [82 22 12]\n",
      " [53 94 66]]\n",
      "Printing amin Of Axis 1\n",
      "[34 12 53]\n",
      "Printing amax Of Axis 0\n",
      "[82 94 73]\n"
     ]
    }
   ],
   "source": [
    "import numpy\n",
    "print(\"Printing Original array\")\n",
    "sampleArray = numpy.array([[34,43,73],[82,22,12],[53,94,66]]) \n",
    "print (sampleArray)\n",
    "minOfAxisOne = numpy.amin(sampleArray, 1) \n",
    "print(\"Printing amin Of Axis 1\")\n",
    "print(minOfAxisOne)\n",
    "maxOfAxisOne = numpy.amax(sampleArray, 0) \n",
    "print(\"Printing amax Of Axis 0\")\n",
    "print(maxOfAxisOne)"
   ]
  },
  {
   "cell_type": "code",
   "execution_count": 10,
   "metadata": {},
   "outputs": [
    {
     "name": "stdout",
     "output_type": "stream",
     "text": [
      "Printing Original array\n",
      "[[34 43 73]\n",
      " [82 22 12]\n",
      " [53 94 66]]\n",
      "Array after deleting column 2 on axis 1\n",
      "[[34 73]\n",
      " [82 12]\n",
      " [53 66]]\n",
      "Array after inserting column 2 on axis 1\n",
      "[[34 10 73]\n",
      " [82 10 12]\n",
      " [53 10 66]]\n"
     ]
    }
   ],
   "source": [
    "import numpy\n",
    "print(\"Printing Original array\")\n",
    "sampleArray = numpy.array([[34,43,73],[82,22,12],[53,94,66]]) \n",
    "print (sampleArray)\n",
    "print(\"Array after deleting column 2 on axis 1\")\n",
    "sampleArray = numpy.delete(sampleArray , 1, axis = 1) \n",
    "print (sampleArray)\n",
    "arr = numpy.array([[10,10,10]])\n",
    "print(\"Array after inserting column 2 on axis 1\")\n",
    "sampleArray = numpy.insert(sampleArray , 1, arr, axis = 1) \n",
    "print (sampleArray)"
   ]
  },
  {
   "cell_type": "code",
   "execution_count": 11,
   "metadata": {},
   "outputs": [
    {
     "name": "stdout",
     "output_type": "stream",
     "text": [
      "Printing Original array\n",
      "[[34 43 73]\n",
      " [82 22 12]\n",
      " [53 94 66]]\n",
      "Array after deleting column 2 on axis 1\n",
      "[[34 73]\n",
      " [82 12]\n",
      " [53 66]]\n",
      "Array after inserting column 2 on axis 1\n",
      "[[34 10 73]\n",
      " [82 10 12]\n",
      " [53 10 66]]\n"
     ]
    }
   ],
   "source": [
    "import numpy\n",
    "print(\"Printing Original array\")\n",
    "sampleArray = numpy.array([[34,43,73],[82,22,12],[53,94,66]]) \n",
    "print (sampleArray)\n",
    "print(\"Array after deleting column 2 on axis 1\")\n",
    "sampleArray = numpy.delete(sampleArray , 1, axis = 1) \n",
    "print (sampleArray)\n",
    "arr = numpy.array([[10,10,10]])\n",
    "print(\"Array after inserting column 2 on axis 1\")\n",
    "sampleArray = numpy.insert(sampleArray , 1, arr, axis = 1) \n",
    "print (sampleArray)"
   ]
  },
  {
   "cell_type": "code",
   "execution_count": 12,
   "metadata": {},
   "outputs": [
    {
     "name": "stdout",
     "output_type": "stream",
     "text": [
      "Generating 3 random integer number between 100 and 999 divisible by 5\n",
      "300, 350, 170, "
     ]
    }
   ],
   "source": [
    "import random\n",
    "print(\"Generating 3 random integer number between 100 and 999 divisible by 5\")\n",
    "for num in range(3):\n",
    "    print(random.randrange(100, 999, 5), end=', ')"
   ]
  },
  {
   "cell_type": "code",
   "execution_count": 13,
   "metadata": {},
   "outputs": [
    {
     "name": "stdout",
     "output_type": "stream",
     "text": [
      "Generating 3 random integer number between 100 and 999 divisible by 5\n",
      "455, 300, 235, "
     ]
    }
   ],
   "source": [
    "import random\n",
    "print(\"Generating 3 random integer number between 100 and 999 divisible by 5\")\n",
    "for num in range(3):\n",
    "    print(random.randrange(100, 999, 5), end=', ')"
   ]
  },
  {
   "cell_type": "code",
   "execution_count": 14,
   "metadata": {},
   "outputs": [
    {
     "name": "stdout",
     "output_type": "stream",
     "text": [
      "creating 100 random lottery tickets\n",
      "Lucky 2 lottery tickets are [2680998138, 3995124633]\n"
     ]
    }
   ],
   "source": [
    "import random\n",
    "lottery_tickets_list = []\n",
    "print(\"creating 100 random lottery tickets\")\n",
    "for i in range(100):\n",
    "    lottery_tickets_list.append(random.randrange(1000000000, 9999999999))\n",
    "winners = random.sample(lottery_tickets_list, 2)\n",
    "print(\"Lucky 2 lottery tickets are\", winners)"
   ]
  },
  {
   "cell_type": "code",
   "execution_count": 15,
   "metadata": {},
   "outputs": [
    {
     "name": "stdout",
     "output_type": "stream",
     "text": [
      "Generating 6 digit random OTP\n",
      "Secure random OTP is  659370\n"
     ]
    }
   ],
   "source": [
    "import secrets\n",
    "#Getting systemRandom class instance out of secrets module\n",
    "secretsGenerator = secrets.SystemRandom()\n",
    "print(\"Generating 6 digit random OTP\")\n",
    "otp = secretsGenerator.randrange(100000, 999999)\n",
    "print(\"Secure random OTP is \", otp)"
   ]
  },
  {
   "cell_type": "code",
   "execution_count": 16,
   "metadata": {},
   "outputs": [
    {
     "name": "stdout",
     "output_type": "stream",
     "text": [
      "random char is  i\n"
     ]
    }
   ],
   "source": [
    "import random\n",
    "name = 'pynative'\n",
    "char = random.choice(name)\n",
    "print(\"random char is \", char)"
   ]
  },
  {
   "cell_type": "code",
   "execution_count": 17,
   "metadata": {},
   "outputs": [
    {
     "name": "stdout",
     "output_type": "stream",
     "text": [
      "Generating 3 random integer number between 100 and 999 divisible by 5\n",
      "565, 630, 850, "
     ]
    }
   ],
   "source": [
    "import random\n",
    "print(\"Generating 3 random integer number between 100 and 999 divisible by 5\")\n",
    "for num in range(3):\n",
    "    print(random.randrange(100, 999, 5), end=', ')"
   ]
  },
  {
   "cell_type": "code",
   "execution_count": 18,
   "metadata": {},
   "outputs": [
    {
     "name": "stdout",
     "output_type": "stream",
     "text": [
      "creating 100 random lottery tickets\n",
      "Lucky 2 lottery tickets are [5556724319, 1319184475]\n"
     ]
    }
   ],
   "source": [
    "import random\n",
    "lottery_tickets_list = []\n",
    "print(\"creating 100 random lottery tickets\")\n",
    "for i in range(100):\n",
    "    lottery_tickets_list.append(random.randrange(1000000000, 9999999999))\n",
    "winners = random.sample(lottery_tickets_list, 2)\n",
    "print(\"Lucky 2 lottery tickets are\", winners)"
   ]
  },
  {
   "cell_type": "code",
   "execution_count": 19,
   "metadata": {},
   "outputs": [
    {
     "name": "stdout",
     "output_type": "stream",
     "text": [
      "Generating 6 digit random OTP\n",
      "Secure random OTP is  830378\n"
     ]
    }
   ],
   "source": [
    "import secrets\n",
    "#Getting systemRandom class instance out of secrets module\n",
    "secretsGenerator = secrets.SystemRandom()\n",
    "print(\"Generating 6 digit random OTP\")\n",
    "otp = secretsGenerator.randrange(100000, 999999)\n",
    "print(\"Secure random OTP is \", otp)"
   ]
  },
  {
   "cell_type": "code",
   "execution_count": 20,
   "metadata": {},
   "outputs": [
    {
     "name": "stdout",
     "output_type": "stream",
     "text": [
      "random char is  t\n"
     ]
    }
   ],
   "source": [
    "import random\n",
    "name = 'pynative'\n",
    "char = random.choice(name)\n",
    "print(\"random char is \", char)"
   ]
  },
  {
   "cell_type": "code",
   "execution_count": 21,
   "metadata": {},
   "outputs": [
    {
     "name": "stdout",
     "output_type": "stream",
     "text": [
      "Random String is  kSFio\n"
     ]
    }
   ],
   "source": [
    "import random\n",
    "import string\n",
    "def randomString(stringLength):\n",
    "    \"\"\"Generate a random string of 5 charcters\"\"\"\n",
    "    letters = string.ascii_letters\n",
    "    return ''.join(random.choice(letters) for i in range(stringLength))\n",
    "print (\"Random String is \", randomString(5) )"
   ]
  },
  {
   "cell_type": "code",
   "execution_count": 22,
   "metadata": {},
   "outputs": [
    {
     "name": "stdout",
     "output_type": "stream",
     "text": [
      "First Random float is  0.9015757627953566\n",
      "Second Random float is  0.9015757627953566\n",
      "Multiplication is  45.11696187599632\n"
     ]
    }
   ],
   "source": [
    "import random\n",
    "num1  = random.random()\n",
    "print(\"First Random float is \", num1)\n",
    "num2 = random.uniform(9.5, 99.5)\n",
    "print(\"Second Random float is \", num1)\n",
    "num3 = num1 * num2\n",
    "print(\"Multiplication is \", num3)"
   ]
  },
  {
   "cell_type": "code",
   "execution_count": null,
   "metadata": {},
   "outputs": [],
   "source": []
  }
 ],
 "metadata": {
  "kernelspec": {
   "display_name": "Python 3",
   "language": "python",
   "name": "python3"
  },
  "language_info": {
   "codemirror_mode": {
    "name": "ipython",
    "version": 3
   },
   "file_extension": ".py",
   "mimetype": "text/x-python",
   "name": "python",
   "nbconvert_exporter": "python",
   "pygments_lexer": "ipython3",
   "version": "3.7.3"
  }
 },
 "nbformat": 4,
 "nbformat_minor": 2
}
